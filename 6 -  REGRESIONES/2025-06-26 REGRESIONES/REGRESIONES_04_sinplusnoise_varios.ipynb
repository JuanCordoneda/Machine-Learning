{
  "cells": [
    {
      "cell_type": "code",
      "execution_count": 7,
      "metadata": {
        "id": "tr3lhVxC3y_T"
      },
      "outputs": [],
      "source": [
        "import numpy as np\n",
        "import matplotlib.pyplot as plt\n",
        "# Importamos la clase de Regresión Lineal de scikit-learn\n",
        "from sklearn.linear_model import LinearRegression\n",
        "# para generar características polinómicas\n",
        "from sklearn.preprocessing import PolynomialFeatures\n",
        "from sklearn.metrics import mean_squared_error, mean_absolute_error,r2_score # importamos el cálculo del error cuadrático medio (MSE)"
      ]
    },
    {
      "cell_type": "code",
      "execution_count": 16,
      "metadata": {
        "colab": {
          "base_uri": "https://localhost:8080/",
          "height": 430
        },
        "id": "AvULJ4tmXqlB",
        "outputId": "fbfec517-5a2c-4283-89d3-a54e2310a2e9"
      },
      "outputs": [
        {
          "data": {
            "image/png": "[encoded data removed]",
            "text/plain": [
              "<Figure size 640x480 with 1 Axes>"
            ]
          },
          "metadata": {},
          "output_type": "display_data"
        }
      ],
      "source": [
        "import numpy as np\n",
        "import matplotlib.pyplot as plt\n",
        "\n",
        "# Semilla para reproducibilidad\n",
        "np.random.seed(0)\n",
        "\n",
        "# 40 puntos aleatorios entre 0 y 5, ordenados\n",
        "x = np.sort(5 * np.random.rand(40, 1), axis=0)\n",
        "\n",
        "# Vector para graficar curvas suaves (500 puntos)\n",
        "T = np.linspace(0, 5, 500)[:, np.newaxis]\n",
        "\n",
        "# Calculamos seno(x) y lo convertimos en vector 1D\n",
        "y = np.sin(x).ravel()\n",
        "\n",
        "# Agregamos ruido a cada 5º punto\n",
        "y[::5] += 0.5 - np.random.rand(8)\n",
        "\n",
        "# Graficamos\n",
        "plt.scatter(x, y)\n",
        "plt.title(\"Datos sintéticos con ruido\")\n",
        "plt.xlabel(\"x\")\n",
        "plt.ylabel(\"y\")\n",
        "plt.show()\n"
      ]
    },
    {
      "cell_type": "code",
      "execution_count": 17,
      "metadata": {
        "colab": {
          "base_uri": "https://localhost:8080/"
        },
        "id": "oMeHXTJneZdR",
        "outputId": "b2984d6d-5ed9-486d-a947-f965d3036336"
      },
      "outputs": [
        {
          "name": "stdout",
          "output_type": "stream",
          "text": [
            "(40, 1)\n",
            "40\n"
          ]
        },
        {
          "data": {
            "text/plain": [
              "array([[0.093949  ],\n",
              "       [0.10109199],\n",
              "       [0.35518029],\n",
              "       [0.4356465 ],\n",
              "       [0.59137213],\n",
              "       [0.71676644],\n",
              "       [1.32277806],\n",
              "       [1.91720759],\n",
              "       [2.0733097 ],\n",
              "       [2.118274  ],\n",
              "       [2.18793606],\n",
              "       [2.28075166],\n",
              "       [2.30739681],\n",
              "       [2.60924161],\n",
              "       [2.6444746 ],\n",
              "       [2.72441591],\n",
              "       [2.74406752],\n",
              "       [2.84022281],\n",
              "       [2.84216974],\n",
              "       [3.01381688],\n",
              "       [3.06047861],\n",
              "       [3.08466998],\n",
              "       [3.08817749],\n",
              "       [3.19960511],\n",
              "       [3.22947057],\n",
              "       [3.4091015 ],\n",
              "       [3.57594683],\n",
              "       [3.87116845],\n",
              "       [3.89078375],\n",
              "       [3.90264588],\n",
              "       [3.95862519],\n",
              "       [3.99579282],\n",
              "       [4.16309923],\n",
              "       [4.35006074],\n",
              "       [4.458865  ],\n",
              "       [4.62798319],\n",
              "       [4.71874039],\n",
              "       [4.72334459],\n",
              "       [4.8183138 ],\n",
              "       [4.89309171]])"
            ]
          },
          "execution_count": 17,
          "metadata": {},
          "output_type": "execute_result"
        }
      ],
      "source": [
        "print(x.shape)\n",
        "print(x.size)\n",
        "x"
      ]
    },
    {
      "cell_type": "code",
      "execution_count": 10,
      "metadata": {
        "colab": {
          "base_uri": "https://localhost:8080/"
        },
        "id": "ALqPfw3CenRT",
        "outputId": "62f7c668-6544-45b5-da12-396ab660b162"
      },
      "outputs": [
        {
          "data": {
            "text/plain": [
              "array([ 0.23430296,  0.10091989,  0.34775941,  0.4219966 ,  0.55750066,\n",
              "        0.71991826,  0.96940081,  0.94059723,  0.87637482,  0.8538402 ,\n",
              "        0.61790585,  0.75839099,  0.74075654,  0.50756044,  0.47689441,\n",
              "        0.84495547,  0.38713765,  0.29682859,  0.29496884,  0.12742837,\n",
              "       -0.08574159,  0.05689193,  0.05338977, -0.05797992, -0.08776485,\n",
              "       -0.43496758, -0.42082464, -0.66655347, -0.68104667, -0.68968448,\n",
              "       -0.43950071, -0.75404581, -0.85289554, -0.93507411, -0.96803456,\n",
              "       -0.62536624, -0.99997983, -0.99993999, -0.99439521, -0.98371764])"
            ]
          },
          "execution_count": 10,
          "metadata": {},
          "output_type": "execute_result"
        }
      ],
      "source": [
        "y"
      ]
    },
    {
      "cell_type": "code",
      "execution_count": 18,
      "metadata": {
        "colab": {
          "base_uri": "https://localhost:8080/"
        },
        "id": "WfHNgMDDZGub",
        "outputId": "6087983a-6f43-4e98-df17-387657fd0df6"
      },
      "outputs": [
        {
          "name": "stdout",
          "output_type": "stream",
          "text": [
            "Coeficientes: [ 0.          1.93278452 -0.90239874  0.09662748]\n",
            "Intercepto: -0.15312533295011985\n"
          ]
        }
      ],
      "source": [
        "from sklearn.preprocessing import PolynomialFeatures\n",
        "from sklearn.linear_model import LinearRegression\n",
        "\n",
        "# Generamos características polinómicas hasta grado 3\n",
        "pf = PolynomialFeatures(degree=3)\n",
        "X = pf.fit_transform(x)  # de [x] → [1, x, x², x³]\n",
        "\n",
        "# Creamos y entrenamos el modelo\n",
        "modelo = LinearRegression()\n",
        "modelo.fit(X, y)\n",
        "\n",
        "# Mostramos coeficientes\n",
        "print(\"Coeficientes:\", modelo.coef_)\n",
        "print(\"Intercepto:\", modelo.intercept_)\n",
        "\n",
        "# Ejemplo de función: f(x) = b + w1*x + w2*x² + w3*x³"
      ]
    },
    {
      "cell_type": "code",
      "execution_count": 19,
      "metadata": {
        "colab": {
          "base_uri": "https://localhost:8080/"
        },
        "id": "H4zbOzccKIrQ",
        "outputId": "7c40cadd-0d05-4d7e-c510-72521e90ca55"
      },
      "outputs": [
        {
          "data": {
            "text/plain": [
              "array([[1.00000000e+00, 9.39490022e-02, 8.82641501e-03, 8.29232883e-04],\n",
              "       [1.00000000e+00, 1.01091987e-01, 1.02195899e-02, 1.03311865e-03],\n",
              "       [1.00000000e+00, 3.55180291e-01, 1.26153039e-01, 4.48070731e-02],\n",
              "       [1.00000000e+00, 4.35646499e-01, 1.89787872e-01, 8.26804217e-02],\n",
              "       [1.00000000e+00, 5.91372129e-01, 3.49720995e-01, 2.06815250e-01],\n",
              "       [1.00000000e+00, 7.16766437e-01, 5.13754125e-01, 3.68241714e-01],\n",
              "       [1.00000000e+00, 1.32277806e+00, 1.74974180e+00, 2.31452006e+00],\n",
              "       [1.00000000e+00, 1.91720759e+00, 3.67568496e+00, 7.04705112e+00],\n",
              "       [1.00000000e+00, 2.07330970e+00, 4.29861311e+00, 8.91235626e+00],\n",
              "       [1.00000000e+00, 2.11827400e+00, 4.48708473e+00, 9.50487489e+00],\n",
              "       [1.00000000e+00, 2.18793606e+00, 4.78706419e+00, 1.04737903e+01],\n",
              "       [1.00000000e+00, 2.28075166e+00, 5.20182814e+00, 1.18640782e+01],\n",
              "       [1.00000000e+00, 2.30739681e+00, 5.32408004e+00, 1.22847653e+01],\n",
              "       [1.00000000e+00, 2.60924161e+00, 6.80814177e+00, 1.77640868e+01],\n",
              "       [1.00000000e+00, 2.64447460e+00, 6.99324590e+00, 1.84934612e+01],\n",
              "       [1.00000000e+00, 2.72441591e+00, 7.42244208e+00, 2.02218193e+01],\n",
              "       [1.00000000e+00, 2.74406752e+00, 7.52990655e+00, 2.06625720e+01],\n",
              "       [1.00000000e+00, 2.84022281e+00, 8.06686558e+00, 2.29116956e+01],\n",
              "       [1.00000000e+00, 2.84216974e+00, 8.07792886e+00, 2.29588450e+01],\n",
              "       [1.00000000e+00, 3.01381688e+00, 9.08309219e+00, 2.73747766e+01],\n",
              "       [1.00000000e+00, 3.06047861e+00, 9.36652934e+00, 2.86660627e+01],\n",
              "       [1.00000000e+00, 3.08466998e+00, 9.51518891e+00, 2.93512176e+01],\n",
              "       [1.00000000e+00, 3.08817749e+00, 9.53684018e+00, 2.94514551e+01],\n",
              "       [1.00000000e+00, 3.19960511e+00, 1.02374728e+01, 3.27558704e+01],\n",
              "       [1.00000000e+00, 3.22947057e+00, 1.04294801e+01, 3.36816991e+01],\n",
              "       [1.00000000e+00, 3.40910150e+00, 1.16219730e+01, 3.96204856e+01],\n",
              "       [1.00000000e+00, 3.57594683e+00, 1.27873957e+01, 4.57270473e+01],\n",
              "       [1.00000000e+00, 3.87116845e+00, 1.49859451e+01, 5.80131180e+01],\n",
              "       [1.00000000e+00, 3.89078375e+00, 1.51381982e+01, 5.88994557e+01],\n",
              "       [1.00000000e+00, 3.90264588e+00, 1.52306449e+01, 5.94398135e+01],\n",
              "       [1.00000000e+00, 3.95862519e+00, 1.56707134e+01, 6.20344808e+01],\n",
              "       [1.00000000e+00, 3.99579282e+00, 1.59663603e+01, 6.37982677e+01],\n",
              "       [1.00000000e+00, 4.16309923e+00, 1.73313952e+01, 7.21523179e+01],\n",
              "       [1.00000000e+00, 4.35006074e+00, 1.89230285e+01, 8.23163232e+01],\n",
              "       [1.00000000e+00, 4.45886500e+00, 1.98814771e+01, 8.86488226e+01],\n",
              "       [1.00000000e+00, 4.62798319e+00, 2.14182284e+01, 9.91232011e+01],\n",
              "       [1.00000000e+00, 4.71874039e+00, 2.22665109e+01, 1.05069884e+02],\n",
              "       [1.00000000e+00, 4.72334459e+00, 2.23099841e+01, 1.05377742e+02],\n",
              "       [1.00000000e+00, 4.81831380e+00, 2.32161479e+01, 1.11862686e+02],\n",
              "       [1.00000000e+00, 4.89309171e+00, 2.39423465e+01, 1.17152097e+02]])"
            ]
          },
          "execution_count": 19,
          "metadata": {},
          "output_type": "execute_result"
        }
      ],
      "source": [
        "X"
      ]
    },
    {
      "cell_type": "code",
      "execution_count": 20,
      "metadata": {
        "colab": {
          "base_uri": "https://localhost:8080/",
          "height": 487
        },
        "id": "aI-9xh6mR7-m",
        "outputId": "87587d46-dfb7-4c8f-81d6-e5cda15acc34"
      },
      "outputs": [
        {
          "data": {
            "image/png": "[encoded data removed]",
            "text/plain": [
              "<Figure size 640x480 with 1 Axes>"
            ]
          },
          "metadata": {},
          "output_type": "display_data"
        }
      ],
      "source": [
        "plt.scatter(x, y, color=\"darkorange\", label=\"data\")\n",
        "plt.plot(T, regresion_lineal.predict(pf.fit_transform(T)), color=\"navy\", label=\"prediction\")\n",
        "plt.axis(\"tight\")\n",
        "plt.legend()\n",
        "plt.title(\"Polynomial Regressor\")\n",
        "plt.tight_layout()\n",
        "plt.show()\n"
      ]
    },
    {
      "cell_type": "code",
      "execution_count": null,
      "metadata": {
        "colab": {
          "base_uri": "https://localhost:8080/"
        },
        "id": "d_RrYgReXyun",
        "outputId": "c69c825b-42df-4d2f-8f11-d105736c962a"
      },
      "outputs": [
        {
          "name": "stdout",
          "output_type": "stream",
          "text": [
            "Error Cuadrático Medio (MSE) = 0.015883124888471312\n",
            "Raíz del Error Cuadrático Medio (RMSE) = 0.1260282701955054\n",
            "Error Absoluto Medio (MAE) = 0.08457287778800164\n",
            "Coeficiente de Determinación R2 = 0.9625778400300977\n",
            "Coeficiente de Determinación R2 = 0.9625778400300977\n"
          ]
        }
      ],
      "source": [
        "# https://datascience.stackexchange.com/questions/42760/mad-vs-rmse-vs-mae-vs-msle-vs-r%c2%b2-when-to-use-which\n",
        "\n",
        "# Predecimos los valores y para los datos usados en el entrenamiento\n",
        "prediccion_entrenamiento = regresion_lineal.predict(X)\n",
        "\n",
        "# Calculamos el Error Cuadrático Medio (MSE = Mean Squared Error)\n",
        "mse = mean_squared_error(y_true = y, y_pred = prediccion_entrenamiento)\n",
        "\n",
        "# La raíz cuadrada del MSE es el RMSE\n",
        "rmse = np.sqrt(mse)\n",
        "print('Error Cuadrático Medio (MSE) = ' + str(mse))\n",
        "print('Raíz del Error Cuadrático Medio (RMSE) = ' + str(rmse))\n",
        "\n",
        "# calculamos el error absoluto medio\n",
        "mae = mean_absolute_error(y_true = y, y_pred = prediccion_entrenamiento)\n",
        "print('Error Absoluto Medio (MAE) = ' + str(mae))\n",
        "\n",
        "# calculamos el coeficiente de determinación R2\n",
        "r2 = regresion_lineal.score(X, y)\n",
        "print('Coeficiente de Determinación R2 = ' + str(r2))\n",
        "\n",
        "r_2= r2_score(y,prediccion_entrenamiento)\n",
        "print('Coeficiente de Determinación R2 = ' + str(r_2))"
      ]
    },
    {
      "cell_type": "code",
      "execution_count": 15,
      "metadata": {
        "colab": {
          "base_uri": "https://localhost:8080/"
        },
        "id": "J5KHgWJSgSVz",
        "outputId": "1813a621-73b2-4128-9257-d5d66ca47640"
      },
      "outputs": [
        {
          "data": {
            "text/plain": [
              "array([[8.82641501e-03],\n",
              "       [1.02195899e-02],\n",
              "       [1.26153039e-01],\n",
              "       [1.89787872e-01],\n",
              "       [3.49720995e-01],\n",
              "       [5.13754125e-01],\n",
              "       [1.74974180e+00],\n",
              "       [3.67568496e+00],\n",
              "       [4.29861311e+00],\n",
              "       [4.48708473e+00],\n",
              "       [4.78706419e+00],\n",
              "       [5.20182814e+00],\n",
              "       [5.32408004e+00],\n",
              "       [6.80814177e+00],\n",
              "       [6.99324590e+00],\n",
              "       [7.42244208e+00],\n",
              "       [7.52990655e+00],\n",
              "       [8.06686558e+00],\n",
              "       [8.07792886e+00],\n",
              "       [9.08309219e+00],\n",
              "       [9.36652934e+00],\n",
              "       [9.51518891e+00],\n",
              "       [9.53684018e+00],\n",
              "       [1.02374728e+01],\n",
              "       [1.04294801e+01],\n",
              "       [1.16219730e+01],\n",
              "       [1.27873957e+01],\n",
              "       [1.49859451e+01],\n",
              "       [1.51381982e+01],\n",
              "       [1.52306449e+01],\n",
              "       [1.56707134e+01],\n",
              "       [1.59663603e+01],\n",
              "       [1.73313952e+01],\n",
              "       [1.89230285e+01],\n",
              "       [1.98814771e+01],\n",
              "       [2.14182284e+01],\n",
              "       [2.22665109e+01],\n",
              "       [2.23099841e+01],\n",
              "       [2.32161479e+01],\n",
              "       [2.39423465e+01]])"
            ]
          },
          "execution_count": 15,
          "metadata": {},
          "output_type": "execute_result"
        }
      ],
      "source": [
        "x2=x**2\n",
        "x2"
      ]
    }
  ],
  "metadata": {
    "colab": {
      "provenance": []
    },
    "kernelspec": {
      "display_name": "base",
      "language": "python",
      "name": "python3"
    },
    "language_info": {
      "codemirror_mode": {
        "name": "ipython",
        "version": 3
      },
      "file_extension": ".py",
      "mimetype": "text/x-python",
      "name": "python",
      "nbconvert_exporter": "python",
      "pygments_lexer": "ipython3",
      "version": "3.12.7"
    }
  },
  "nbformat": 4,
  "nbformat_minor": 0
}
