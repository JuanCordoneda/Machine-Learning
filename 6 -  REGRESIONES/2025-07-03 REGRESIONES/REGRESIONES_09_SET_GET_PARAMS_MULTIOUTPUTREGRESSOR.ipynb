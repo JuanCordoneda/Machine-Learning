{
  "cells": [
    {
      "cell_type": "code",
      "execution_count": 9,
      "metadata": {
        "id": "inA2BRJ4TKv4"
      },
      "outputs": [],
      "source": [
        "# EJEMPLO TOMADO (PARCIALMENTE) DE https://machinelearningmastery.com/multi-output-regression-models-with-python/\n",
        "\n",
        "# example of making a prediction with the direct multioutput regression model\n",
        "from sklearn.datasets import make_regression\n",
        "from sklearn.multioutput import MultiOutputRegressor\n",
        "from sklearn.svm import LinearSVR\n",
        "import numpy as np"
      ]
    },
    {
      "cell_type": "code",
      "execution_count": 10,
      "metadata": {
        "id": "8vhhvLHnTVhU"
      },
      "outputs": [
        {
          "name": "stdout",
          "output_type": "stream",
          "text": [
            "Forma de X: (1000, 10)\n",
            "Forma de y: (1000, 2)\n",
            "LinearSVR()\n"
          ]
        }
      ],
      "source": [
        "from sklearn.datasets import make_regression\n",
        "from sklearn.svm import LinearSVR\n",
        "\n",
        "# 📌 1. Definimos un dataset sintético de regresión\n",
        "X, y = make_regression(\n",
        "    n_samples=1000,      # 1000 muestras (filas de datos)\n",
        "    n_features=10,       # 10 variables independientes (features por fila)\n",
        "    n_informative=5,     # solo 5 de esas 10 realmente influyen en la salida (las otras son ruido)\n",
        "    n_targets=2,         # 2 variables de salida (regresión multi-output)\n",
        "    random_state=1,      # semilla para reproducibilidad\n",
        "    noise=0.5            # agregamos ruido gaussiano para que no sea una función perfecta\n",
        ")\n",
        "\n",
        "print(\"Forma de X:\", X.shape)  # (1000, 10)\n",
        "print(\"Forma de y:\", y.shape)  # (1000, 2)\n",
        "\n",
        "# 📌 2. Definimos el modelo base\n",
        "# LinearSVR = Support Vector Regression con un kernel lineal\n",
        "# - Similar a LinearRegression, pero con la lógica de SVM\n",
        "# - Tolera un margen de error (epsilon) y busca una función que esté lo más plana posible,\n",
        "#   ignorando errores pequeños pero penalizando los grandes.\n",
        "model = LinearSVR()\n",
        "\n",
        "print(model)\n"
      ]
    },
    {
      "cell_type": "code",
      "execution_count": 11,
      "metadata": {
        "colab": {
          "base_uri": "https://localhost:8080/",
          "height": 182
        },
        "id": "sWKhDL4tTZkz",
        "outputId": "abeee4fa-1a8e-4cc9-f7a0-619f1fb09928"
      },
      "outputs": [
        {
          "name": "stdout",
          "output_type": "stream",
          "text": [
            "Wrapper entrenado con 2 modelos SVR internos (uno por cada salida).\n"
          ]
        }
      ],
      "source": [
        "from sklearn.multioutput import MultiOutputRegressor\n",
        "\n",
        "# 📌 1. Creamos el wrapper\n",
        "# MultiOutputRegressor toma un modelo que normalmente solo predice una salida\n",
        "# y entrena una copia de ese modelo para cada columna (target) de y.\n",
        "# En tu caso: y tiene 2 columnas → se entrenarán 2 modelos LinearSVR independientes.\n",
        "wrapper = MultiOutputRegressor(model)\n",
        "\n",
        "# 📌 2. Entrenamos el modelo sobre TODO el dataset\n",
        "# X → features de entrada (1000 filas × 10 columnas)\n",
        "# y → targets (1000 filas × 2 columnas)\n",
        "wrapper.fit(X, y)\n",
        "\n",
        "print(\"Wrapper entrenado con 2 modelos SVR internos (uno por cada salida).\")\n"
      ]
    },
    {
      "cell_type": "code",
      "execution_count": 12,
      "metadata": {
        "colab": {
          "base_uri": "https://localhost:8080/"
        },
        "id": "ABeMU-0aTdjy",
        "outputId": "4a37bf8b-b7d4-4d6f-f85b-6e0e0511830b"
      },
      "outputs": [
        {
          "name": "stdout",
          "output_type": "stream",
          "text": [
            "Predicted: [50.01498545 64.50948203]\n",
            "[[50.01498545 64.50948203]]\n"
          ]
        }
      ],
      "source": [
        "# make a single prediction\n",
        "row = [0.21947749, 0.32948997, 0.81560036, 0.440956, -0.0606303, -0.29257894, -0.2820059, -0.00290545, 0.96402263, 0.04992249]\n",
        "yhat = wrapper.predict([row])\n",
        "# summarize the prediction\n",
        "print('Predicted: %s' % yhat[0])\n",
        "print(yhat)"
      ]
    },
    {
      "cell_type": "code",
      "execution_count": null,
      "metadata": {
        "colab": {
          "base_uri": "https://localhost:8080/"
        },
        "id": "4NVgHuRHTiQM",
        "outputId": "58b7d7f7-6ed4-410a-b364-33fdaaa61703"
      },
      "outputs": [
        {
          "name": "stdout",
          "output_type": "stream",
          "text": [
            "{'estimator__C': 1.0, 'estimator__dual': 'auto', 'estimator__epsilon': 0.0, 'estimator__fit_intercept': True, 'estimator__intercept_scaling': 1.0, 'estimator__loss': 'epsilon_insensitive', 'estimator__max_iter': 1000, 'estimator__random_state': None, 'estimator__tol': 0.0001, 'estimator__verbose': 0, 'estimator': LinearSVR(), 'n_jobs': None}\n",
            "{'C': 1.0, 'dual': 'auto', 'epsilon': 0.0, 'fit_intercept': True, 'intercept_scaling': 1.0, 'loss': 'epsilon_insensitive', 'max_iter': 1000, 'random_state': None, 'tol': 0.0001, 'verbose': 0}\n"
          ]
        }
      ],
      "source": [
        "# 📌 Diferencia clave\n",
        "\n",
        "# wrapper.get_params() → parámetros del envoltorio multi-output + los del modelo base (con prefijo).\n",
        "\n",
        "# model.get_params() → parámetros solo del modelo base (LinearSVR).\n",
        "\n",
        "# 📌 1. Obtener parámetros del wrapper (MultiOutputRegressor)\n",
        "z = wrapper.get_params()\n",
        "print(\"Parámetros del wrapper (MultiOutputRegressor):\\n\", z)\n",
        "\n",
        "# 📌 2. Obtener parámetros del modelo base (LinearSVR)\n",
        "v = model.get_params()\n",
        "print(\"\\nParámetros del modelo base (LinearSVR):\\n\", v)\n"
      ]
    },
    {
      "cell_type": "code",
      "execution_count": null,
      "metadata": {
        "id": "XKewahlQT15W"
      },
      "outputs": [],
      "source": [
        "# 📌 Guardar los diccionarios como archivos .npy\n",
        "# np.save guarda objetos en formato binario de NumPy\n",
        "np.save('file1.npy', z)   # guarda el dict z (parámetros del wrapper)\n",
        "np.save('file2.npy', v)   # guarda el dict v (parámetros del modelo base)\n"
      ]
    },
    {
      "cell_type": "code",
      "execution_count": 17,
      "metadata": {
        "colab": {
          "base_uri": "https://localhost:8080/"
        },
        "id": "OQzqX9SvUUkX",
        "outputId": "5defda5b-737e-474c-dc74-f302cb5a966f"
      },
      "outputs": [
        {
          "name": "stdout",
          "output_type": "stream",
          "text": [
            "{'estimator__C': 1.0, 'estimator__dual': 'auto', 'estimator__epsilon': 0.0, 'estimator__fit_intercept': True, 'estimator__intercept_scaling': 1.0, 'estimator__loss': 'epsilon_insensitive', 'estimator__max_iter': 1000, 'estimator__random_state': None, 'estimator__tol': 0.0001, 'estimator__verbose': 0, 'estimator': LinearSVR(), 'n_jobs': None}\n",
            "<class 'numpy.ndarray'>\n",
            "{1: {'estimator__C': 1.0, 'estimator__dual': 'auto', 'estimator__epsilon': 0.0, 'estimator__fit_intercept': True, 'estimator__intercept_scaling': 1.0, 'estimator__loss': 'epsilon_insensitive', 'estimator__max_iter': 1000, 'estimator__random_state': None, 'estimator__tol': 0.0001, 'estimator__verbose': 0, 'estimator': LinearSVR(), 'n_jobs': None}}\n",
            "<class 'dict'>\n",
            "{'estimator__C': 1.0, 'estimator__dual': 'auto', 'estimator__epsilon': 0.0, 'estimator__fit_intercept': True, 'estimator__intercept_scaling': 1.0, 'estimator__loss': 'epsilon_insensitive', 'estimator__max_iter': 1000, 'estimator__random_state': None, 'estimator__tol': 0.0001, 'estimator__verbose': 0, 'estimator': LinearSVR(), 'n_jobs': None}\n"
          ]
        }
      ],
      "source": [
        "# 📌 1. Cargar el archivo .npy\n",
        "new_dict = np.load('file1.npy', allow_pickle=True)\n",
        "print(new_dict)\n",
        "print(type(new_dict))   # → verás que es un numpy.ndarray con un solo elemento (el dict)\n",
        "\n",
        "# 📌 2. Convertir el array en diccionario\n",
        "# Tu código hace dict(enumerate(...)) → genera un diccionario de índice:valor\n",
        "# Pero en realidad lo que queremos es extraer el objeto que está dentro del array\n",
        "d = dict(enumerate(new_dict.flatten(), 1))\n",
        "print(d)\n",
        "print(type(d))          # → es un dict con 1 entrada: {1: {...}}\n",
        "\n",
        "# 📌 3. Acceder al diccionario real\n",
        "par = d[1]              # obtenés el verdadero diccionario de parámetros\n",
        "print(par)\n"
      ]
    },
    {
      "cell_type": "code",
      "execution_count": null,
      "metadata": {},
      "outputs": [],
      "source": []
    },
    {
      "cell_type": "code",
      "execution_count": null,
      "metadata": {
        "colab": {
          "base_uri": "https://localhost:8080/"
        },
        "id": "6VloBWqJUjHN",
        "outputId": "d1b60e2f-1fa1-4648-f4c4-535e2bcb9146"
      },
      "outputs": [
        {
          "name": "stdout",
          "output_type": "stream",
          "text": [
            "[[50.0151902  64.50285243]]\n"
          ]
        }
      ],
      "source": [
        "from sklearn.svm import LinearSVR\n",
        "from sklearn.multioutput import MultiOutputRegressor\n",
        "\n",
        "# 📌 1. Creamos un nuevo modelo igual que antes\n",
        "model1 = MultiOutputRegressor(LinearSVR())\n",
        "\n",
        "# 📌 2. Le cargamos los parámetros guardados\n",
        "# par es un diccionario con hiperparámetros (ej: C, epsilon, max_iter, etc.)\n",
        "# set_params(**par) actualiza la configuración del modelo con esos valores\n",
        "model1.set_params(**par)\n",
        "\n",
        "# 📌 3. Entrenamos el modelo desde cero\n",
        "# Ojo: aunque tenga los mismos hiperparámetros, el entrenamiento vuelve a hacerse\n",
        "# sobre los datos originales (X, y).\n",
        "model1.fit(X, y)\n",
        "\n",
        "# 📌 4. Hacemos una predicción sobre la fila 'row'\n",
        "print(\"Predicción con el nuevo modelo entrenado:\", model1.predict([row]))\n"
      ]
    },
    {
      "cell_type": "markdown",
      "metadata": {
        "id": "r71U6irSrzCS"
      },
      "source": [
        "# Luego de esta prueba, la conclusión es la sgte: los métodos set_params y get_params NO GUARDAN los modelos entrenados. Solamente guardan en un diccionario los parámetros del modelo, para que luego se puedan resguardar en un archivo y cargar posteriormente. Para que el modelo sea funcional, hay que entrenarlo nuevamente."
      ]
    }
  ],
  "metadata": {
    "colab": {
      "provenance": []
    },
    "kernelspec": {
      "display_name": "base",
      "language": "python",
      "name": "python3"
    },
    "language_info": {
      "codemirror_mode": {
        "name": "ipython",
        "version": 3
      },
      "file_extension": ".py",
      "mimetype": "text/x-python",
      "name": "python",
      "nbconvert_exporter": "python",
      "pygments_lexer": "ipython3",
      "version": "3.12.7"
    }
  },
  "nbformat": 4,
  "nbformat_minor": 0
}
