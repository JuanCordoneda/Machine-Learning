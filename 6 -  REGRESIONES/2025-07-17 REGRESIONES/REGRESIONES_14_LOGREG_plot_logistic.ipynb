{
  "cells": [
    {
      "cell_type": "code",
      "execution_count": null,
      "metadata": {
        "id": "8GQ1-fy3-Jkp"
      },
      "outputs": [],
      "source": [
        "%matplotlib inline"
      ]
    },
    {
      "cell_type": "markdown",
      "metadata": {
        "id": "5YrUUXXG-Jkt"
      },
      "source": [
        "\n",
        "# Logistic function\n",
        "\n",
        "Shown in the plot is how the logistic regression would, in this\n",
        "synthetic dataset, classify values as either 0 or 1,\n",
        "i.e. class one or two, using the logistic curve.\n"
      ]
    },
    {
      "cell_type": "code",
      "execution_count": 1,
      "metadata": {
        "id": "yzaNXfp_-Jkw"
      },
      "outputs": [],
      "source": [
        "# https://scikit-learn.org/stable/auto_examples/linear_model/plot_logistic.html#sphx-glr-auto-examples-linear-model-plot-logistic-py\n",
        "# Code source: Gael Varoquaux\n",
        "# License: BSD 3 clause\n",
        "\n",
        "import matplotlib.pyplot as plt\n",
        "import numpy as np\n",
        "from scipy.special import expit\n",
        "from sklearn.linear_model import LinearRegression, LogisticRegression\n"
      ]
    },
    {
      "cell_type": "code",
      "source": [
        "# Generate a toy dataset, it's just a straight line with some Gaussian noise:\n",
        "xmin, xmax = -5, 5\n",
        "n_samples = 100\n",
        "np.random.seed(0)\n",
        "X = np.random.normal(size=n_samples)\n",
        "print('X\\n', X.T)\n",
        "y = (X > 0).astype(float)\n",
        "X[X > 0] *= 4\n",
        "print('X\\n',X.T)\n",
        "X += 0.3 * np.random.normal(size=n_samples)\n",
        "print('X\\n',X.T)\n",
        "X = X[:, np.newaxis]\n",
        "print('X\\n',X.T)\n",
        "print('y\\n',y)"
      ],
      "metadata": {
        "colab": {
          "base_uri": "https://localhost:8080/"
        },
        "id": "nPOSykv-03_-",
        "outputId": "a58d4e0f-614f-4654-fb1f-14ff49afad3c"
      },
      "execution_count": 2,
      "outputs": [
        {
          "output_type": "stream",
          "name": "stdout",
          "text": [
            "X\n",
            " [ 1.76405235  0.40015721  0.97873798  2.2408932   1.86755799 -0.97727788\n",
            "  0.95008842 -0.15135721 -0.10321885  0.4105985   0.14404357  1.45427351\n",
            "  0.76103773  0.12167502  0.44386323  0.33367433  1.49407907 -0.20515826\n",
            "  0.3130677  -0.85409574 -2.55298982  0.6536186   0.8644362  -0.74216502\n",
            "  2.26975462 -1.45436567  0.04575852 -0.18718385  1.53277921  1.46935877\n",
            "  0.15494743  0.37816252 -0.88778575 -1.98079647 -0.34791215  0.15634897\n",
            "  1.23029068  1.20237985 -0.38732682 -0.30230275 -1.04855297 -1.42001794\n",
            " -1.70627019  1.9507754  -0.50965218 -0.4380743  -1.25279536  0.77749036\n",
            " -1.61389785 -0.21274028 -0.89546656  0.3869025  -0.51080514 -1.18063218\n",
            " -0.02818223  0.42833187  0.06651722  0.3024719  -0.63432209 -0.36274117\n",
            " -0.67246045 -0.35955316 -0.81314628 -1.7262826   0.17742614 -0.40178094\n",
            " -1.63019835  0.46278226 -0.90729836  0.0519454   0.72909056  0.12898291\n",
            "  1.13940068 -1.23482582  0.40234164 -0.68481009 -0.87079715 -0.57884966\n",
            " -0.31155253  0.05616534 -1.16514984  0.90082649  0.46566244 -1.53624369\n",
            "  1.48825219  1.89588918  1.17877957 -0.17992484 -1.07075262  1.05445173\n",
            " -0.40317695  1.22244507  0.20827498  0.97663904  0.3563664   0.70657317\n",
            "  0.01050002  1.78587049  0.12691209  0.40198936]\n",
            "X\n",
            " [ 7.05620938  1.60062883  3.91495194  8.9635728   7.47023196 -0.97727788\n",
            "  3.80035367 -0.15135721 -0.10321885  1.64239401  0.57617428  5.81709403\n",
            "  3.0441509   0.48670007  1.77545293  1.33469731  5.97631629 -0.20515826\n",
            "  1.25227081 -0.85409574 -2.55298982  2.61447438  3.4577448  -0.74216502\n",
            "  9.0790185  -1.45436567  0.18303407 -0.18718385  6.13111686  5.87743508\n",
            "  0.6197897   1.51265008 -0.88778575 -1.98079647 -0.34791215  0.62539588\n",
            "  4.92116272  4.8095194  -0.38732682 -0.30230275 -1.04855297 -1.42001794\n",
            " -1.70627019  7.80310158 -0.50965218 -0.4380743  -1.25279536  3.10996142\n",
            " -1.61389785 -0.21274028 -0.89546656  1.54760999 -0.51080514 -1.18063218\n",
            " -0.02818223  1.71332748  0.26606889  1.20988759 -0.63432209 -0.36274117\n",
            " -0.67246045 -0.35955316 -0.81314628 -1.7262826   0.70970457 -0.40178094\n",
            " -1.63019835  1.85112902 -0.90729836  0.20778158  2.91636225  0.51593164\n",
            "  4.55760274 -1.23482582  1.60936656 -0.68481009 -0.87079715 -0.57884966\n",
            " -0.31155253  0.22466137 -1.16514984  3.60330595  1.86264976 -1.53624369\n",
            "  5.95300878  7.5835567   4.71511828 -0.17992484 -1.07075262  4.21780691\n",
            " -0.40317695  4.88978028  0.83309991  3.90655615  1.42546559  2.82629267\n",
            "  0.04200008  7.14348198  0.50764837  1.60795745]\n",
            "X\n",
            " [ 7.62115459  1.19630112  3.53380644  9.25439181  7.11829494 -0.39419152\n",
            "  3.67626798 -0.37559365  0.47366376  2.08654845  1.13644197  6.08890743\n",
            "  2.7857832   1.05971955  1.69505192  1.57543423  6.26049188 -0.25166129\n",
            "  1.43649462 -0.57743374 -2.44006216  2.28465414  3.54721625 -0.34424925\n",
            "  8.87064814 -1.49925604  0.052488    0.36759527  6.33280528  5.99967363\n",
            "  0.38881488  1.67442484 -1.09008555 -1.9712473  -0.53866597  0.82832586\n",
            "  5.09413997  4.74702977 -0.2685248  -0.6302212  -1.49593024 -1.28820043\n",
            " -1.65626814  7.99361101  0.20529125 -0.15473046 -1.52664203  3.44506631\n",
            " -2.00867007 -0.35121566 -0.91593904  2.06161281 -0.73423158 -1.42856375\n",
            " -0.05771799  1.514284    0.60405967  0.88590814 -0.97856269 -0.49408718\n",
            " -0.82187018  0.21930645 -0.52832004 -1.70001723  0.34207391 -0.14847204\n",
            " -1.93026295  1.38769769 -0.55088943  0.30286437  3.1926199   0.61154994\n",
            "  4.81465192 -1.4301335   1.29909371 -0.48033174 -1.11182005 -0.7857146\n",
            " -0.44821228  0.22990512 -1.27134801  3.19082056  1.66956424 -2.20326463\n",
            "  6.14057821  7.10293941  4.38380328 -0.16427531 -1.29262152  4.68071129\n",
            " -0.79103402  4.96989554  0.82131507  3.5561281   1.58244859  2.77482877\n",
            "  0.27353725  7.39053322  1.15661916  2.00891584]\n",
            "X\n",
            " [[ 7.62115459  1.19630112  3.53380644  9.25439181  7.11829494 -0.39419152\n",
            "   3.67626798 -0.37559365  0.47366376  2.08654845  1.13644197  6.08890743\n",
            "   2.7857832   1.05971955  1.69505192  1.57543423  6.26049188 -0.25166129\n",
            "   1.43649462 -0.57743374 -2.44006216  2.28465414  3.54721625 -0.34424925\n",
            "   8.87064814 -1.49925604  0.052488    0.36759527  6.33280528  5.99967363\n",
            "   0.38881488  1.67442484 -1.09008555 -1.9712473  -0.53866597  0.82832586\n",
            "   5.09413997  4.74702977 -0.2685248  -0.6302212  -1.49593024 -1.28820043\n",
            "  -1.65626814  7.99361101  0.20529125 -0.15473046 -1.52664203  3.44506631\n",
            "  -2.00867007 -0.35121566 -0.91593904  2.06161281 -0.73423158 -1.42856375\n",
            "  -0.05771799  1.514284    0.60405967  0.88590814 -0.97856269 -0.49408718\n",
            "  -0.82187018  0.21930645 -0.52832004 -1.70001723  0.34207391 -0.14847204\n",
            "  -1.93026295  1.38769769 -0.55088943  0.30286437  3.1926199   0.61154994\n",
            "   4.81465192 -1.4301335   1.29909371 -0.48033174 -1.11182005 -0.7857146\n",
            "  -0.44821228  0.22990512 -1.27134801  3.19082056  1.66956424 -2.20326463\n",
            "   6.14057821  7.10293941  4.38380328 -0.16427531 -1.29262152  4.68071129\n",
            "  -0.79103402  4.96989554  0.82131507  3.5561281   1.58244859  2.77482877\n",
            "   0.27353725  7.39053322  1.15661916  2.00891584]]\n",
            "y\n",
            " [1. 1. 1. 1. 1. 0. 1. 0. 0. 1. 1. 1. 1. 1. 1. 1. 1. 0. 1. 0. 0. 1. 1. 0.\n",
            " 1. 0. 1. 0. 1. 1. 1. 1. 0. 0. 0. 1. 1. 1. 0. 0. 0. 0. 0. 1. 0. 0. 0. 1.\n",
            " 0. 0. 0. 1. 0. 0. 0. 1. 1. 1. 0. 0. 0. 0. 0. 0. 1. 0. 0. 1. 0. 1. 1. 1.\n",
            " 1. 0. 1. 0. 0. 0. 0. 1. 0. 1. 1. 0. 1. 1. 1. 0. 0. 1. 0. 1. 1. 1. 1. 1.\n",
            " 1. 1. 1. 1.]\n"
          ]
        }
      ]
    },
    {
      "cell_type": "code",
      "source": [
        "y = (X > 0)   #cumple condición en forma booleana\n",
        "y"
      ],
      "metadata": {
        "colab": {
          "base_uri": "https://localhost:8080/"
        },
        "id": "xE6tYxzxo-4I",
        "outputId": "9200174d-2e9f-4e6a-826f-2a2b6b35db43"
      },
      "execution_count": 3,
      "outputs": [
        {
          "output_type": "execute_result",
          "data": {
            "text/plain": [
              "array([[ True],\n",
              "       [ True],\n",
              "       [ True],\n",
              "       [ True],\n",
              "       [ True],\n",
              "       [False],\n",
              "       [ True],\n",
              "       [False],\n",
              "       [ True],\n",
              "       [ True],\n",
              "       [ True],\n",
              "       [ True],\n",
              "       [ True],\n",
              "       [ True],\n",
              "       [ True],\n",
              "       [ True],\n",
              "       [ True],\n",
              "       [False],\n",
              "       [ True],\n",
              "       [False],\n",
              "       [False],\n",
              "       [ True],\n",
              "       [ True],\n",
              "       [False],\n",
              "       [ True],\n",
              "       [False],\n",
              "       [ True],\n",
              "       [ True],\n",
              "       [ True],\n",
              "       [ True],\n",
              "       [ True],\n",
              "       [ True],\n",
              "       [False],\n",
              "       [False],\n",
              "       [False],\n",
              "       [ True],\n",
              "       [ True],\n",
              "       [ True],\n",
              "       [False],\n",
              "       [False],\n",
              "       [False],\n",
              "       [False],\n",
              "       [False],\n",
              "       [ True],\n",
              "       [ True],\n",
              "       [False],\n",
              "       [False],\n",
              "       [ True],\n",
              "       [False],\n",
              "       [False],\n",
              "       [False],\n",
              "       [ True],\n",
              "       [False],\n",
              "       [False],\n",
              "       [False],\n",
              "       [ True],\n",
              "       [ True],\n",
              "       [ True],\n",
              "       [False],\n",
              "       [False],\n",
              "       [False],\n",
              "       [ True],\n",
              "       [False],\n",
              "       [False],\n",
              "       [ True],\n",
              "       [False],\n",
              "       [False],\n",
              "       [ True],\n",
              "       [False],\n",
              "       [ True],\n",
              "       [ True],\n",
              "       [ True],\n",
              "       [ True],\n",
              "       [False],\n",
              "       [ True],\n",
              "       [False],\n",
              "       [False],\n",
              "       [False],\n",
              "       [False],\n",
              "       [ True],\n",
              "       [False],\n",
              "       [ True],\n",
              "       [ True],\n",
              "       [False],\n",
              "       [ True],\n",
              "       [ True],\n",
              "       [ True],\n",
              "       [False],\n",
              "       [False],\n",
              "       [ True],\n",
              "       [False],\n",
              "       [ True],\n",
              "       [ True],\n",
              "       [ True],\n",
              "       [ True],\n",
              "       [ True],\n",
              "       [ True],\n",
              "       [ True],\n",
              "       [ True],\n",
              "       [ True]])"
            ]
          },
          "metadata": {},
          "execution_count": 3
        }
      ]
    },
    {
      "cell_type": "code",
      "source": [
        "y = (X > 0).astype(float)"
      ],
      "metadata": {
        "id": "oSEGqmvnuVsy"
      },
      "execution_count": 4,
      "outputs": []
    },
    {
      "cell_type": "code",
      "source": [
        "y=y.reshape(n_samples,)\n",
        "y"
      ],
      "metadata": {
        "colab": {
          "base_uri": "https://localhost:8080/"
        },
        "id": "uRiWPSw5uDAk",
        "outputId": "cc13fb1b-c011-4094-f733-9a0470129bb4"
      },
      "execution_count": 5,
      "outputs": [
        {
          "output_type": "execute_result",
          "data": {
            "text/plain": [
              "array([1., 1., 1., 1., 1., 0., 1., 0., 1., 1., 1., 1., 1., 1., 1., 1., 1.,\n",
              "       0., 1., 0., 0., 1., 1., 0., 1., 0., 1., 1., 1., 1., 1., 1., 0., 0.,\n",
              "       0., 1., 1., 1., 0., 0., 0., 0., 0., 1., 1., 0., 0., 1., 0., 0., 0.,\n",
              "       1., 0., 0., 0., 1., 1., 1., 0., 0., 0., 1., 0., 0., 1., 0., 0., 1.,\n",
              "       0., 1., 1., 1., 1., 0., 1., 0., 0., 0., 0., 1., 0., 1., 1., 0., 1.,\n",
              "       1., 1., 0., 0., 1., 0., 1., 1., 1., 1., 1., 1., 1., 1., 1.])"
            ]
          },
          "metadata": {},
          "execution_count": 5
        }
      ]
    },
    {
      "cell_type": "code",
      "source": [
        "# Fit the classifier\n",
        "clf = LogisticRegression(C=1e5)\n",
        "clf.fit(X, y)\n",
        "''' class sklearn.linear_model.LogisticRegression(penalty='l2', *, dual=False,\n",
        "tol=0.0001, C=1.0, fit_intercept=True, intercept_scaling=1, class_weight=None,\n",
        "random_state=None, solver='lbfgs', max_iter=100, multi_class='auto', verbose=0,\n",
        "warm_start=False, n_jobs=None, l1_ratio=None) '''"
      ],
      "metadata": {
        "colab": {
          "base_uri": "https://localhost:8080/",
          "height": 53
        },
        "id": "B3VT2x7I05XQ",
        "outputId": "b0d85b8d-afe2-4e35-b47d-afb3c6d7330d"
      },
      "execution_count": 6,
      "outputs": [
        {
          "output_type": "execute_result",
          "data": {
            "text/plain": [
              "\" class sklearn.linear_model.LogisticRegression(penalty='l2', *, dual=False,\\ntol=0.0001, C=1.0, fit_intercept=True, intercept_scaling=1, class_weight=None,\\nrandom_state=None, solver='lbfgs', max_iter=100, multi_class='auto', verbose=0,\\nwarm_start=False, n_jobs=None, l1_ratio=None) \""
            ],
            "application/vnd.google.colaboratory.intrinsic+json": {
              "type": "string"
            }
          },
          "metadata": {},
          "execution_count": 6
        }
      ]
    },
    {
      "cell_type": "code",
      "source": [
        "# and plot the result\n",
        "plt.figure(1, figsize=(4, 3))\n",
        "plt.clf()   # https://stackoverflow.com/questions/16661790/difference-between-plt-close-and-plt-clf\n",
        "plt.scatter(X.ravel(), y, label=\"example data\", color=\"black\", zorder=20)\n",
        "X_test = np.linspace(-5, 10, 300)\n",
        "\n",
        "loss = expit(X_test * clf.coef_ + clf.intercept_).ravel()\n",
        "plt.plot(X_test, loss, label=\"Logistic Regression Model\", color=\"red\", linewidth=3)\n",
        "\n",
        "ols = LinearRegression()\n",
        "ols.fit(X, y)\n",
        "plt.plot(X_test, ols.coef_ * X_test + ols.intercept_, label=\"Linear Regression Model\", linewidth=1)\n",
        "plt.axhline(0.5, color=\".5\")\n",
        "\n",
        "plt.ylabel(\"y\")\n",
        "plt.xlabel(\"X\")\n",
        "plt.xticks(range(-5, 10))\n",
        "plt.yticks([0, 0.5, 1])\n",
        "plt.ylim(-0.25, 1.25)\n",
        "plt.xlim(-4, 10)\n",
        "plt.legend(loc=\"lower right\", fontsize=\"small\")\n",
        "plt.tight_layout()\n",
        "plt.show()"
      ],
      "metadata": {
        "colab": {
          "base_uri": "https://localhost:8080/",
          "height": 307
        },
        "id": "lJqXvjy60-Aq",
        "outputId": "7e474ec7-a513-4ebe-e608-47fb6fb14454"
      },
      "execution_count": 7,
      "outputs": [
        {
          "output_type": "display_data",
          "data": {
            "text/plain": [
              "<Figure size 400x300 with 1 Axes>"
            ],
            "image/png": "[encoded data removed]"
          },
          "metadata": {}
        }
      ]
    }
  ],
  "metadata": {
    "kernelspec": {
      "display_name": "Python 3",
      "language": "python",
      "name": "python3"
    },
    "language_info": {
      "codemirror_mode": {
        "name": "ipython",
        "version": 3
      },
      "file_extension": ".py",
      "mimetype": "text/x-python",
      "name": "python",
      "nbconvert_exporter": "python",
      "pygments_lexer": "ipython3",
      "version": "3.9.15"
    },
    "colab": {
      "provenance": []
    }
  },
  "nbformat": 4,
  "nbformat_minor": 0
}