{
 "cells": [
  {
   "cell_type": "code",
   "execution_count": 6,
   "metadata": {
    "executionInfo": {
     "elapsed": 2241,
     "status": "ok",
     "timestamp": 1750808156673,
     "user": {
      "displayName": "Anahi Romo-IDSA",
      "userId": "02022985644468618187"
     },
     "user_tz": 180
    },
    "id": "lBisGiZsS2EY"
   },
   "outputs": [],
   "source": [
    "!pip freeze > requirements.txt"
   ]
  },
  {
   "cell_type": "code",
   "execution_count": 2,
   "metadata": {
    "colab": {
     "base_uri": "https://localhost:8080/"
    },
    "executionInfo": {
     "elapsed": 125,
     "status": "ok",
     "timestamp": 1750808165521,
     "user": {
      "displayName": "Anahi Romo-IDSA",
      "userId": "02022985644468618187"
     },
     "user_tz": 180
    },
    "id": "n2hj7HdxTGZV",
    "outputId": "cf01f1d6-265b-4fcf-ca97-5eae168c0e07"
   },
   "outputs": [
    {
     "name": "stdout",
     "output_type": "stream",
     "text": [
      "REGRESIONES-02-peso-especifico.ipynb requirements.txt\n"
     ]
    }
   ],
   "source": [
    "!ls"
   ]
  },
  {
   "cell_type": "code",
   "execution_count": 8,
   "metadata": {
    "colab": {
     "base_uri": "https://localhost:8080/",
     "height": 17
    },
    "executionInfo": {
     "elapsed": 23,
     "status": "ok",
     "timestamp": 1750808204517,
     "user": {
      "displayName": "Anahi Romo-IDSA",
      "userId": "02022985644468618187"
     },
     "user_tz": 180
    },
    "id": "i3TsCeOdTJFw",
    "outputId": "75a59254-8cb9-4f09-8c14-2b13f35be31b"
   },
   "outputs": [
    {
     "data": {
      "text/html": [
       "<a href='requirements.txt' target='_blank'>requirements.txt</a><br>"
      ],
      "text/plain": [
       "/Users/abc/Desktop/IA/6 -  REGRESIONES/2025-06-24 REGRESIONES/requirements.txt"
      ]
     },
     "execution_count": 8,
     "metadata": {},
     "output_type": "execute_result"
    }
   ],
   "source": [
    "from IPython.display import FileLink\n",
    "FileLink('requirements.txt')"
   ]
  },
  {
   "cell_type": "code",
   "execution_count": null,
   "metadata": {
    "executionInfo": {
     "elapsed": 1873,
     "status": "ok",
     "timestamp": 1750810381861,
     "user": {
      "displayName": "Anahi Romo-IDSA",
      "userId": "02022985644468618187"
     },
     "user_tz": 180
    },
    "id": "yd5mFHYVo0Ws"
   },
   "outputs": [],
   "source": [
    "# PESO ESPECÍFICO (Unidades de g/cm3)\n",
    "# barras de base 1 cm2 y largo 'l'\n",
    "# R peso específico -> hay que estimar\n",
    "# se pesan las barras con una balanza con errores (pequeños pero desconocidos)\n",
    "\n",
    "import requests\n",
    "import io\n",
    "import pandas as pd\n",
    "import numpy as np\n",
    "import matplotlib.pyplot as plt\n",
    "from sklearn import linear_model\n"
   ]
  },
  {
   "cell_type": "code",
   "execution_count": 10,
   "metadata": {
    "executionInfo": {
     "elapsed": 5,
     "status": "ok",
     "timestamp": 1750810446216,
     "user": {
      "displayName": "Anahi Romo-IDSA",
      "userId": "02022985644468618187"
     },
     "user_tz": 180
    },
    "id": "_BGC4xx-pHTz"
   },
   "outputs": [],
   "source": [
    "def coef_corr(x, y):\n",
    "    '''Dados, dos np.arrays 'x' e 'y', calcula el coeficiente de correlación\n",
    "    para un ajuste lineal calculado por mínimos cuadrados. Es el coeficiente de\n",
    "    correlación de Pearson, que indica que tan buena es la relación lineal entre\n",
    "    dos variables, siendo 1 ó -1 correlación perfecta y 0 nula correlación'''\n",
    "    arriba = sum(((x - x.mean())*(y-y.mean())))\n",
    "    abajo = sum(((x-x.mean())**2)) * sum(((y -y.mean())**2))\n",
    "    corr = arriba / np.sqrt(abajo)\n",
    "\n",
    "    return corr\n"
   ]
  },
  {
   "cell_type": "code",
   "execution_count": 11,
   "metadata": {
    "colab": {
     "base_uri": "https://localhost:8080/",
     "height": 423
    },
    "executionInfo": {
     "elapsed": 212,
     "status": "ok",
     "timestamp": 1750810554092,
     "user": {
      "displayName": "Anahi Romo-IDSA",
      "userId": "02022985644468618187"
     },
     "user_tz": 180
    },
    "id": "1dHWIlAIpLth",
    "outputId": "c1efb841-f997-407b-fd8c-310be677b579"
   },
   "outputs": [
    {
     "data": {
      "text/html": [
       "<div>\n",
       "<style scoped>\n",
       "    .dataframe tbody tr th:only-of-type {\n",
       "        vertical-align: middle;\n",
       "    }\n",
       "\n",
       "    .dataframe tbody tr th {\n",
       "        vertical-align: top;\n",
       "    }\n",
       "\n",
       "    .dataframe thead th {\n",
       "        text-align: right;\n",
       "    }\n",
       "</style>\n",
       "<table border=\"1\" class=\"dataframe\">\n",
       "  <thead>\n",
       "    <tr style=\"text-align: right;\">\n",
       "      <th></th>\n",
       "      <th>longitud</th>\n",
       "      <th>peso</th>\n",
       "    </tr>\n",
       "  </thead>\n",
       "  <tbody>\n",
       "    <tr>\n",
       "      <th>0</th>\n",
       "      <td>19.1</td>\n",
       "      <td>136.92</td>\n",
       "    </tr>\n",
       "    <tr>\n",
       "      <th>1</th>\n",
       "      <td>18.3</td>\n",
       "      <td>132.22</td>\n",
       "    </tr>\n",
       "    <tr>\n",
       "      <th>2</th>\n",
       "      <td>3.1</td>\n",
       "      <td>20.27</td>\n",
       "    </tr>\n",
       "    <tr>\n",
       "      <th>3</th>\n",
       "      <td>10.1</td>\n",
       "      <td>71.70</td>\n",
       "    </tr>\n",
       "    <tr>\n",
       "      <th>4</th>\n",
       "      <td>10.8</td>\n",
       "      <td>77.26</td>\n",
       "    </tr>\n",
       "    <tr>\n",
       "      <th>...</th>\n",
       "      <td>...</td>\n",
       "      <td>...</td>\n",
       "    </tr>\n",
       "    <tr>\n",
       "      <th>95</th>\n",
       "      <td>6.0</td>\n",
       "      <td>44.29</td>\n",
       "    </tr>\n",
       "    <tr>\n",
       "      <th>96</th>\n",
       "      <td>19.1</td>\n",
       "      <td>138.61</td>\n",
       "    </tr>\n",
       "    <tr>\n",
       "      <th>97</th>\n",
       "      <td>11.9</td>\n",
       "      <td>85.28</td>\n",
       "    </tr>\n",
       "    <tr>\n",
       "      <th>98</th>\n",
       "      <td>16.8</td>\n",
       "      <td>120.72</td>\n",
       "    </tr>\n",
       "    <tr>\n",
       "      <th>99</th>\n",
       "      <td>18.8</td>\n",
       "      <td>135.74</td>\n",
       "    </tr>\n",
       "  </tbody>\n",
       "</table>\n",
       "<p>100 rows × 2 columns</p>\n",
       "</div>"
      ],
      "text/plain": [
       "    longitud    peso\n",
       "0       19.1  136.92\n",
       "1       18.3  132.22\n",
       "2        3.1   20.27\n",
       "3       10.1   71.70\n",
       "4       10.8   77.26\n",
       "..       ...     ...\n",
       "95       6.0   44.29\n",
       "96      19.1  138.61\n",
       "97      11.9   85.28\n",
       "98      16.8  120.72\n",
       "99      18.8  135.74\n",
       "\n",
       "[100 rows x 2 columns]"
      ]
     },
     "execution_count": 11,
     "metadata": {},
     "output_type": "execute_result"
    }
   ],
   "source": [
    "enlace = 'https://raw.githubusercontent.com/python-unsam/Programacion_en_Python_UNSAM/master/Notas/11_Recursion/longitudes_y_pesos.csv'\n",
    "r = requests.get(enlace).content\n",
    "data_lyp = pd.read_csv(io.StringIO(r.decode('utf-8')))\n",
    "data_lyp.columns = ['longitud', 'peso']  # pd.dataframe\n",
    "data_lyp"
   ]
  },
  {
   "cell_type": "code",
   "execution_count": 12,
   "metadata": {
    "colab": {
     "base_uri": "https://localhost:8080/",
     "height": 423
    },
    "executionInfo": {
     "elapsed": 159,
     "status": "ok",
     "timestamp": 1750810621203,
     "user": {
      "displayName": "Anahi Romo-IDSA",
      "userId": "02022985644468618187"
     },
     "user_tz": 180
    },
    "id": "rJFux8vwcTE7",
    "outputId": "422680a2-66c6-41a8-c864-ca847b74be8a"
   },
   "outputs": [
    {
     "data": {
      "text/html": [
       "<div>\n",
       "<style scoped>\n",
       "    .dataframe tbody tr th:only-of-type {\n",
       "        vertical-align: middle;\n",
       "    }\n",
       "\n",
       "    .dataframe tbody tr th {\n",
       "        vertical-align: top;\n",
       "    }\n",
       "\n",
       "    .dataframe thead th {\n",
       "        text-align: right;\n",
       "    }\n",
       "</style>\n",
       "<table border=\"1\" class=\"dataframe\">\n",
       "  <thead>\n",
       "    <tr style=\"text-align: right;\">\n",
       "      <th></th>\n",
       "      <th>longitud</th>\n",
       "      <th>peso</th>\n",
       "    </tr>\n",
       "  </thead>\n",
       "  <tbody>\n",
       "    <tr>\n",
       "      <th>0</th>\n",
       "      <td>19.1</td>\n",
       "      <td>136.92</td>\n",
       "    </tr>\n",
       "    <tr>\n",
       "      <th>1</th>\n",
       "      <td>18.3</td>\n",
       "      <td>132.22</td>\n",
       "    </tr>\n",
       "    <tr>\n",
       "      <th>2</th>\n",
       "      <td>3.1</td>\n",
       "      <td>20.27</td>\n",
       "    </tr>\n",
       "    <tr>\n",
       "      <th>3</th>\n",
       "      <td>10.1</td>\n",
       "      <td>71.70</td>\n",
       "    </tr>\n",
       "    <tr>\n",
       "      <th>4</th>\n",
       "      <td>10.8</td>\n",
       "      <td>77.26</td>\n",
       "    </tr>\n",
       "    <tr>\n",
       "      <th>...</th>\n",
       "      <td>...</td>\n",
       "      <td>...</td>\n",
       "    </tr>\n",
       "    <tr>\n",
       "      <th>95</th>\n",
       "      <td>6.0</td>\n",
       "      <td>44.29</td>\n",
       "    </tr>\n",
       "    <tr>\n",
       "      <th>96</th>\n",
       "      <td>19.1</td>\n",
       "      <td>138.61</td>\n",
       "    </tr>\n",
       "    <tr>\n",
       "      <th>97</th>\n",
       "      <td>11.9</td>\n",
       "      <td>85.28</td>\n",
       "    </tr>\n",
       "    <tr>\n",
       "      <th>98</th>\n",
       "      <td>16.8</td>\n",
       "      <td>120.72</td>\n",
       "    </tr>\n",
       "    <tr>\n",
       "      <th>99</th>\n",
       "      <td>18.8</td>\n",
       "      <td>135.74</td>\n",
       "    </tr>\n",
       "  </tbody>\n",
       "</table>\n",
       "<p>100 rows × 2 columns</p>\n",
       "</div>"
      ],
      "text/plain": [
       "    longitud    peso\n",
       "0       19.1  136.92\n",
       "1       18.3  132.22\n",
       "2        3.1   20.27\n",
       "3       10.1   71.70\n",
       "4       10.8   77.26\n",
       "..       ...     ...\n",
       "95       6.0   44.29\n",
       "96      19.1  138.61\n",
       "97      11.9   85.28\n",
       "98      16.8  120.72\n",
       "99      18.8  135.74\n",
       "\n",
       "[100 rows x 2 columns]"
      ]
     },
     "execution_count": 12,
     "metadata": {},
     "output_type": "execute_result"
    }
   ],
   "source": [
    "data_lyp2=pd.read_csv(enlace)\n",
    "data_lyp2"
   ]
  },
  {
   "cell_type": "code",
   "execution_count": 13,
   "metadata": {
    "colab": {
     "base_uri": "https://localhost:8080/"
    },
    "executionInfo": {
     "elapsed": 32,
     "status": "ok",
     "timestamp": 1750810655688,
     "user": {
      "displayName": "Anahi Romo-IDSA",
      "userId": "02022985644468618187"
     },
     "user_tz": 180
    },
    "id": "k-91_1ibOAKA",
    "outputId": "16f46c50-707a-4da5-86d0-d776374312ab"
   },
   "outputs": [
    {
     "name": "stdout",
     "output_type": "stream",
     "text": [
      "<class 'pandas.core.frame.DataFrame'>\n",
      "RangeIndex: 100 entries, 0 to 99\n",
      "Data columns (total 2 columns):\n",
      " #   Column    Non-Null Count  Dtype  \n",
      "---  ------    --------------  -----  \n",
      " 0   longitud  100 non-null    float64\n",
      " 1   peso      100 non-null    float64\n",
      "dtypes: float64(2)\n",
      "memory usage: 1.7 KB\n"
     ]
    }
   ],
   "source": [
    "data_lyp.info()\n"
   ]
  },
  {
   "cell_type": "code",
   "execution_count": null,
   "metadata": {
    "colab": {
     "base_uri": "https://localhost:8080/",
     "height": 300
    },
    "executionInfo": {
     "elapsed": 56,
     "status": "ok",
     "timestamp": 1750810666859,
     "user": {
      "displayName": "Anahi Romo-IDSA",
      "userId": "02022985644468618187"
     },
     "user_tz": 180
    },
    "id": "S-b4oJm4OLqx",
    "outputId": "38a59c46-dc16-4bec-ba7e-7eb3c63b3d58"
   },
   "outputs": [
    {
     "name": "stdout",
     "output_type": "stream",
     "text": [
      "         longitud        peso\n",
      "count  100.000000  100.000000\n",
      "mean    14.187000  102.187700\n",
      "std      6.640048   47.817424\n",
      "min      3.100000   20.270000\n",
      "25%      7.600000   55.877500\n",
      "50%     14.500000  105.185000\n",
      "75%     19.625000  141.105000\n",
      "max     25.000000  179.770000\n",
      "   longitud    peso\n",
      "0      19.1  136.92\n",
      "1      18.3  132.22\n",
      "2       3.1   20.27\n",
      "3      10.1   71.70\n",
      "4      10.8   77.26\n"
     ]
    }
   ],
   "source": [
    "print(data_lyp.describe())\n",
    "print(data_lyp.head())\n",
    "\n",
    "# se pesan las barras\n",
    "# count: cantidad de datos (filas) no nulos en cada columna.\n",
    "# mean: promedio de los valores.\n",
    "# std: desviación estándar (medida de dispersión).\n",
    "# min: valor mínimo."
   ]
  },
  {
   "cell_type": "code",
   "execution_count": null,
   "metadata": {
    "colab": {
     "base_uri": "https://localhost:8080/"
    },
    "executionInfo": {
     "elapsed": 31,
     "status": "ok",
     "timestamp": 1750810856405,
     "user": {
      "displayName": "Anahi Romo-IDSA",
      "userId": "02022985644468618187"
     },
     "user_tz": 180
    },
    "id": "Z1Q92lM5pWEa",
    "outputId": "2b9387c2-5227-4a92-8f9b-33574ef97249"
   },
   "outputs": [
    {
     "name": "stdout",
     "output_type": "stream",
     "text": [
      "7.202372690217998\n"
     ]
    }
   ],
   "source": [
    "# Extraemos las columnas del DataFrame como Series\n",
    "peso = data_lyp['peso']        # Variable dependiente (target Y)\n",
    "longitud = data_lyp['longitud']  # Variable independiente (feature X)\n",
    "\n",
    "# ------------------------------------------------------------------------------------\n",
    "# SE BUSCA PREDECIR EL PESO CON LA LONGITUD\n",
    "# ------------------------------------------------------------------------------------\n",
    "# Creamos el modelo de regresión lineal\n",
    "lyp = linear_model.LinearRegression(fit_intercept=False)   # No hay ordenada al origen\n",
    "# 🎯 ¿Qué se busca encontrar?\n",
    "\n",
    "# El coeficiente de proporcionalidad entre las dos variables.\n",
    "# Básicamente, se está probando si existe una relación directamente proporcional:\n",
    "# peso∝longitud\n",
    "# El número que devuelve (R) es esa constante de proporcionalidad.\n",
    "\n",
    "# lyp DEVUELVE 7.202... es el coeficiente → significa que:\n",
    "# 👉 Por cada 1 unidad que aumenta la longitud, el peso aumenta en promedio 7.20 unidades.\n",
    "# ------------------------------------------------------------------------------------\n",
    "# 📌 ENTRENAMOS EL MODELO de regresión lineal\n",
    "# X = data_lyp[['longitud']] → variable independiente (lo que explica, predictor)\n",
    "#    - Se usa con doble corchete para que quede en formato DataFrame (2D),\n",
    "#      que es lo que sklearn espera como input.\n",
    "# Y = data_lyp['peso'] → variable dependiente (lo que queremos predecir)\n",
    "lyp.fit(data_lyp[['longitud']], data_lyp['peso'])\n",
    "\n",
    "# 📌 fit() → ENTRENAR EL MODELO\n",
    "# Toma los datos de entrada (X = longitud) y los valores reales (Y = peso).\n",
    "# Ajusta la recta que mejor representa la relación entre ambas variables.\n",
    "# ------------------------------------------------------------------------------------\n",
    "# 📌 Obtenemos el coeficiente (pendiente de la recta)\n",
    "# lyp.coef_ devuelve un array con los coeficientes de cada variable independiente.\n",
    "# Como solo tenemos UNA variable (longitud), el array tendrá un solo valor.\n",
    "# Ejemplo: array([7.20237269])\n",
    "R = lyp.coef_[0]   # Extraemos ese único valor → queda como número float\n",
    "# ------------------------------------------------------------------------------------\n",
    "# 📌 Interpretación del resultado\n",
    "# El modelo ajustado tiene la forma:  peso ≈ R * longitud\n",
    "# R = 7.20 (aprox) significa:\n",
    "# → Por cada 1 unidad que aumenta la longitud, el peso aumenta en promedio 7.20 unidades.\n",
    "print(R)  # Muestra el valor de la pendiente\n",
    "\n"
   ]
  },
  {
   "cell_type": "code",
   "execution_count": null,
   "metadata": {
    "colab": {
     "base_uri": "https://localhost:8080/"
    },
    "executionInfo": {
     "elapsed": 16,
     "status": "ok",
     "timestamp": 1750811228118,
     "user": {
      "displayName": "Anahi Romo-IDSA",
      "userId": "02022985644468618187"
     },
     "user_tz": 180
    },
    "id": "7Ms2USkAp1te",
    "outputId": "7b9af7fa-48a7-4d60-977d-4aa45463c12a"
   },
   "outputs": [
    {
     "name": "stdout",
     "output_type": "stream",
     "text": [
      "[137.56531838 131.80342023  22.32735534  72.74396417  77.78562505\n",
      "  99.39274313 108.03559035 169.97599549 178.61884272 127.48199662\n",
      " 161.33314826  54.01779518 103.71416674 100.11298039 149.80935196\n",
      "  94.35108224 148.36887742 125.32128481 163.49386007  45.37494795\n",
      "  45.37494795 129.64270842  54.73803245  43.93447341  98.67250586\n",
      "  40.33328707  28.80949076 119.55938666 104.43440401 110.91653943\n",
      " 104.43440401  62.6606424   87.14870955  36.73210072 151.97006376\n",
      "  28.08925349 124.60104754  41.05352433 111.6367767   96.51179405\n",
      "  87.86894682 114.51772577 172.85694457  27.36901622  39.6130498\n",
      "  57.61898152 175.73789364 158.45219918  25.92854168  39.6130498\n",
      "  83.54752321 136.84508111  33.85115164  34.57138891  22.32735534\n",
      " 100.83321766 167.81528368  68.42254056  54.73803245 154.85101284\n",
      " 139.00579292 160.61291099  46.81542249 151.97006376 120.27962393\n",
      " 126.76175935 100.11298039 140.44626746  59.05945606 151.97006376\n",
      " 118.83914939 168.53552095  43.93447341 161.33314826 113.79748851\n",
      "  28.08925349 108.75582762  45.37494795 180.05931726 178.61884272\n",
      "  59.05945606 149.80935196  29.52972803 162.7736228  141.16650473\n",
      " 154.85101284  93.63084497 162.7736228   44.65471068  87.14870955\n",
      " 168.53552095 117.39867485 141.886742    83.54752321 103.71416674\n",
      "  43.21423614 137.56531838  85.70823501 120.9998612  135.40460658]\n",
      "0    -0.645318\n",
      "1     0.416580\n",
      "2    -2.057355\n",
      "3    -1.043964\n",
      "4    -0.525625\n",
      "        ...   \n",
      "95    1.075764\n",
      "96    1.044682\n",
      "97   -0.428235\n",
      "98   -0.279861\n",
      "99    0.335393\n",
      "Name: peso, Length: 100, dtype: float64\n",
      "0.9291181822605168\n"
     ]
    }
   ],
   "source": [
    "# 📌 Paso 1: calcular predicciones del modelo\n",
    "# 📌 predict() → HACER PREDICCIONES\n",
    "# Una vez entrenado, el modelo ya \"aprendió\" la pendiente R (≈ 7.20).\n",
    "# Con predict(), usamos esa recta para estimar nuevos valores de Y a partir de X.\n",
    "# En este caso: dado un valor de longitud, devuelve el peso estimado.\n",
    "predicciones = lyp.predict(data_lyp[['longitud']])\n",
    "print(predicciones)  # Muestra las predicciones del modelo\n",
    "# ------------------------------------------------------------------------------------\n",
    "# 📌 Paso 2: calcular errores (residuos)\n",
    "# El error es la diferencia entre el valor real y el valor predicho.\n",
    "# Si el error es 0 → el modelo predijo perfecto.\n",
    "errores = peso - predicciones\n",
    "print(errores)\n",
    "# ------------------------------------------------------------------------------------\n",
    "# 📌 Paso 3: calcular el ECM (Error Cuadrático Medio)\n",
    "# 1. Elevamos los errores al cuadrado → (errores**2), para que no se cancelen positivos y negativos.\n",
    "# 2. Calculamos el promedio de esos valores con .mean().\n",
    "# El resultado mide qué tan lejos están, en promedio, las predicciones de los valores reales.\n",
    "ecm = (errores**2).mean()\n",
    "# ------------------------------------------------------------------------------------\n",
    "# 📌 Paso 4: mostrar el resultado\n",
    "# Un ECM más pequeño significa que el modelo se ajusta mejor a los datos.\n",
    "print(ecm)  # ≈ 0.9291 en tu ejemplo \n",
    "# MENOS DE 1 CENTIMETRO DE ERROR\n"
   ]
  },
  {
   "cell_type": "code",
   "execution_count": 33,
   "metadata": {
    "colab": {
     "base_uri": "https://localhost:8080/"
    },
    "executionInfo": {
     "elapsed": 42,
     "status": "ok",
     "timestamp": 1750811282985,
     "user": {
      "displayName": "Anahi Romo-IDSA",
      "userId": "02022985644468618187"
     },
     "user_tz": 180
    },
    "id": "zd-4gnd2iFUt",
    "outputId": "d60a73b5-a9c9-4c0a-e0e9-5d31c1e3fdcb"
   },
   "outputs": [
    {
     "name": "stdout",
     "output_type": "stream",
     "text": [
      "r (correlación de Pearson): 0.9997948247765533\n",
      "R² (coeficiente de determinación): 0.999589691649979\n"
     ]
    }
   ],
   "source": [
    "import pandas as pd\n",
    "\n",
    "# 📌 1. Calcular la correlación de Pearson\n",
    "# corr() devuelve el coeficiente de correlación r (-1 a 1)\n",
    "\n",
    "r = longitud.corr(peso)\n",
    "\n",
    "# r (correlación de Pearson):\n",
    "# Te dice qué tan lineal es la relación entre longitud y peso.\n",
    "# Ejemplo:\n",
    "# r ≈ 1 → a mayor longitud, mayor peso (relación casi perfecta).\n",
    "# r ≈ 0 → no hay relación lineal clara.\n",
    "# ------------------------------------------------------------------------------------\n",
    "# 📌 2. Calcular el coeficiente de determinación R²\n",
    "# Es simplemente r al cuadrado\n",
    "R2 = r**2\n",
    "# R² (coeficiente de determinación):\n",
    "# Te dice qué porcentaje de la variación de peso se explica con longitud.\n",
    "# Ejemplo:\n",
    "# R² = 0.95 → el 95% del peso se puede “explicar” por la longitud.\n",
    "# R² = 0.40 → solo el 40% del peso se explica por la longitud; \n",
    "# el resto depende de otras variables (edad, especie, alimentación, etc.).\n",
    "# ------------------------------------------------------------------------------------\n",
    "# 📌 3. Mostrar resultados\n",
    "print(\"r (correlación de Pearson):\", r)\n",
    "print(\"R² (coeficiente de determinación):\", R2)"
   ]
  },
  {
   "cell_type": "code",
   "execution_count": 34,
   "metadata": {
    "colab": {
     "base_uri": "https://localhost:8080/",
     "height": 487
    },
    "executionInfo": {
     "elapsed": 697,
     "status": "ok",
     "timestamp": 1750811367349,
     "user": {
      "displayName": "Anahi Romo-IDSA",
      "userId": "02022985644468618187"
     },
     "user_tz": 180
    },
    "id": "uVd-hMy2p2ea",
    "outputId": "58692307-f7a8-462e-ea38-0a7f243bcc1e"
   },
   "outputs": [
    {
     "data": {
      "image/png": "[encoded data removed]",
      "text/plain": [
       "<Figure size 640x480 with 1 Axes>"
      ]
     },
     "metadata": {},
     "output_type": "display_data"
    }
   ],
   "source": [
    "minlong = 0.    # límite inf para ver el ajuste\n",
    "maxlong = 30.   # lím superior\n",
    "grilla_longitud = np.linspace(start = minlong, stop = maxlong, num = 1000)\n",
    "grilla_peso = grilla_longitud * R   # recta de ajuste x mínimos cuadrados\n",
    "\n",
    "fig = plt.scatter(longitud, peso, c ='purple', marker = 'x') # x violetas\n",
    "  # acomoda los elementos del gráfico\n",
    "# Agrego la ecuación de la recta fiteada al título, valores redondeados con\n",
    "# 3 decim como cifra significativa\n",
    "plt.title(f'Ajuste lineal: Peso vs. Longitud \\n '\n",
    "          f'Peso= {round(R, 3)} * Longitud \\n'\n",
    "          f'ECM = {round(ecm, 3)} | Coef de Correlación = '\n",
    "          f'{round(coef_corr(longitud, peso), 5)}')\n",
    "plt.plot(grilla_longitud, grilla_peso, c = 'magenta') # magenta p/ recta fitted\n",
    "plt.xlabel('Longitud')\n",
    "plt.ylabel('Peso')\n",
    "plt.tight_layout()\n",
    "plt.show()\n"
   ]
  }
 ],
 "metadata": {
  "colab": {
   "provenance": []
  },
  "kernelspec": {
   "display_name": "base",
   "language": "python",
   "name": "python3"
  },
  "language_info": {
   "codemirror_mode": {
    "name": "ipython",
    "version": 3
   },
   "file_extension": ".py",
   "mimetype": "text/x-python",
   "name": "python",
   "nbconvert_exporter": "python",
   "pygments_lexer": "ipython3",
   "version": "3.12.7"
  }
 },
 "nbformat": 4,
 "nbformat_minor": 0
}
