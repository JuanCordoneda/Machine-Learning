{
 "cells": [
  {
   "cell_type": "markdown",
   "id": "c702db82",
   "metadata": {},
   "source": [
    "Ejercicio 1: Factorización de Polinomios\n",
    "\n",
    "\n",
    "Factoriza el siguiente polinomio cuadrado perfecto: [ x^2 + 14x + 49 ]\n",
    "\n",
    "\n",
    "Este problema involucra un trinomio cuadrado perfecto, por lo que deberás reconocer la forma ( a^2 + 2ab + b^2 ) y factorizarlo."
   ]
  },
  {
   "cell_type": "code",
   "execution_count": 1,
   "id": "617922aa",
   "metadata": {},
   "outputs": [
    {
     "name": "stdout",
     "output_type": "stream",
     "text": [
      "Expresión original: x**2 + 14*x + 49\n",
      "Expresión factorizada: (x + 7)**2\n"
     ]
    }
   ],
   "source": [
    "from sympy import symbols, factor, expand, collect\n",
    "\n",
    "x = symbols('x')\n",
    "\n",
    "exp = x**2 + 14*x + 49\n",
    "factored_exp = factor(exp)\n",
    "\n",
    "print(f\"Expresión original: {exp}\")\n",
    "print(f\"Expresión factorizada: {factored_exp}\")"
   ]
  },
  {
   "cell_type": "markdown",
   "id": "9a1777f3",
   "metadata": {},
   "source": [
    "Ejercicio 2: Descomposición LU\n",
    "\n",
    "Dada la matriz (A), aplica la descomposición LU y obtén las matrices (P), (L), y (U):\n",
    "\n",
    "# Definir la matriz A\n",
    "A = Matrix([\n",
    "    [2, 4, -2],\n",
    "    [-2, -1, 7],\n",
    "    [10, 2, 1]\n",
    "])\n",
    "\n",
    "Este ejercicio implica realizar la factorización LU de la matriz (A)."
   ]
  },
  {
   "cell_type": "code",
   "execution_count": 6,
   "id": "647c4893",
   "metadata": {},
   "outputs": [
    {
     "name": "stdout",
     "output_type": "stream",
     "text": [
      "Matriz P:\n",
      "[[0. 1. 0.]\n",
      " [0. 0. 1.]\n",
      " [1. 0. 0.]]\n",
      "\n",
      "Matriz L:\n",
      "[[1.         0.         0.        ]\n",
      " [0.33333333 1.         0.        ]\n",
      " [0.66666667 0.5        1.        ]]\n",
      "\n",
      "Matriz U:\n",
      "[[ 6.         11.          7.        ]\n",
      " [ 0.         -0.66666667 -1.33333333]\n",
      " [ 0.          0.          1.        ]]\n"
     ]
    }
   ],
   "source": [
    "import numpy as np\n",
    "from scipy.linalg import lu\n",
    "\n",
    "A = np.array([[2, 3, 1], [4, 7, 5], [6, 11, 7]])\n",
    "\n",
    "# Factorización LU\n",
    "P, L, U = lu(A)\n",
    "\n",
    "print(\"Matriz P:\")\n",
    "print(P)\n",
    "print(\"\\nMatriz L:\")\n",
    "print(L)\n",
    "print(\"\\nMatriz U:\")\n",
    "print(U)"
   ]
  },
  {
   "cell_type": "markdown",
   "id": "c1c1808f",
   "metadata": {},
   "source": [
    "Ejercicio 3: Factorización SVD\n",
    "\n",
    "Dada la matriz (B), aplica la factorización de valores singulares (SVD) y obtén las matrices (U), (S), y (V^T):\n",
    "\n",
    "[ B =\n",
    "[123456] \n",
    "]\n",
    "\n",
    "Este ejercicio requiere la aplicación de la factorización SVD a la matriz (B)."
   ]
  },
  {
   "cell_type": "code",
   "execution_count": 8,
   "id": "cda71e71",
   "metadata": {},
   "outputs": [
    {
     "name": "stdout",
     "output_type": "stream",
     "text": [
      "\n",
      "Matriz U:\n",
      "[[-0.3863177  -0.92236578]\n",
      " [-0.92236578  0.3863177 ]]\n",
      "\n",
      "Matriz S:\n",
      "[9.508032   0.77286964]\n",
      "\n",
      "Matriz VT:\n",
      "[[-0.42866713 -0.56630692 -0.7039467 ]\n",
      " [ 0.80596391  0.11238241 -0.58119908]\n",
      " [ 0.40824829 -0.81649658  0.40824829]]\n"
     ]
    }
   ],
   "source": [
    "A = np.array([\n",
    "    [1, 2, 3],\n",
    "    [4, 5, 6]\n",
    "])\n",
    "\n",
    "\n",
    "U, S, VT = np.linalg.svd(A)\n",
    "print(\"\\nMatriz U:\")\n",
    "print(U)\n",
    "print(\"\\nMatriz S:\")\n",
    "print(S)\n",
    "print(\"\\nMatriz VT:\")\n",
    "print(VT)"
   ]
  },
  {
   "cell_type": "markdown",
   "id": "086d1605",
   "metadata": {},
   "source": [
    "Ejercicio 4: Factorización de Polinomios\n",
    "\n",
    "Factoriza el siguiente trinomio cuadrado perfecto: [ m^2 + 6m + 9 ]\n",
    "\n",
    "Este problema se centra en reconocer y factorizar un trinomio cuadrado perfecto."
   ]
  },
  {
   "cell_type": "code",
   "execution_count": 2,
   "id": "61128094",
   "metadata": {},
   "outputs": [
    {
     "name": "stdout",
     "output_type": "stream",
     "text": [
      "Expresión original: m**2 + 6*m + 9\n",
      "Expresión factorizada: (m + 3)**2\n"
     ]
    }
   ],
   "source": [
    "from sympy import symbols, factor, expand, collect\n",
    "\n",
    "m = symbols('m')\n",
    "exp = m**2 + 6*m + 9\n",
    "factored_exp = factor(exp)\n",
    "\n",
    "print(f\"Expresión original: {exp}\")\n",
    "print(f\"Expresión factorizada: {factored_exp}\")"
   ]
  },
  {
   "cell_type": "markdown",
   "id": "123a3fea",
   "metadata": {},
   "source": [
    "Ejercicio 5: Descomposición en Valores Propios\n",
    "\n",
    "Dada la matriz (C), encuentra los valores y vectores propios: \n",
    "[ C = [41−21] ]\n",
    "\n",
    "Este ejercicio implica la descomposición en valores propios de la matriz (C)."
   ]
  },
  {
   "cell_type": "code",
   "execution_count": 11,
   "id": "7f1dca58",
   "metadata": {},
   "outputs": [
    {
     "name": "stdout",
     "output_type": "stream",
     "text": [
      "✅ Matriz C:\n",
      "Matrix([[4, 1], [-2, 1]])\n",
      "\n",
      "🎯 Descomposición en Valores y Vectores Propios:\n",
      "\n",
      "🟡 Valor propio encontrado: 2 (multiplicidad: 1)\n",
      "🔹 Vector propio asociado: \n",
      "⎡-1/2⎤\n",
      "⎢    ⎥\n",
      "⎣ 1  ⎦\n",
      "📌 Esto significa que C · v = 2 · v\n",
      "\n",
      "🟡 Valor propio encontrado: 3 (multiplicidad: 1)\n",
      "🔹 Vector propio asociado: \n",
      "⎡-1⎤\n",
      "⎢  ⎥\n",
      "⎣1 ⎦\n",
      "📌 Esto significa que C · v = 3 · v\n",
      "\n"
     ]
    }
   ],
   "source": [
    "from sympy import Matrix, pprint\n",
    "\n",
    "# Paso 1: Definir la matriz C\n",
    "C = Matrix([\n",
    "    [4, 1],\n",
    "    [-2, 1]\n",
    "])\n",
    "print(\"✅ Matriz C:\")\n",
    "print(C)\n",
    "\n",
    "# Paso 2: Calcular valores y vectores propios\n",
    "eigen = C.eigenvects()\n",
    "\n",
    "# Paso 3: Mostrar resultados con explicaciones\n",
    "print(\"\\n🎯 Descomposición en Valores y Vectores Propios:\\n\")\n",
    "\n",
    "for val in eigen:\n",
    "    valor_propio = val[0]\n",
    "    multiplicidad = val[1]\n",
    "    vectores_propios = val[2]\n",
    "    \n",
    "    print(f\"🟡 Valor propio encontrado: {valor_propio} (multiplicidad: {multiplicidad})\")\n",
    "    \n",
    "    for vec in vectores_propios:\n",
    "        print(f\"🔹 Vector propio asociado: \")\n",
    "        pprint(vec)\n",
    "        print(f\"📌 Esto significa que C · v = {valor_propio} · v\\n\")\n"
   ]
  },
  {
   "cell_type": "markdown",
   "id": "495376da",
   "metadata": {},
   "source": [
    "Ejercicio 6: Factorización de Polinomios\n",
    "\n",
    "Factoriza el siguiente trinomio cuadrado perfecto: [ y^2 - 10y + 25 ]\n",
    "\n",
    "Este problema implica factorizar un trinomio cuadrado perfecto relacionado con la forma ( a^2 - 2ab + b^2 )."
   ]
  },
  {
   "cell_type": "code",
   "execution_count": 6,
   "id": "f3016424",
   "metadata": {},
   "outputs": [
    {
     "name": "stdout",
     "output_type": "stream",
     "text": [
      "Expresión original: m**2 + 10*m + 25\n",
      "Expresión factorizada: (m + 5)**2\n"
     ]
    }
   ],
   "source": [
    "from sympy import symbols, factor, expand, collect\n",
    "\n",
    "m = symbols('m')\n",
    "exp = m**2 + 10*m + 25\n",
    "factored_exp = factor(exp)\n",
    "\n",
    "print(f\"Expresión original: {exp}\")\n",
    "print(f\"Expresión factorizada: {factored_exp}\")"
   ]
  },
  {
   "cell_type": "markdown",
   "id": "5053f795",
   "metadata": {},
   "source": [
    "Ejercicio 7: Factorización SVD\n",
    "\n",
    "Dada la matriz (D), aplica la factorización de valores singulares (SVD) y obtén las matrices (U), (S), y (V^T):\n",
    "\n",
    "[ D =[3214] ]\n",
    "\n",
    "Este ejercicio requiere la aplicación de la factorización SVD a la matriz (D)."
   ]
  },
  {
   "cell_type": "code",
   "execution_count": 8,
   "id": "de724a0a",
   "metadata": {},
   "outputs": [
    {
     "name": "stdout",
     "output_type": "stream",
     "text": [
      "\n",
      "Matriz U:\n",
      "[[-0.64074744 -0.76775173]\n",
      " [-0.76775173  0.64074744]]\n",
      "\n",
      "Matriz S:\n",
      "[5.11667274 1.95439508]\n",
      "\n",
      "Matriz VT:\n",
      "[[-0.52573111 -0.85065081]\n",
      " [-0.85065081  0.52573111]]\n"
     ]
    }
   ],
   "source": [
    "import numpy as np\n",
    "\n",
    "A = np.array([\n",
    "    [3, 2],\n",
    "    [1, 4]\n",
    "])\n",
    "\n",
    "\n",
    "U, S, VT = np.linalg.svd(A)\n",
    "print(\"\\nMatriz U:\")\n",
    "print(U)\n",
    "print(\"\\nMatriz S:\")\n",
    "print(S)\n",
    "print(\"\\nMatriz VT:\")\n",
    "print(VT)"
   ]
  },
  {
   "cell_type": "markdown",
   "id": "0ce53860",
   "metadata": {},
   "source": [
    "Ejercicio 8: Factorización de Polinomios\n",
    "\n",
    "Factoriza el siguiente polinomio cuadrado perfecto: [ a^2 - 8a + 16 ]\n",
    "\n",
    "Este problema se centra en reconocer y factorizar un trinomio cuadrado perfecto."
   ]
  },
  {
   "cell_type": "code",
   "execution_count": 10,
   "id": "95cccaa7",
   "metadata": {},
   "outputs": [
    {
     "name": "stdout",
     "output_type": "stream",
     "text": [
      "Expresión original: m**2 + 8*m + 16\n",
      "Expresión factorizada: (m + 4)**2\n"
     ]
    }
   ],
   "source": [
    "from sympy import symbols, factor, expand, collect\n",
    "\n",
    "m = symbols('m')\n",
    "exp = m**2 + 8*m + 16\n",
    "factored_exp = factor(exp)\n",
    "\n",
    "print(f\"Expresión original: {exp}\")\n",
    "print(f\"Expresión factorizada: {factored_exp}\")"
   ]
  }
 ],
 "metadata": {
  "kernelspec": {
   "display_name": "base",
   "language": "python",
   "name": "python3"
  },
  "language_info": {
   "codemirror_mode": {
    "name": "ipython",
    "version": 3
   },
   "file_extension": ".py",
   "mimetype": "text/x-python",
   "name": "python",
   "nbconvert_exporter": "python",
   "pygments_lexer": "ipython3",
   "version": "3.12.7"
  }
 },
 "nbformat": 4,
 "nbformat_minor": 5
}
