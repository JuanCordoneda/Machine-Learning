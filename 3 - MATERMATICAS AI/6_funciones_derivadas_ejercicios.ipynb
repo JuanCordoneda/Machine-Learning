{
 "cells": [
  {
   "cell_type": "code",
   "execution_count": 1,
   "id": "b746c879",
   "metadata": {},
   "outputs": [],
   "source": [
    "#Realice los siguientes ejercicios e imprima los resultados\n",
    "\n",
    "import sympy as sp\n",
    "import numpy as np\n",
    "from scipy.integrate import quad"
   ]
  },
  {
   "cell_type": "code",
   "execution_count": 2,
   "id": "43f7de2f",
   "metadata": {},
   "outputs": [
    {
     "name": "stdout",
     "output_type": "stream",
     "text": [
      "✅ Ejercicio 1 - Derivada sigmoidal: exp(-x)/(1 + exp(-x))**2\n"
     ]
    }
   ],
   "source": [
    "# Ejercicio 1: Derivada de la función sigmoidal\n",
    "x = sp.Symbol('x')\n",
    "sigmoid = 1 / (1 + sp.exp(-x))\n",
    "sigmoid_derivative = sp.diff(sigmoid, x)\n",
    "print(\"✅ Ejercicio 1 - Derivada sigmoidal:\", sigmoid_derivative)"
   ]
  },
  {
   "cell_type": "code",
   "execution_count": 3,
   "id": "152f51b5",
   "metadata": {},
   "outputs": [
    {
     "name": "stdout",
     "output_type": "stream",
     "text": [
      "✅ Ejercicio 2 - Integral definida sigmoidal en [0,1]: 0.6201145069582775\n"
     ]
    }
   ],
   "source": [
    "# Ejercicio 2: Integral definida de la función sigmoidal en [0, 1]\n",
    "sigmoid_np = sp.lambdify(x, sigmoid, 'numpy')\n",
    "integral_val, _ = quad(sigmoid_np, 0, 1)\n",
    "print(\"✅ Ejercicio 2 - Integral definida sigmoidal en [0,1]:\", integral_val)"
   ]
  },
  {
   "cell_type": "code",
   "execution_count": 4,
   "id": "95b2c344",
   "metadata": {},
   "outputs": [
    {
     "name": "stdout",
     "output_type": "stream",
     "text": [
      "✅ Ejercicio 3 - Derivada parcial respecto a x: exp(-x - y)/(exp(-x - y) + 1)**2\n"
     ]
    }
   ],
   "source": [
    "# Ejercicio 3: Derivada parcial respecto a x\n",
    "x, y = sp.symbols('x y')\n",
    "sigmoid_xy = 1 / (1 + sp.exp(-(x + y)))\n",
    "partial_x = sp.diff(sigmoid_xy, x)\n",
    "print(\"✅ Ejercicio 3 - Derivada parcial respecto a x:\", partial_x)"
   ]
  },
  {
   "cell_type": "code",
   "execution_count": 5,
   "id": "85276eb9",
   "metadata": {},
   "outputs": [
    {
     "name": "stdout",
     "output_type": "stream",
     "text": [
      "✅ Ejercicio 4 - Derivada parcial respecto a y: exp(-x - y)/(exp(-x - y) + 1)**2\n"
     ]
    }
   ],
   "source": [
    "# Ejercicio 4: Derivada parcial respecto a y\n",
    "partial_y = sp.diff(sigmoid_xy, y)\n",
    "print(\"✅ Ejercicio 4 - Derivada parcial respecto a y:\", partial_y)"
   ]
  },
  {
   "cell_type": "code",
   "execution_count": 6,
   "id": "04f99710",
   "metadata": {},
   "outputs": [
    {
     "name": "stdout",
     "output_type": "stream",
     "text": [
      "✅ Ejercicio 5 - Derivada de x² * sigmoide: x**2*exp(-x)/(1 + exp(-x))**2 + 2*x/(1 + exp(-x))\n"
     ]
    }
   ],
   "source": [
    "# Ejercicio 5: Derivada de la función f(x) = x^2 * sigmoidal(x)\n",
    "x = sp.Symbol('x')\n",
    "sigmoid = 1 / (1 + sp.exp(-x))\n",
    "f = x**2 * sigmoid\n",
    "f_derivative = sp.diff(f, x)\n",
    "print(\"✅ Ejercicio 5 - Derivada de x² * sigmoide:\", f_derivative)"
   ]
  },
  {
   "cell_type": "code",
   "execution_count": 7,
   "id": "5c1f5f40",
   "metadata": {},
   "outputs": [
    {
     "name": "stdout",
     "output_type": "stream",
     "text": [
      "✅ Ejercicio 6 - Integral indefinida de e^(-x²): sqrt(pi)*erf(x)/2\n"
     ]
    }
   ],
   "source": [
    "# Ejercicio 6: Integral indefinida de la función e^(-x^2)\n",
    "f = sp.exp(-x**2)\n",
    "integral_indef = sp.integrate(f, x)\n",
    "print(\"✅ Ejercicio 6 - Integral indefinida de e^(-x²):\", integral_indef)"
   ]
  },
  {
   "cell_type": "code",
   "execution_count": 8,
   "id": "2f746e14",
   "metadata": {},
   "outputs": [
    {
     "name": "stdout",
     "output_type": "stream",
     "text": [
      "✅ Ejercicio 7 - Derivada parcial respecto a x: y**2 + exp(-x)/(1 + exp(-x))**2\n"
     ]
    }
   ],
   "source": [
    "# Ejercicio 7: Derivada parcial de la función f(x, y) = x*y^2 + sigmoidal(x)\n",
    "x, y = sp.symbols('x y')\n",
    "f = x*y**2 + 1 / (1 + sp.exp(-x))\n",
    "df_dx = sp.diff(f, x)\n",
    "print(\"✅ Ejercicio 7 - Derivada parcial respecto a x:\", df_dx)"
   ]
  },
  {
   "cell_type": "code",
   "execution_count": 9,
   "id": "72dc1305",
   "metadata": {},
   "outputs": [
    {
     "name": "stdout",
     "output_type": "stream",
     "text": [
      "✅ Ejercicio 8 - Derivada parcial respecto a y: 2*x*y\n"
     ]
    }
   ],
   "source": [
    "# Ejercicio 8: Derivada parcial de la función f(x, y) respecto a y\n",
    "df_dy = sp.diff(f, y)\n",
    "print(\"✅ Ejercicio 8 - Derivada parcial respecto a y:\", df_dy)"
   ]
  },
  {
   "cell_type": "code",
   "execution_count": 10,
   "id": "7aa296df",
   "metadata": {},
   "outputs": [
    {
     "name": "stdout",
     "output_type": "stream",
     "text": [
      "✅ Ejercicio 9 - Integral doble: 3\n"
     ]
    }
   ],
   "source": [
    "# Ejercicio 9: Integral doble de la función f(x, y) = x + y sobre el rectángulo [0, 1] x [0, 2]\n",
    "x, y = sp.symbols('x y')\n",
    "f = x + y\n",
    "int_doble = sp.integrate(sp.integrate(f, (x, 0, 1)), (y, 0, 2))\n",
    "print(\"✅ Ejercicio 9 - Integral doble:\", int_doble)"
   ]
  },
  {
   "cell_type": "code",
   "execution_count": 11,
   "id": "2d4fe321",
   "metadata": {},
   "outputs": [
    {
     "name": "stdout",
     "output_type": "stream",
     "text": [
      "✅ Ejercicio 10 - Integral triple: 3/2\n"
     ]
    }
   ],
   "source": [
    "# Ejercicio 10: Integral triple de la función f(x, y, z) = x + y + z sobre el cubo [0, 1] x [0, 1] x [0, 1]\n",
    "x, y, z = sp.symbols('x y z')\n",
    "f = x + y + z\n",
    "\n",
    "# Integración primero en x, luego en y, luego en z\n",
    "integral_triple = sp.integrate(sp.integrate(sp.integrate(f, (x, 0, 1)), (y, 0, 1)), (z, 0, 1))\n",
    "\n",
    "print(\"✅ Ejercicio 10 - Integral triple:\", integral_triple)"
   ]
  }
 ],
 "metadata": {
  "kernelspec": {
   "display_name": "base",
   "language": "python",
   "name": "python3"
  },
  "language_info": {
   "codemirror_mode": {
    "name": "ipython",
    "version": 3
   },
   "file_extension": ".py",
   "mimetype": "text/x-python",
   "name": "python",
   "nbconvert_exporter": "python",
   "pygments_lexer": "ipython3",
   "version": "3.12.7"
  }
 },
 "nbformat": 4,
 "nbformat_minor": 5
}
