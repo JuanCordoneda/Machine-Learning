{
 "cells": [
  {
   "cell_type": "code",
   "execution_count": 1,
   "id": "d94bacf8",
   "metadata": {},
   "outputs": [
    {
     "name": "stdout",
     "output_type": "stream",
     "text": [
      "Función de utilidad: -0.5*x**2 + 17*x - 200\n",
      "Derivada de U: 17 - 1.0*x\n",
      "Cantidad óptima a producir: 17.0000000000000\n",
      "Segunda derivada: -1.00000000000000\n"
     ]
    }
   ],
   "source": [
    "# Ejercicio 1: Maximización de Utilidades en Producción\n",
    "# Una fábrica produce cierto producto cuyos ingresos de venta dependen de la cantidad producida (x) y están dados por la función:\n",
    "\n",
    "# [ R(x) = 20x - 0.5x^2 ]\n",
    "\n",
    "# Los costos de producción están modelados por la función:\n",
    "\n",
    "# [ C(x) = 200 + 3x ]\n",
    "\n",
    "# Encuentra la cantidad óptima a producir para maximizar las utilidades.\n",
    "\n",
    "import sympy as sp\n",
    "\n",
    "# Definir la variable simbólica\n",
    "x = sp.Symbol('x')\n",
    "\n",
    "# Ingresos y costos\n",
    "R = 20*x - 0.5*x**2\n",
    "C = 200 + 3*x\n",
    "\n",
    "# Utilidad\n",
    "U = R - C\n",
    "print(\"Función de utilidad:\", U)\n",
    "\n",
    "# Derivada de la utilidad\n",
    "dU = sp.diff(U, x)\n",
    "print(\"Derivada de U:\", dU)\n",
    "\n",
    "# Encontrar el punto crítico (dU/dx = 0)\n",
    "x_optimo = sp.solve(dU, x)\n",
    "print(\"Cantidad óptima a producir:\", x_optimo[0])\n",
    "\n",
    "# Verificación: segunda derivada < 0 → máximo\n",
    "segunda_derivada = sp.diff(dU, x)\n",
    "print(\"Segunda derivada:\", segunda_derivada.subs(x, x_optimo[0]))  # debe ser negativa\n"
   ]
  },
  {
   "cell_type": "code",
   "execution_count": 2,
   "id": "19ce3f91",
   "metadata": {},
   "outputs": [],
   "source": [
    "# Ejercicio 2: Minimización de Costos de Producción\n",
    "# Una fábrica produce cierto producto cuyos costos de producción (C(x)) dependen de la cantidad producida (x). \n",
    "# Los ingresos de venta (R(x)) están dados por la función (R(x) = 15x - 0.2x^2). Encuentra la cantidad óptima a producir para minimizar los costos totales. \n",
    "# Establecemos límites para evitar desbordamientos tambien considera que las restricciones aseguren que la cantidad producida sea mayor o igual a cero, \n",
    "# menor o igual a 100 (como límite superior), y que también sea un número entero.\n",
    "\n",
    "import sympy as sp\n",
    "\n",
    "# Variable entera\n",
    "x = sp.Symbol('x', integer=True)\n",
    "\n",
    "# Función de ingreso\n",
    "R = 15*x - 0.2*x**2\n",
    "\n",
    "# Convertir a función numérica para evaluar\n",
    "R_func = sp.lambdify(x, R)\n",
    "\n",
    "# Buscar cantidad mínima x que cumpla con ingreso >= ingreso objetivo\n",
    "ingreso_objetivo = 600  # por ejemplo, se puede ajustar\n",
    "\n",
    "# Buscar el mínimo x entero en [0, 100] que cumpla la condición\n",
    "for cantidad in range(0, 101):\n",
    "    if R_func(cantidad) >= ingreso_objetivo:\n",
    "        print(f\"Cantidad mínima que alcanza al menos ${ingreso_objetivo} de ingreso: {cantidad}\")\n",
    "        print(f\"Ingreso en esa cantidad: {R_func(cantidad)}\")\n",
    "        break\n"
   ]
  },
  {
   "cell_type": "code",
   "execution_count": 3,
   "id": "1c4beca6",
   "metadata": {},
   "outputs": [
    {
     "name": "stdout",
     "output_type": "stream",
     "text": [
      "Cantidad óptima de A: 8.333333333333332\n",
      "Cantidad óptima de B: 3.3333333333333335\n",
      "Beneficio máximo: $133.33333333333331\n"
     ]
    }
   ],
   "source": [
    "from scipy.optimize import linprog\n",
    "\n",
    "# Coeficientes de la función objetivo (negados para maximizar)\n",
    "c = [-10, -15]  # -Z = -10A -15B\n",
    "\n",
    "# Matriz de coeficientes de restricciones (A_ub * x <= b_ub)\n",
    "A = [\n",
    "    [2, 1],   # 2A + B <= 20\n",
    "    [1, 2]    # A + 2B <= 15\n",
    "]\n",
    "\n",
    "b = [20, 15]\n",
    "\n",
    "# Restricciones de no negatividad para A y B\n",
    "x0_bounds = (0, None)  # A >= 0\n",
    "x1_bounds = (0, None)  # B >= 0\n",
    "\n",
    "# Resolver el problema\n",
    "result = linprog(c, A_ub=A, b_ub=b, bounds=[x0_bounds, x1_bounds], method='highs')\n",
    "\n",
    "# Mostrar resultados\n",
    "if result.success:\n",
    "    A_opt, B_opt = result.x\n",
    "    beneficio_max = -result.fun\n",
    "    print(f\"Cantidad óptima de A: {A_opt}\")\n",
    "    print(f\"Cantidad óptima de B: {B_opt}\")\n",
    "    print(f\"Beneficio máximo: ${beneficio_max}\")\n",
    "else:\n",
    "    print(\"No se encontró solución óptima.\")\n"
   ]
  },
  {
   "cell_type": "code",
   "execution_count": null,
   "id": "f5d038c3",
   "metadata": {},
   "outputs": [],
   "source": [
    "## Ejercicio 4 Minimización de una Función Cuadrática (es libre, defina ud la función)\n",
    "\n",
    "import sympy as sp\n",
    "import matplotlib.pyplot as plt\n",
    "import numpy as np\n",
    "\n",
    "# Definir variable simbólica\n",
    "x = sp.Symbol('x')\n",
    "\n",
    "# Función cuadrática\n",
    "f = x**2 - 6*x + 13\n",
    "\n",
    "# Derivada primera y segunda\n",
    "f_deriv = sp.diff(f, x)\n",
    "f_deriv2 = sp.diff(f_deriv, x)\n",
    "\n",
    "# Punto crítico (donde la derivada se anula)\n",
    "x_min = sp.solve(f_deriv, x)[0]\n",
    "\n",
    "# Valor mínimo de la función\n",
    "f_min = f.subs(x, x_min)\n",
    "\n",
    "print(f\"Punto de mínimo: x = {x_min}\")\n",
    "print(f\"Valor mínimo: f({x_min}) = {f_min}\")\n",
    "\n",
    "# ✅ Gráfico de la función\n",
    "x_vals = np.linspace(float(x_min) - 5, float(x_min) + 5, 200)\n",
    "y_vals = [f.subs(x, val) for val in x_vals]\n",
    "\n",
    "plt.plot(x_vals, y_vals, label=\"f(x) = x² - 6x + 13\")\n",
    "plt.scatter([x_min], [f_min], color='red', label=f\"Mínimo en x = {x_min}\")\n",
    "plt.title(\"Minimización de una función cuadrática\")\n",
    "plt.xlabel(\"x\")\n",
    "plt.ylabel(\"f(x)\")\n",
    "plt.grid()\n",
    "plt.legend()\n",
    "plt.show()\n"
   ]
  },
  {
   "cell_type": "code",
   "execution_count": 5,
   "id": "d4938576",
   "metadata": {},
   "outputs": [
    {
     "name": "stdout",
     "output_type": "stream",
     "text": [
      "Punto de mínimo: x = -0.351733711249196\n",
      "Valor mínimo: f(x) = 0.827184026127524\n"
     ]
    },
    {
     "data": {
      "text/plain": [
       "[<matplotlib.lines.Line2D at 0x152dd7110>]"
      ]
     },
     "execution_count": 5,
     "metadata": {},
     "output_type": "execute_result"
    },
    {
     "data": {
      "image/png": "[encoded data removed]",
      "text/plain": [
       "<Figure size 640x480 with 1 Axes>"
      ]
     },
     "metadata": {},
     "output_type": "display_data"
    }
   ],
   "source": [
    "##Ejercicio 5: Minimización de una Función Exponencial\n",
    "import sympy as sp\n",
    "import matplotlib.pyplot as plt\n",
    "import numpy as np\n",
    "\n",
    "# Definir variable\n",
    "x = sp.Symbol('x')\n",
    "\n",
    "# Función exponencial + cuadrática\n",
    "f = sp.exp(x) + x**2\n",
    "\n",
    "# Derivada primera y segunda\n",
    "f_deriv = sp.diff(f, x)\n",
    "f_deriv2 = sp.diff(f_deriv, x)\n",
    "\n",
    "# Calcular punto crítico (mínimo)\n",
    "x_min = sp.solve(f_deriv, x)[0]\n",
    "f_min = f.subs(x, x_min)\n",
    "\n",
    "print(f\"Punto de mínimo: x = {x_min.evalf()}\")\n",
    "print(f\"Valor mínimo: f(x) = {f_min.evalf()}\")\n",
    "\n",
    "# ✅ Gráfico\n",
    "x_vals = np.linspace(float(x_min) - 2, float(x_min) + 4, 300)\n",
    "f_lambdified = sp.lambdify(x, f, \"numpy\")\n",
    "y_vals = f_lambdified(x_vals)\n",
    "\n",
    "plt.plot(x_vals, y_vals, label='f(x) = e^x + x²')\n"
   ]
  },
  {
   "cell_type": "code",
   "execution_count": null,
   "id": "396b1482",
   "metadata": {},
   "outputs": [],
   "source": [
    "# Ejercicio 6\n",
    "\n",
    "# Una persona tiene 40 metros de valla para construir un corral rectangular. Quieren maximizar el área del corral. \n",
    "# ¿Cuáles deberían ser las dimensiones del corral? \n",
    "# Función a maximizar: Área del rectángulo (A = l * w) / considerar 1e6 # Normalizar para evitar desbordamiento, \n",
    "# se utiliza el negativo para convertir la maximización en minimización\n",
    "\n",
    "# Restricciones: 2l + 2w <= 40 (longitud total de la valla)\n",
    "# restricciones = ({'type': 'ineq', 'fun': lambda dim: 2dim[0] + 2dim[1] - 40})\n",
    "\n",
    "from scipy.optimize import minimize\n",
    "import numpy as np\n",
    "\n",
    "# Función objetivo: área negativa dividida por 1e6 para evitar desbordes\n",
    "def area_neg_normalized(dim):\n",
    "    l, w = dim\n",
    "    return -(l * w) / 1e6\n",
    "\n",
    "# Restricción: 2l + 2w <= 40 → 40 - 2l - 2w ≥ 0\n",
    "restricciones = ({\n",
    "    'type': 'ineq',\n",
    "    'fun': lambda dim: 40 - 2*dim[0] - 2*dim[1]\n",
    "})\n",
    "\n",
    "# Límites: dimensiones deben ser >= 0\n",
    "bounds = [(0, None), (0, None)]  # (l, w)\n",
    "\n",
    "# Estimación inicial\n",
    "initial_guess = [5, 5]\n",
    "\n",
    "# Minimizar\n",
    "result = minimize(area_neg_normalized, initial_guess,\n",
    "                  method='SLSQP',\n",
    "                  bounds=bounds,\n",
    "                  constraints=restricciones)\n",
    "\n",
    "# Resultados\n",
    "if result.success:\n",
    "    l_opt, w_opt = result.x\n",
    "    area_max = l_opt * w_opt\n",
    "    print(f\"Dimensiones óptimas del corral: largo = {l_opt:.2f} m, ancho = {w_opt:.2f} m\")\n",
    "    print(f\"Área máxima: {area_max:.2f} m²\")\n",
    "else:\n",
    "    print(\"No se encontró una solución óptima.\")\n"
   ]
  },
  {
   "cell_type": "code",
   "execution_count": 6,
   "id": "604b442d",
   "metadata": {},
   "outputs": [
    {
     "name": "stdout",
     "output_type": "stream",
     "text": [
      "Mínimo en x = 3\n",
      "Valor mínimo: f(3) = 0\n"
     ]
    }
   ],
   "source": [
    "# Ejemplo 7: Minimización de una Función Cuadrática\n",
    "# Minimizar la función cuadrática (f(x) = x^2 - 6x + 9).\n",
    "import sympy as sp\n",
    "\n",
    "# Definir variable simbólica\n",
    "x = sp.Symbol('x')\n",
    "\n",
    "# Definir la función\n",
    "f = x**2 - 6*x + 9\n",
    "\n",
    "# Derivada\n",
    "f_prime = sp.diff(f, x)\n",
    "\n",
    "# Encontrar mínimo (donde la derivada es cero)\n",
    "x_min = sp.solve(f_prime, x)[0]\n",
    "\n",
    "# Valor mínimo de la función\n",
    "f_min = f.subs(x, x_min)\n",
    "\n",
    "print(f\"Mínimo en x = {x_min}\")\n",
    "print(f\"Valor mínimo: f({x_min}) = {f_min}\")\n"
   ]
  },
  {
   "cell_type": "code",
   "execution_count": null,
   "id": "1389fbb3",
   "metadata": {},
   "outputs": [],
   "source": [
    "# Ejemplo 8: Minimización de una Función Lineal\n",
    "# Minimizar la función (f(x) = 3x - 2) utilizando la minimización escalar. / considerar minimize_scalar(funcion_lineal_2, bounds=(-10, 10), method='bounded')\n",
    "from scipy.optimize import minimize_scalar\n",
    "\n",
    "# Definición de la función lineal\n",
    "def funcion_lineal_2(x):\n",
    "    return 3*x - 2\n",
    "\n",
    "# Minimización escalar en el intervalo [-10, 10]\n",
    "resultado = minimize_scalar(funcion_lineal_2, bounds=(-10, 10), method='bounded')\n",
    "\n",
    "# Mostrar resultado\n",
    "if resultado.success:\n",
    "    x_min = resultado.x\n",
    "    f_min = resultado.fun\n",
    "    print(f\"Mínimo dentro del intervalo en x = {x_min:.2f}\")\n",
    "    print(f\"Valor mínimo: f(x) = {f_min:.2f}\")\n",
    "else:\n",
    "    print(\"No se pudo encontrar un mínimo.\")\n"
   ]
  }
 ],
 "metadata": {
  "kernelspec": {
   "display_name": "base",
   "language": "python",
   "name": "python3"
  },
  "language_info": {
   "codemirror_mode": {
    "name": "ipython",
    "version": 3
   },
   "file_extension": ".py",
   "mimetype": "text/x-python",
   "name": "python",
   "nbconvert_exporter": "python",
   "pygments_lexer": "ipython3",
   "version": "3.12.7"
  }
 },
 "nbformat": 4,
 "nbformat_minor": 5
}
