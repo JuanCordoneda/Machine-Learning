{
 "cells": [
  {
   "cell_type": "markdown",
   "id": "42850866",
   "metadata": {},
   "source": [
    "### 📌 FACTORIZACIÓN ###\n",
    "\n",
    "La factorización es el proceso de descomponer una expresión matemática en el producto de sus factores más simples.\n",
    "✅ Permite: \n",
    "- Simplificar expresiones algebraicas.\n",
    "- Resolver ecuaciones al encontrar los valores que anulan la expresión.\n",
    "- Identificar patrones y estructuras ocultas.\n",
    "- Optimizar cálculos en análisis de datos y algoritmos computacionales."
   ]
  },
  {
   "cell_type": "markdown",
   "id": "cffa4578",
   "metadata": {},
   "source": [
    "### FACTORIZACIÓN DE UN MONOMIO ###\n",
    "\n",
    "Es el proceso de descomponer un término algebraico en sus factores más simples.\n",
    "\n",
    "Por ejemplo: 3*x + 3*y = 3*(x + y)\n",
    "\n",
    "En Machine Learning, se usa en la preparación de datos simbólicos o algebraicos, para simplificar expresiones, extraer patrones, reducir dimensionalidad simbólica o mejorar la eficiencia de modelos simbólicos como los árboles de decisión simbólicos o modelos simbólicos interpretables."
   ]
  },
  {
   "cell_type": "code",
   "execution_count": 5,
   "id": "08f58053",
   "metadata": {},
   "outputs": [
    {
     "name": "stdout",
     "output_type": "stream",
     "text": [
      "Factorización con factor común:\n",
      "   3*x + 3*y = 3*(x + y)\n"
     ]
    }
   ],
   "source": [
    "# Ejercicio 1: Factorización de un Monomio\n",
    "from sympy import symbols, factor\n",
    "\n",
    "# Definir variables\n",
    "x, y = symbols('x y')\n",
    "\n",
    "# Expresión con factor común\n",
    "expr = 3*x + 3*y\n",
    "\n",
    "# Aplicar factorización\n",
    "fact = factor(expr)\n",
    "\n",
    "# Mostrar resultado\n",
    "print(f'Factorización con factor común:\\n   {expr} = {fact}')\n"
   ]
  },
  {
   "cell_type": "markdown",
   "id": "c502babe",
   "metadata": {},
   "source": [
    "### FACTORIZACIÓN DE UN BINOMIO AL CUADRADO ###\n",
    "\n",
    "En Machine Learning, puede utilizarse para simplificar expresiones cuadráticas simbólicas.\n",
    "\n",
    "Por ejemplo: (x + 2)² = x² + 4x + 4.\n",
    "\n",
    "Se usa para reducir fórmulas complejas, analizar relaciones no lineales, y facilitar la interpretación en modelos simbólicos o al aplicar técnicas de álgebra computacional en sistemas de aprendizaje automático."
   ]
  },
  {
   "cell_type": "code",
   "execution_count": null,
   "id": "07532031",
   "metadata": {},
   "outputs": [
    {
     "name": "stdout",
     "output_type": "stream",
     "text": [
      "Ejercicio 2 - Binomio al Cuadrado: (x + 2)**2\n",
      "Factorización: (x + 2)**2\n",
      "Factorización Expandida: x**2 + 4*x + 4\n"
     ]
    }
   ],
   "source": [
    "# ✅ Ejercicio 2 - Factorización de un Binomio al Cuadrado\n",
    "\n",
    "from sympy import symbols, factor, expand\n",
    "\n",
    "# Definir la variable\n",
    "x = symbols('x')\n",
    "\n",
    "# Expresión original\n",
    "expr2 = (x + 2)**2\n",
    "\n",
    "# Factorización\n",
    "fact2 = factor(expr2)\n",
    "\n",
    "# Expandir para verificar\n",
    "expanded_fact2 = expand(fact2)\n",
    "\n",
    "# Imprimir resultados\n",
    "print(f'Ejercicio 2 - Binomio al Cuadrado: {expr2}')\n",
    "print(f'Factorización: {fact2}')\n",
    "print(f'Factorización Expandida: {expanded_fact2}')"
   ]
  },
  {
   "cell_type": "markdown",
   "id": "4c1cd04d",
   "metadata": {},
   "source": [
    "### FACTORIZACIÓN DE LA DIFERENCIA DE CUADRADOS ###\n",
    "\n",
    "En Machine Learning, se aplica para simplificar expresiones simbólicas con términos cuadráticos.\n",
    "\n",
    "Por ejemplo: x² − 9 = (x + 3)(x − 3).\n",
    "\n",
    "Se usa para descomponer funciones no lineales, facilitar el análisis algebraico en modelos interpretables y optimizar cálculos en sistemas simbólicos o algoritmos basados en álgebra.\n"
   ]
  },
  {
   "cell_type": "code",
   "execution_count": 8,
   "id": "6a07c8ce",
   "metadata": {},
   "outputs": [
    {
     "name": "stdout",
     "output_type": "stream",
     "text": [
      "Ejercicio 3 - Factorización de la Diferencia de Cuadrados: x**2 - 4 = (x - 2)*(x + 2)\n"
     ]
    }
   ],
   "source": [
    "# Ejercicio 3: Factorización de la Diferencia de Cuadrados\n",
    "expr3 = x**2 - 4\n",
    "fact3 = factor(expr3)\n",
    "print(f'Ejercicio 3 - Factorización de la Diferencia de Cuadrados: {expr3} = {fact3}')"
   ]
  },
  {
   "cell_type": "markdown",
   "id": "1d75743c",
   "metadata": {},
   "source": [
    "### FACTORIZACIÓN POR AGRUPACIÓN ###\n",
    "\n",
    "En Machine Learning, se puede usar para simplificar expresiones simbólicas que no tienen un patrón evidente a primera vista.\n",
    "\n",
    "Por ejemplo: ax + ay + bx + by = (a + b)(x + y).\n",
    "\n",
    "Se usa para reorganizar términos, encontrar estructuras comunes en expresiones complejas y facilitar el análisis simbólico en modelos basados en reglas, árboles o álgebra computacional."
   ]
  },
  {
   "cell_type": "code",
   "execution_count": 9,
   "id": "93535f6e",
   "metadata": {},
   "outputs": [
    {
     "name": "stdout",
     "output_type": "stream",
     "text": [
      "Ejercicio 4 - Factorización por Agrupación: a*y + a*z + x*y + x*z = (a + x)*(y + z)\n"
     ]
    }
   ],
   "source": [
    "# Definir las variables\n",
    "x, y, z, a = symbols('x y z a')\n",
    "\n",
    "# Expresión original\n",
    "expr4 = x*y + x*z + a*y + a*z\n",
    "\n",
    "# Factorización por agrupación\n",
    "fact4 = factor(expr4)\n",
    "\n",
    "# Imprimir resultados\n",
    "print(f'Ejercicio 4 - Factorización por Agrupación: {expr4} = {fact4}')"
   ]
  },
  {
   "cell_type": "markdown",
   "id": "a7fe2a5b",
   "metadata": {},
   "source": [
    "### FACTORIZACIÓN POR FACTOR COMÚN ###\n",
    "\n",
    "En Machine Learning, se usa para simplificar expresiones algebraicas encontrando un término común entre varios.\n",
    "\n",
    "Por ejemplo: 6x + 12 = 6(x + 2).\n",
    "\n",
    "Se aplica para reducir expresiones simbólicas, optimizar funciones y hacer más eficientes modelos interpretables o sistemas de álgebra computacional."
   ]
  },
  {
   "cell_type": "code",
   "execution_count": 10,
   "id": "14fb3692",
   "metadata": {},
   "outputs": [
    {
     "name": "stdout",
     "output_type": "stream",
     "text": [
      "Ejercicio 5 - Factorización por Factor Común: 3*x + 6*y = 3*(x + 2*y)\n"
     ]
    }
   ],
   "source": [
    "# Ejercicio 5: Factorización por Factor Común\n",
    "expr5 = 3*x + 6*y\n",
    "fact5 = factor(expr5)\n",
    "print(f'Ejercicio 5 - Factorización por Factor Común: {expr5} = {fact5}')"
   ]
  },
  {
   "cell_type": "markdown",
   "id": "8dff8ca1",
   "metadata": {},
   "source": [
    "### FACTORIZACIÓN DE UN TRINOMIO DE LA FORMA ###\n",
    "\n",
    "En Machine Learning, se puede usar para simplificar expresiones cuadráticas simbólicas que modelan relaciones no lineales.\n",
    "\n",
    "Por ejemplo: x² + 5x + 6 = (x + 2)(x + 3).\n",
    "\n",
    "Se aplica para resolver ecuaciones, analizar funciones de costo, y optimizar expresiones simbólicas en modelos algebraicos o interpretables."
   ]
  },
  {
   "cell_type": "code",
   "execution_count": 11,
   "id": "91da1358",
   "metadata": {},
   "outputs": [
    {
     "name": "stdout",
     "output_type": "stream",
     "text": [
      "Ejercicio 6 - Factorización de un Trinomio de la Forma ax^2 + bx + c: x**2 + 3*x + 2 = (x + 1)*(x + 2)\n"
     ]
    }
   ],
   "source": [
    "# Ejercicio 6: Factorización de un Trinomio de la Forma ax^2 + bx + c\n",
    "expr7 = x**2 + 3*x + 2\n",
    "fact7 = factor(expr7)\n",
    "print(f'Ejercicio 6 - Factorización de un Trinomio de la Forma ax^2 + bx + c: {expr7} = {fact7}')"
   ]
  },
  {
   "cell_type": "markdown",
   "id": "8cd84132",
   "metadata": {},
   "source": [
    "### FACTORIZACIÓN POR SUSTITUCIÓN ###\n",
    "\n",
    "En Machine Learning, se utiliza para simplificar expresiones complejas sustituyendo partes repetitivas por una nueva variable.\n",
    "\n",
    "Por ejemplo: (x² + 1)² − 9 = t² − 9, donde t = x² + 1 → (t − 3)(t + 3) → ((x² + 1) − 3)((x² + 1) + 3).\n",
    "\n",
    "Se aplica para descomponer estructuras anidadas, facilitar el análisis simbólico y optimizar modelos algebraicos o interpretables."
   ]
  },
  {
   "cell_type": "code",
   "execution_count": 12,
   "id": "41753601",
   "metadata": {},
   "outputs": [
    {
     "name": "stdout",
     "output_type": "stream",
     "text": [
      "Ejercicio 7 - Factorización por Sustitución: 2*u*v + 3*u*w - 4*v*w = u*(2*v + 3*w) - 4*v*w\n"
     ]
    }
   ],
   "source": [
    "# Ejercicio 7: Factorización por sustitución\n",
    "from sympy import collect #se debe importar collect\n",
    "\n",
    "# Definir las variables\n",
    "u, v, w = symbols('u v w')\n",
    "\n",
    "# Expresión original\n",
    "expr7 = 2*u*v + 3*u*w - 4*v*w\n",
    "\n",
    "# Factorización por sustitución\n",
    "factored_expr7 = collect(expr7, u)  # Agrupar términos con respecto a 'u'\n",
    "\n",
    "# Imprimir resultados\n",
    "print(f'Ejercicio 7 - Factorización por Sustitución: {expr7} = {factored_expr7}')"
   ]
  },
  {
   "cell_type": "markdown",
   "id": "db4823d5",
   "metadata": {},
   "source": [
    "### FACTORIZACIÓN POR DIVISIÓN SINTÉTICA ###\n",
    "En Machine Learning, puede aplicarse en álgebra simbólica para descomponer polinomios de alto grado.\n",
    "\n",
    "Por ejemplo: x³ − 6x² + 11x − 6 = (x − 3)(x − 2)(x − 1).\n",
    "\n",
    "Se usa para resolver ecuaciones polinómicas, analizar raíces y simplificar expresiones en modelos simbólicos o interpretables."
   ]
  },
  {
   "cell_type": "code",
   "execution_count": 13,
   "id": "ed840d24",
   "metadata": {},
   "outputs": [
    {
     "name": "stdout",
     "output_type": "stream",
     "text": [
      "Ejercicio 8 - Factorización por División Sintética: x**3 - 6*x**2 + 11*x - 6 = (x - 3)*(x - 2)*(x - 1)\n"
     ]
    }
   ],
   "source": [
    "# Ejercicio 8: Factorización por División Sintética\n",
    "expr9 = x**3 - 6*x**2 + 11*x - 6\n",
    "fact9 = factor(expr9)\n",
    "print(f'Ejercicio 8 - Factorización por División Sintética: {expr9} = {fact9}')"
   ]
  },
  {
   "cell_type": "markdown",
   "id": "5f2a03f6",
   "metadata": {},
   "source": [
    "### EJERCICIOS ###"
   ]
  },
  {
   "cell_type": "code",
   "execution_count": 14,
   "id": "72d7e765",
   "metadata": {},
   "outputs": [
    {
     "name": "stdout",
     "output_type": "stream",
     "text": [
      "4p^2 + 20p + 25 = (2p + 5)^2\n"
     ]
    }
   ],
   "source": [
    "# Vamos aplicar algunas funciones para divertirnos con esto !!!**\n",
    "# Análisis Empresarial - Costos de Producción Enunciado: Los costos de producción de una empresa están dados por 4 𝑝 2 + 20 𝑝 + 25 . Factoriza esta expresión.\n",
    "\n",
    "def factorizar_trinomio_produccion(a, b, c):\n",
    "    discriminante = b**2 - 4*a*c\n",
    "    if discriminante < 0:\n",
    "        return \"No tiene raíces reales\"\n",
    "    elif discriminante == 0:  # Verificar si es un cuadrado perfecto\n",
    "        # Para un cuadrado perfecto, la factorización es de la forma (√a * p + √c)^2\n",
    "        raiz_a = int(a**0.5)  # Raíz cuadrada del coeficiente de p^2\n",
    "        raiz_c = int(c**0.5)  # Raíz cuadrada del término constante\n",
    "        return f\"{a}p^2 + {b}p + {c} = ({raiz_a}p + {raiz_c})^2\"\n",
    "    else:\n",
    "        # Calcular las raíces si no es un cuadrado perfecto\n",
    "        raiz1 = (-b + discriminante**0.5) / (2 * a)\n",
    "        raiz2 = (-b - discriminante**0.5) / (2 * a)\n",
    "        return f\"Las raíces son {raiz1} y {raiz2}\"\n",
    "\n",
    "# Ejemplo de uso\n",
    "print(factorizar_trinomio_produccion(4, 20, 25))\n"
   ]
  },
  {
   "cell_type": "code",
   "execution_count": 15,
   "id": "c9fbf5c3",
   "metadata": {},
   "outputs": [
    {
     "name": "stdout",
     "output_type": "stream",
     "text": [
      "1x^2 + -5x + 6 = (x - 3) (x - 2)\n"
     ]
    }
   ],
   "source": [
    "#Dado el polinomio 𝑥 2 − 5 𝑥 + 6 que representa las longitudes de sépalos en el conjunto de datos de Iris, factorízalo.\n",
    "\n",
    "def factorizar_trinomio_iris(a, b, c):\n",
    "    discriminante = b**2 - 4*a*c\n",
    "    if discriminante < 0:\n",
    "        return \"No tiene raíces reales\"\n",
    "    raiz1 = (-b + discriminante**0.5) / (2*a)\n",
    "    raiz2 = (-b - discriminante**0.5) / (2*a)\n",
    "    return f\"{a}x^2 + {b}x + {c} = (x - {int(raiz1)}) (x - {int(raiz2)})\"\n",
    "\n",
    "a = 1\n",
    "b = -5\n",
    "c = 6\n",
    "print(factorizar_trinomio_iris(a, b, c))"
   ]
  },
  {
   "cell_type": "code",
   "execution_count": 16,
   "id": "3c798de9",
   "metadata": {},
   "outputs": [
    {
     "name": "stdout",
     "output_type": "stream",
     "text": [
      "1^3 + 3^3 = (1 + 3)(1 - 3 + 9)\n"
     ]
    }
   ],
   "source": [
    "#Factoriza la expresión utilizando la fórmula de la suma de cubos.\n",
    "\n",
    "def factorizar_suma_cubos(a, b):\n",
    "    \"\"\"\n",
    "    Esta función recibe dos números 'a' y 'b' y devuelve la factorización\n",
    "    de la suma de sus cubos utilizando la fórmula de la suma de cubos.\n",
    "\n",
    "    La fórmula para la suma de cubos es:\n",
    "    a^3 + b^3 = (a + b)(a^2 - ab + b^2)\n",
    "    \"\"\"\n",
    "\n",
    "    # Calcula la suma de los cubos de 'a' y 'b'\n",
    "    suma_cubos = a**3 + b**3\n",
    "\n",
    "    # Retorna la factorización usando la fórmula de la suma de cubos\n",
    "    # La fórmula genera dos factores:\n",
    "    # 1. (a + b): la suma directa de 'a' y 'b'\n",
    "    # 2. (a^2 - ab + b^2): un trinomio con los términos al cuadrado y producto de 'a' y 'b'\n",
    "    return f\"{a}^3 + {b}^3 = ({a} + {b})({a**2} - {a*b} + {b**2})\"\n",
    "\n",
    "# Ejemplo de uso de la función:\n",
    "a = 1  # Asigna el valor 1 a la variable 'a'\n",
    "b = 3  # Asigna el valor 3 a la variable 'b'\n",
    "\n",
    "# Llama a la función para factorizar la suma de cubos de 'a' y 'b' e imprime el resultado\n",
    "print(factorizar_suma_cubos(a, b))"
   ]
  },
  {
   "cell_type": "code",
   "execution_count": 17,
   "id": "618b9c60",
   "metadata": {},
   "outputs": [
    {
     "name": "stdout",
     "output_type": "stream",
     "text": [
      "Original: y**3 - 64\n",
      "Factorizada: (y - 4)*(y**2 + 4*y + 16)\n"
     ]
    }
   ],
   "source": [
    "# Factoriza la diferencia de cubos 𝑔 ( 𝑦 ) = 𝑦 3 − 64\n",
    "\n",
    "import sympy as sp\n",
    "\n",
    "def factorizar_diferencia_cubos():\n",
    "    y = sp.symbols('y')\n",
    "    expr = y**3 - 64\n",
    "    factorizada = sp.factor(expr)\n",
    "    return expr, factorizada\n",
    "\n",
    "original, factorizada = factorizar_diferencia_cubos()\n",
    "print(f\"Original: {original}\")\n",
    "print(f\"Factorizada: {factorizada}\")"
   ]
  },
  {
   "cell_type": "code",
   "execution_count": 18,
   "id": "bec16e40",
   "metadata": {},
   "outputs": [
    {
     "name": "stdout",
     "output_type": "stream",
     "text": [
      "Matriz A:\n",
      "[[ 2  3  1]\n",
      " [ 4  7  5]\n",
      " [ 6 11  7]]\n",
      "\n",
      "Matriz P (permutación):\n",
      "[[0. 1. 0.]\n",
      " [0. 0. 1.]\n",
      " [1. 0. 0.]]\n",
      "\n",
      "Matriz L (triangular inferior):\n",
      "[[1.         0.         0.        ]\n",
      " [0.33333333 1.         0.        ]\n",
      " [0.66666667 0.5        1.        ]]\n",
      "\n",
      "Matriz U (triangular superior):\n",
      "[[ 6.         11.          7.        ]\n",
      " [ 0.         -0.66666667 -1.33333333]\n",
      " [ 0.          0.          1.        ]]\n",
      "\n",
      "Verificación: P * L * U\n",
      "[[ 2.  3.  1.]\n",
      " [ 4.  7.  5.]\n",
      " [ 6. 11.  7.]]\n"
     ]
    }
   ],
   "source": [
    "#Factorización LU (Descomposición de una matriz en una matriz triangular inferior y superior):\n",
    "\n",
    "import numpy as np\n",
    "from scipy.linalg import lu\n",
    "\n",
    "# Definimos una matriz A\n",
    "A = np.array([[2, 3, 1], [4, 7, 5], [6, 11, 7]])\n",
    "\n",
    "# Aplicamos la factorización LU\n",
    "P, L, U = lu(A)\n",
    "\n",
    "# Mostramos los resultados\n",
    "print(\"Matriz A:\")\n",
    "print(A)\n",
    "print(\"\\nMatriz P (permutación):\")\n",
    "print(P)\n",
    "print(\"\\nMatriz L (triangular inferior):\")\n",
    "print(L)\n",
    "print(\"\\nMatriz U (triangular superior):\")\n",
    "print(U)\n",
    "print(\"\\nVerificación: P * L * U\")\n",
    "print(np.dot(P, np.dot(L, U)))"
   ]
  },
  {
   "cell_type": "code",
   "execution_count": 19,
   "id": "1f8a320d",
   "metadata": {},
   "outputs": [
    {
     "name": "stdout",
     "output_type": "stream",
     "text": [
      "Matriz A:\n",
      "[[1 2]\n",
      " [3 4]\n",
      " [5 6]]\n",
      "\n",
      "Matriz U:\n",
      "[[-0.2298477   0.88346102  0.40824829]\n",
      " [-0.52474482  0.24078249 -0.81649658]\n",
      " [-0.81964194 -0.40189603  0.40824829]]\n",
      "\n",
      "Matriz S (valores singulares):\n",
      "[[9.52551809 0.        ]\n",
      " [0.         0.51430058]\n",
      " [0.         0.        ]]\n",
      "\n",
      "Matriz VT (transpuesta de la matriz de vectores singulares):\n",
      "[[-0.61962948 -0.78489445]\n",
      " [-0.78489445  0.61962948]]\n",
      "\n",
      "Verificación: U * S * VT\n",
      "[[1. 2.]\n",
      " [3. 4.]\n",
      " [5. 6.]]\n"
     ]
    }
   ],
   "source": [
    "# Matriz A:\n",
    "# [[1 2]\n",
    "#  [3 4]\n",
    "#  [5 6]]\n",
    "\n",
    "# Matriz U:\n",
    "# [[-0.2298477   0.88346102  0.40824829]\n",
    "#  [-0.52474482  0.24078249 -0.81649658]\n",
    "#  [-0.81964194 -0.40189603  0.40824829]]\n",
    "\n",
    "# Matriz S (valores singulares):\n",
    "# [[9.52551809 0.        ]\n",
    "#  [0.         0.51430058]\n",
    "#  [0.         0.        ]]\n",
    "\n",
    "# Matriz VT (transpuesta de la matriz de vectores singulares):\n",
    "# [[-0.61962948 -0.78489445]\n",
    "#  [-0.78489445  0.61962948]]\n",
    "\n",
    "# Verificación: U * S * VT\n",
    "# [[1. 2.]\n",
    "#  [3. 4.]\n",
    "#  [5. 6.]]\n",
    "\n",
    "import numpy as np\n",
    "\n",
    "# Definimos una matriz A\n",
    "A = np.array([[1, 2], [3, 4], [5, 6]])\n",
    "\n",
    "# Aplicamos la factorización SVD utilizando la función svd de numpy\n",
    "U, S, VT = np.linalg.svd(A)\n",
    "\n",
    "# Convertimos S en una matriz diagonal completa de la misma dimensión que A\n",
    "# Inicializamos una matriz llena de ceros con la misma forma que A\n",
    "S_matrix = np.zeros(A.shape)\n",
    "\n",
    "# Llenamos los elementos diagonales de S_matrix con los valores singulares de S\n",
    "# np.diag(S) crea una matriz diagonal a partir del vector S\n",
    "S_matrix[:len(S), :len(S)] = np.diag(S)\n",
    "\n",
    "# Reconstruimos la matriz original multiplicando U, S (convertida a matriz), y VT\n",
    "# Usamos el operador @ para multiplicación matricial\n",
    "A_reconstructed = U @ S_matrix @ VT\n",
    "\n",
    "# Mostramos los resultados\n",
    "print(\"Matriz A:\")\n",
    "print(A)\n",
    "print(\"\\nMatriz U:\")\n",
    "print(U)\n",
    "print(\"\\nMatriz S (valores singulares):\")\n",
    "print(S_matrix)\n",
    "print(\"\\nMatriz VT (transpuesta de la matriz de vectores singulares):\")\n",
    "print(VT)\n",
    "print(\"\\nVerificación: U * S * VT\")\n",
    "print(A_reconstructed)\n"
   ]
  }
 ],
 "metadata": {
  "kernelspec": {
   "display_name": "base",
   "language": "python",
   "name": "python3"
  },
  "language_info": {
   "codemirror_mode": {
    "name": "ipython",
    "version": 3
   },
   "file_extension": ".py",
   "mimetype": "text/x-python",
   "name": "python",
   "nbconvert_exporter": "python",
   "pygments_lexer": "ipython3",
   "version": "3.12.7"
  }
 },
 "nbformat": 4,
 "nbformat_minor": 5
}
