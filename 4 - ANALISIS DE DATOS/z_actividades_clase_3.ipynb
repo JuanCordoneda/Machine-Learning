{
  "cells": [
    {
      "cell_type": "markdown",
      "metadata": {
        "id": "XPd0g4BA_Zxa"
      },
      "source": [
        "![Logo-Instituto-Data-Science-Movil.png.webp](data:image/webp;base64,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) https://institutodatascience.org/"
      ]
    },
    {
      "cell_type": "markdown",
      "metadata": {
        "id": "Durg_Jb35Qxg"
      },
      "source": [
        "**Enunciado:**\n",
        "Usando Plotly Express, crea un gráfico de dispersión tridimensional con el conjunto de datos \"gapminder\". Representa el Producto Interno Bruto per cápita (`gdpPercap`), la expectativa de vida (`lifeExp`), y la población (`pop`). Personaliza el gráfico para que tenga colores diferentes para cada continente y etiquetas informativas para algunos países destacados.\n"
      ]
    },
    {
      "cell_type": "code",
      "execution_count": 7,
      "metadata": {},
      "outputs": [
        {
          "data": {
            "application/vnd.plotly.v1+json": {
              "config": {
                "plotlyServerURL": "https://plot.ly"
              },
              "data": [
                {
                  "hovertemplate": "<b>%{hovertext}</b><br><br>continent=Asia<br>gdpPercap=%{x}<br>lifeExp=%{y}<br>pop=%{marker.size}<extra></extra>",
                  "hovertext": [
                    "Afghanistan",
                    "Bahrain",
                    "Bangladesh",
                    "Cambodia",
                    "China",
                    "Hong Kong, China",
                    "India",
                    "Indonesia",
                    "Iran",
                    "Iraq",
                    "Israel",
                    "Japan",
                    "Jordan",
                    "Korea, Dem. Rep.",
                    "Korea, Rep.",
                    "Kuwait",
                    "Lebanon",
                    "Malaysia",
                    "Mongolia",
                    "Myanmar",
                    "Nepal",
                    "Oman",
                    "Pakistan",
                    "Philippines",
                    "Saudi Arabia",
                    "Singapore",
                    "Sri Lanka",
                    "Syria",
                    "Taiwan",
                    "Thailand",
                    "Vietnam",
                    "West Bank and Gaza",
                    "Yemen, Rep."
                  ],
                  "legendgroup": "Asia",
                  "marker": {
                    "color": "#636efa",
                    "size": [
                      31889923,
                      708573,
                      150448339,
                      14131858,
                      1318683096,
                      6980412,
                      1110396331,
                      223547000,
                      69453570,
                      27499638,
                      6426679,
                      127467972,
                      6053193,
                      23301725,
                      49044790,
                      2505559,
                      3921278,
                      24821286,
                      2874127,
                      47761980,
                      28901790,
                      3204897,
                      169270617,
                      91077287,
                      27601038,
                      4553009,
                      20378239,
                      19314747,
                      23174294,
                      65068149,
                      85262356,
                      4018332,
                      22211743
                    ],
                    "sizemode": "area",
                    "sizeref": 366300.86,
                    "symbol": "circle"
                  },
                  "mode": "markers",
                  "name": "Asia",
                  "scene": "scene",
                  "showlegend": true,
                  "type": "scatter3d",
                  "x": [
                    974.5803384,
                    29796.04834,
                    1391.253792,
                    1713.778686,
                    4959.114854,
                    39724.97867,
                    2452.210407,
                    3540.651564,
                    11605.71449,
                    4471.061906,
                    25523.2771,
                    31656.06806,
                    4519.461171,
                    1593.06548,
                    23348.139730000006,
                    47306.98978,
                    10461.05868,
                    12451.6558,
                    3095.7722710000007,
                    944,
                    1091.359778,
                    22316.19287,
                    2605.94758,
                    3190.481016,
                    21654.83194,
                    47143.17964,
                    3970.095407,
                    4184.548089,
                    28718.27684,
                    7458.396326999998,
                    2441.576404,
                    3025.349798,
                    2280.769906
                  ],
                  "y": [
                    43.828,
                    75.635,
                    64.062,
                    59.723,
                    72.961,
                    82.208,
                    64.69800000000001,
                    70.65,
                    70.964,
                    59.545,
                    80.745,
                    82.603,
                    72.535,
                    67.297,
                    78.623,
                    77.58800000000002,
                    71.993,
                    74.241,
                    66.803,
                    62.069,
                    63.785,
                    75.64,
                    65.483,
                    71.688,
                    72.777,
                    79.972,
                    72.396,
                    74.143,
                    78.4,
                    70.616,
                    74.249,
                    73.422,
                    62.698
                  ],
                  "z": [
                    31889923,
                    708573,
                    150448339,
                    14131858,
                    1318683096,
                    6980412,
                    1110396331,
                    223547000,
                    69453570,
                    27499638,
                    6426679,
                    127467972,
                    6053193,
                    23301725,
                    49044790,
                    2505559,
                    3921278,
                    24821286,
                    2874127,
                    47761980,
                    28901790,
                    3204897,
                    169270617,
                    91077287,
                    27601038,
                    4553009,
                    20378239,
                    19314747,
                    23174294,
                    65068149,
                    85262356,
                    4018332,
                    22211743
                  ]
                },
                {
                  "hovertemplate": "<b>%{hovertext}</b><br><br>continent=Europe<br>gdpPercap=%{x}<br>lifeExp=%{y}<br>pop=%{marker.size}<extra></extra>",
                  "hovertext": [
                    "Albania",
                    "Austria",
                    "Belgium",
                    "Bosnia and Herzegovina",
                    "Bulgaria",
                    "Croatia",
                    "Czech Republic",
                    "Denmark",
                    "Finland",
                    "France",
                    "Germany",
                    "Greece",
                    "Hungary",
                    "Iceland",
                    "Ireland",
                    "Italy",
                    "Montenegro",
                    "Netherlands",
                    "Norway",
                    "Poland",
                    "Portugal",
                    "Romania",
                    "Serbia",
                    "Slovak Republic",
                    "Slovenia",
                    "Spain",
                    "Sweden",
                    "Switzerland",
                    "Turkey",
                    "United Kingdom"
                  ],
                  "legendgroup": "Europe",
                  "marker": {
                    "color": "#EF553B",
                    "size": [
                      3600523,
                      8199783,
                      10392226,
                      4552198,
                      7322858,
                      4493312,
                      10228744,
                      5468120,
                      5238460,
                      61083916,
                      82400996,
                      10706290,
                      9956108,
                      301931,
                      4109086,
                      58147733,
                      684736,
                      16570613,
                      4627926,
                      38518241,
                      10642836,
                      22276056,
                      10150265,
                      5447502,
                      2009245,
                      40448191,
                      9031088,
                      7554661,
                      71158647,
                      60776238
                    ],
                    "sizemode": "area",
                    "sizeref": 366300.86,
                    "symbol": "circle"
                  },
                  "mode": "markers",
                  "name": "Europe",
                  "scene": "scene",
                  "showlegend": true,
                  "type": "scatter3d",
                  "x": [
                    5937.029525999998,
                    36126.4927,
                    33692.60508,
                    7446.298803,
                    10680.79282,
                    14619.222719999998,
                    22833.30851,
                    35278.41874,
                    33207.0844,
                    30470.0167,
                    32170.37442,
                    27538.41188,
                    18008.94444,
                    36180.78919,
                    40675.99635,
                    28569.7197,
                    9253.896111,
                    36797.93332,
                    49357.19017,
                    15389.924680000002,
                    20509.64777,
                    10808.47561,
                    9786.534714,
                    18678.31435,
                    25768.25759,
                    28821.0637,
                    33859.74835,
                    37506.41907,
                    8458.276384,
                    33203.26128
                  ],
                  "y": [
                    76.423,
                    79.829,
                    79.441,
                    74.852,
                    73.005,
                    75.748,
                    76.486,
                    78.332,
                    79.313,
                    80.657,
                    79.406,
                    79.483,
                    73.33800000000002,
                    81.757,
                    78.885,
                    80.546,
                    74.543,
                    79.762,
                    80.196,
                    75.563,
                    78.098,
                    72.476,
                    74.002,
                    74.663,
                    77.926,
                    80.941,
                    80.884,
                    81.70100000000002,
                    71.777,
                    79.425
                  ],
                  "z": [
                    3600523,
                    8199783,
                    10392226,
                    4552198,
                    7322858,
                    4493312,
                    10228744,
                    5468120,
                    5238460,
                    61083916,
                    82400996,
                    10706290,
                    9956108,
                    301931,
                    4109086,
                    58147733,
                    684736,
                    16570613,
                    4627926,
                    38518241,
                    10642836,
                    22276056,
                    10150265,
                    5447502,
                    2009245,
                    40448191,
                    9031088,
                    7554661,
                    71158647,
                    60776238
                  ]
                },
                {
                  "hovertemplate": "<b>%{hovertext}</b><br><br>continent=Africa<br>gdpPercap=%{x}<br>lifeExp=%{y}<br>pop=%{marker.size}<extra></extra>",
                  "hovertext": [
                    "Algeria",
                    "Angola",
                    "Benin",
                    "Botswana",
                    "Burkina Faso",
                    "Burundi",
                    "Cameroon",
                    "Central African Republic",
                    "Chad",
                    "Comoros",
                    "Congo, Dem. Rep.",
                    "Congo, Rep.",
                    "Cote d'Ivoire",
                    "Djibouti",
                    "Egypt",
                    "Equatorial Guinea",
                    "Eritrea",
                    "Ethiopia",
                    "Gabon",
                    "Gambia",
                    "Ghana",
                    "Guinea",
                    "Guinea-Bissau",
                    "Kenya",
                    "Lesotho",
                    "Liberia",
                    "Libya",
                    "Madagascar",
                    "Malawi",
                    "Mali",
                    "Mauritania",
                    "Mauritius",
                    "Morocco",
                    "Mozambique",
                    "Namibia",
                    "Niger",
                    "Nigeria",
                    "Reunion",
                    "Rwanda",
                    "Sao Tome and Principe",
                    "Senegal",
                    "Sierra Leone",
                    "Somalia",
                    "South Africa",
                    "Sudan",
                    "Swaziland",
                    "Tanzania",
                    "Togo",
                    "Tunisia",
                    "Uganda",
                    "Zambia",
                    "Zimbabwe"
                  ],
                  "legendgroup": "Africa",
                  "marker": {
                    "color": "#00cc96",
                    "size": [
                      33333216,
                      12420476,
                      8078314,
                      1639131,
                      14326203,
                      8390505,
                      17696293,
                      4369038,
                      10238807,
                      710960,
                      64606759,
                      3800610,
                      18013409,
                      496374,
                      80264543,
                      551201,
                      4906585,
                      76511887,
                      1454867,
                      1688359,
                      22873338,
                      9947814,
                      1472041,
                      35610177,
                      2012649,
                      3193942,
                      6036914,
                      19167654,
                      13327079,
                      12031795,
                      3270065,
                      1250882,
                      33757175,
                      19951656,
                      2055080,
                      12894865,
                      135031164,
                      798094,
                      8860588,
                      199579,
                      12267493,
                      6144562,
                      9118773,
                      43997828,
                      42292929,
                      1133066,
                      38139640,
                      5701579,
                      10276158,
                      29170398,
                      11746035,
                      12311143
                    ],
                    "sizemode": "area",
                    "sizeref": 366300.86,
                    "symbol": "circle"
                  },
                  "mode": "markers",
                  "name": "Africa",
                  "scene": "scene",
                  "showlegend": true,
                  "type": "scatter3d",
                  "x": [
                    6223.367465,
                    4797.231267,
                    1441.284873,
                    12569.85177,
                    1217.032994,
                    430.0706916,
                    2042.09524,
                    706.016537,
                    1704.063724,
                    986.1478792,
                    277.5518587,
                    3632.557798,
                    1544.750112,
                    2082.4815670000007,
                    5581.180998,
                    12154.08975,
                    641.3695236000002,
                    690.8055759,
                    13206.48452,
                    752.7497265,
                    1327.60891,
                    942.6542111,
                    579.2317429999998,
                    1463.249282,
                    1569.331442,
                    414.5073415,
                    12057.49928,
                    1044.770126,
                    759.3499101,
                    1042.581557,
                    1803.151496,
                    10956.99112,
                    3820.17523,
                    823.6856205,
                    4811.060429,
                    619.6768923999998,
                    2013.977305,
                    7670.122558,
                    863.0884639000002,
                    1598.435089,
                    1712.472136,
                    862.5407561000002,
                    926.1410683,
                    9269.657808,
                    2602.394995,
                    4513.480643,
                    1107.482182,
                    882.9699437999999,
                    7092.923025,
                    1056.380121,
                    1271.211593,
                    469.70929810000007
                  ],
                  "y": [
                    72.301,
                    42.731,
                    56.728,
                    50.728,
                    52.295,
                    49.58,
                    50.43,
                    44.74100000000001,
                    50.651,
                    65.152,
                    46.462,
                    55.322,
                    48.328,
                    54.791,
                    71.33800000000002,
                    51.57899999999999,
                    58.04,
                    52.947,
                    56.735,
                    59.448,
                    60.022,
                    56.007,
                    46.38800000000001,
                    54.11,
                    42.592,
                    45.678,
                    73.952,
                    59.44300000000001,
                    48.303,
                    54.467,
                    64.164,
                    72.801,
                    71.164,
                    42.082,
                    52.90600000000001,
                    56.867,
                    46.859,
                    76.442,
                    46.242,
                    65.528,
                    63.062,
                    42.56800000000001,
                    48.159,
                    49.339,
                    58.556,
                    39.613,
                    52.517,
                    58.42,
                    73.923,
                    51.542,
                    42.38399999999999,
                    43.487
                  ],
                  "z": [
                    33333216,
                    12420476,
                    8078314,
                    1639131,
                    14326203,
                    8390505,
                    17696293,
                    4369038,
                    10238807,
                    710960,
                    64606759,
                    3800610,
                    18013409,
                    496374,
                    80264543,
                    551201,
                    4906585,
                    76511887,
                    1454867,
                    1688359,
                    22873338,
                    9947814,
                    1472041,
                    35610177,
                    2012649,
                    3193942,
                    6036914,
                    19167654,
                    13327079,
                    12031795,
                    3270065,
                    1250882,
                    33757175,
                    19951656,
                    2055080,
                    12894865,
                    135031164,
                    798094,
                    8860588,
                    199579,
                    12267493,
                    6144562,
                    9118773,
                    43997828,
                    42292929,
                    1133066,
                    38139640,
                    5701579,
                    10276158,
                    29170398,
                    11746035,
                    12311143
                  ]
                },
                {
                  "hovertemplate": "<b>%{hovertext}</b><br><br>continent=Americas<br>gdpPercap=%{x}<br>lifeExp=%{y}<br>pop=%{marker.size}<extra></extra>",
                  "hovertext": [
                    "Argentina",
                    "Bolivia",
                    "Brazil",
                    "Canada",
                    "Chile",
                    "Colombia",
                    "Costa Rica",
                    "Cuba",
                    "Dominican Republic",
                    "Ecuador",
                    "El Salvador",
                    "Guatemala",
                    "Haiti",
                    "Honduras",
                    "Jamaica",
                    "Mexico",
                    "Nicaragua",
                    "Panama",
                    "Paraguay",
                    "Peru",
                    "Puerto Rico",
                    "Trinidad and Tobago",
                    "United States",
                    "Uruguay",
                    "Venezuela"
                  ],
                  "legendgroup": "Americas",
                  "marker": {
                    "color": "#ab63fa",
                    "size": [
                      40301927,
                      9119152,
                      190010647,
                      33390141,
                      16284741,
                      44227550,
                      4133884,
                      11416987,
                      9319622,
                      13755680,
                      6939688,
                      12572928,
                      8502814,
                      7483763,
                      2780132,
                      108700891,
                      5675356,
                      3242173,
                      6667147,
                      28674757,
                      3942491,
                      1056608,
                      301139947,
                      3447496,
                      26084662
                    ],
                    "sizemode": "area",
                    "sizeref": 366300.86,
                    "symbol": "circle"
                  },
                  "mode": "markers",
                  "name": "Americas",
                  "scene": "scene",
                  "showlegend": true,
                  "type": "scatter3d",
                  "x": [
                    12779.37964,
                    3822.137084,
                    9065.800825,
                    36319.23501,
                    13171.63885,
                    7006.580419,
                    9645.06142,
                    8948.102923,
                    6025.3747520000015,
                    6873.262326000001,
                    5728.353514,
                    5186.050003,
                    1201.637154,
                    3548.3308460000007,
                    7320.8802620000015,
                    11977.57496,
                    2749.320965,
                    9809.185636,
                    4172.838464,
                    7408.905561,
                    19328.70901,
                    18008.50924,
                    42951.65309,
                    10611.46299,
                    11415.80569
                  ],
                  "y": [
                    75.32,
                    65.554,
                    72.39,
                    80.653,
                    78.553,
                    72.889,
                    78.782,
                    78.273,
                    72.235,
                    74.994,
                    71.878,
                    70.259,
                    60.916,
                    70.19800000000001,
                    72.567,
                    76.195,
                    72.899,
                    75.53699999999998,
                    71.752,
                    71.421,
                    78.74600000000002,
                    69.819,
                    78.242,
                    76.384,
                    73.747
                  ],
                  "z": [
                    40301927,
                    9119152,
                    190010647,
                    33390141,
                    16284741,
                    44227550,
                    4133884,
                    11416987,
                    9319622,
                    13755680,
                    6939688,
                    12572928,
                    8502814,
                    7483763,
                    2780132,
                    108700891,
                    5675356,
                    3242173,
                    6667147,
                    28674757,
                    3942491,
                    1056608,
                    301139947,
                    3447496,
                    26084662
                  ]
                },
                {
                  "hovertemplate": "<b>%{hovertext}</b><br><br>continent=Oceania<br>gdpPercap=%{x}<br>lifeExp=%{y}<br>pop=%{marker.size}<extra></extra>",
                  "hovertext": [
                    "Australia",
                    "New Zealand"
                  ],
                  "legendgroup": "Oceania",
                  "marker": {
                    "color": "#FFA15A",
                    "size": [
                      20434176,
                      4115771
                    ],
                    "sizemode": "area",
                    "sizeref": 366300.86,
                    "symbol": "circle"
                  },
                  "mode": "markers",
                  "name": "Oceania",
                  "scene": "scene",
                  "showlegend": true,
                  "type": "scatter3d",
                  "x": [
                    34435.367439999995,
                    25185.00911
                  ],
                  "y": [
                    81.235,
                    80.204
                  ],
                  "z": [
                    20434176,
                    4115771
                  ]
                },
                {
                  "mode": "text",
                  "showlegend": false,
                  "text": [
                    "United States"
                  ],
                  "textposition": "top center",
                  "type": "scatter3d",
                  "x": [
                    42951.65309
                  ],
                  "y": [
                    78.242
                  ],
                  "z": [
                    301139947
                  ]
                },
                {
                  "mode": "text",
                  "showlegend": false,
                  "text": [
                    "China"
                  ],
                  "textposition": "top center",
                  "type": "scatter3d",
                  "x": [
                    4959.114854
                  ],
                  "y": [
                    72.961
                  ],
                  "z": [
                    1318683096
                  ]
                },
                {
                  "mode": "text",
                  "showlegend": false,
                  "text": [
                    "India"
                  ],
                  "textposition": "top center",
                  "type": "scatter3d",
                  "x": [
                    2452.210407
                  ],
                  "y": [
                    64.69800000000001
                  ],
                  "z": [
                    1110396331
                  ]
                },
                {
                  "mode": "text",
                  "showlegend": false,
                  "text": [
                    "Brazil"
                  ],
                  "textposition": "top center",
                  "type": "scatter3d",
                  "x": [
                    9065.800825
                  ],
                  "y": [
                    72.39
                  ],
                  "z": [
                    190010647
                  ]
                },
                {
                  "mode": "text",
                  "showlegend": false,
                  "text": [
                    "Germany"
                  ],
                  "textposition": "top center",
                  "type": "scatter3d",
                  "x": [
                    32170.37442
                  ],
                  "y": [
                    79.406
                  ],
                  "z": [
                    82400996
                  ]
                }
              ],
              "layout": {
                "legend": {
                  "itemsizing": "constant",
                  "title": {
                    "text": "continent"
                  },
                  "tracegroupgap": 0
                },
                "scene": {
                  "domain": {
                    "x": [
                      0,
                      1
                    ],
                    "y": [
                      0,
                      1
                    ]
                  },
                  "xaxis": {
                    "title": {
                      "text": "gdpPercap"
                    }
                  },
                  "yaxis": {
                    "title": {
                      "text": "lifeExp"
                    }
                  },
                  "zaxis": {
                    "title": {
                      "text": "pop"
                    }
                  }
                },
                "template": {
                  "data": {
                    "bar": [
                      {
                        "error_x": {
                          "color": "#2a3f5f"
                        },
                        "error_y": {
                          "color": "#2a3f5f"
                        },
                        "marker": {
                          "line": {
                            "color": "#E5ECF6",
                            "width": 0.5
                          },
                          "pattern": {
                            "fillmode": "overlay",
                            "size": 10,
                            "solidity": 0.2
                          }
                        },
                        "type": "bar"
                      }
                    ],
                    "barpolar": [
                      {
                        "marker": {
                          "line": {
                            "color": "#E5ECF6",
                            "width": 0.5
                          },
                          "pattern": {
                            "fillmode": "overlay",
                            "size": 10,
                            "solidity": 0.2
                          }
                        },
                        "type": "barpolar"
                      }
                    ],
                    "carpet": [
                      {
                        "aaxis": {
                          "endlinecolor": "#2a3f5f",
                          "gridcolor": "white",
                          "linecolor": "white",
                          "minorgridcolor": "white",
                          "startlinecolor": "#2a3f5f"
                        },
                        "baxis": {
                          "endlinecolor": "#2a3f5f",
                          "gridcolor": "white",
                          "linecolor": "white",
                          "minorgridcolor": "white",
                          "startlinecolor": "#2a3f5f"
                        },
                        "type": "carpet"
                      }
                    ],
                    "choropleth": [
                      {
                        "colorbar": {
                          "outlinewidth": 0,
                          "ticks": ""
                        },
                        "type": "choropleth"
                      }
                    ],
                    "contour": [
                      {
                        "colorbar": {
                          "outlinewidth": 0,
                          "ticks": ""
                        },
                        "colorscale": [
                          [
                            0,
                            "#0d0887"
                          ],
                          [
                            0.1111111111111111,
                            "#46039f"
                          ],
                          [
                            0.2222222222222222,
                            "#7201a8"
                          ],
                          [
                            0.3333333333333333,
                            "#9c179e"
                          ],
                          [
                            0.4444444444444444,
                            "#bd3786"
                          ],
                          [
                            0.5555555555555556,
                            "#d8576b"
                          ],
                          [
                            0.6666666666666666,
                            "#ed7953"
                          ],
                          [
                            0.7777777777777778,
                            "#fb9f3a"
                          ],
                          [
                            0.8888888888888888,
                            "#fdca26"
                          ],
                          [
                            1,
                            "#f0f921"
                          ]
                        ],
                        "type": "contour"
                      }
                    ],
                    "contourcarpet": [
                      {
                        "colorbar": {
                          "outlinewidth": 0,
                          "ticks": ""
                        },
                        "type": "contourcarpet"
                      }
                    ],
                    "heatmap": [
                      {
                        "colorbar": {
                          "outlinewidth": 0,
                          "ticks": ""
                        },
                        "colorscale": [
                          [
                            0,
                            "#0d0887"
                          ],
                          [
                            0.1111111111111111,
                            "#46039f"
                          ],
                          [
                            0.2222222222222222,
                            "#7201a8"
                          ],
                          [
                            0.3333333333333333,
                            "#9c179e"
                          ],
                          [
                            0.4444444444444444,
                            "#bd3786"
                          ],
                          [
                            0.5555555555555556,
                            "#d8576b"
                          ],
                          [
                            0.6666666666666666,
                            "#ed7953"
                          ],
                          [
                            0.7777777777777778,
                            "#fb9f3a"
                          ],
                          [
                            0.8888888888888888,
                            "#fdca26"
                          ],
                          [
                            1,
                            "#f0f921"
                          ]
                        ],
                        "type": "heatmap"
                      }
                    ],
                    "heatmapgl": [
                      {
                        "colorbar": {
                          "outlinewidth": 0,
                          "ticks": ""
                        },
                        "colorscale": [
                          [
                            0,
                            "#0d0887"
                          ],
                          [
                            0.1111111111111111,
                            "#46039f"
                          ],
                          [
                            0.2222222222222222,
                            "#7201a8"
                          ],
                          [
                            0.3333333333333333,
                            "#9c179e"
                          ],
                          [
                            0.4444444444444444,
                            "#bd3786"
                          ],
                          [
                            0.5555555555555556,
                            "#d8576b"
                          ],
                          [
                            0.6666666666666666,
                            "#ed7953"
                          ],
                          [
                            0.7777777777777778,
                            "#fb9f3a"
                          ],
                          [
                            0.8888888888888888,
                            "#fdca26"
                          ],
                          [
                            1,
                            "#f0f921"
                          ]
                        ],
                        "type": "heatmapgl"
                      }
                    ],
                    "histogram": [
                      {
                        "marker": {
                          "pattern": {
                            "fillmode": "overlay",
                            "size": 10,
                            "solidity": 0.2
                          }
                        },
                        "type": "histogram"
                      }
                    ],
                    "histogram2d": [
                      {
                        "colorbar": {
                          "outlinewidth": 0,
                          "ticks": ""
                        },
                        "colorscale": [
                          [
                            0,
                            "#0d0887"
                          ],
                          [
                            0.1111111111111111,
                            "#46039f"
                          ],
                          [
                            0.2222222222222222,
                            "#7201a8"
                          ],
                          [
                            0.3333333333333333,
                            "#9c179e"
                          ],
                          [
                            0.4444444444444444,
                            "#bd3786"
                          ],
                          [
                            0.5555555555555556,
                            "#d8576b"
                          ],
                          [
                            0.6666666666666666,
                            "#ed7953"
                          ],
                          [
                            0.7777777777777778,
                            "#fb9f3a"
                          ],
                          [
                            0.8888888888888888,
                            "#fdca26"
                          ],
                          [
                            1,
                            "#f0f921"
                          ]
                        ],
                        "type": "histogram2d"
                      }
                    ],
                    "histogram2dcontour": [
                      {
                        "colorbar": {
                          "outlinewidth": 0,
                          "ticks": ""
                        },
                        "colorscale": [
                          [
                            0,
                            "#0d0887"
                          ],
                          [
                            0.1111111111111111,
                            "#46039f"
                          ],
                          [
                            0.2222222222222222,
                            "#7201a8"
                          ],
                          [
                            0.3333333333333333,
                            "#9c179e"
                          ],
                          [
                            0.4444444444444444,
                            "#bd3786"
                          ],
                          [
                            0.5555555555555556,
                            "#d8576b"
                          ],
                          [
                            0.6666666666666666,
                            "#ed7953"
                          ],
                          [
                            0.7777777777777778,
                            "#fb9f3a"
                          ],
                          [
                            0.8888888888888888,
                            "#fdca26"
                          ],
                          [
                            1,
                            "#f0f921"
                          ]
                        ],
                        "type": "histogram2dcontour"
                      }
                    ],
                    "mesh3d": [
                      {
                        "colorbar": {
                          "outlinewidth": 0,
                          "ticks": ""
                        },
                        "type": "mesh3d"
                      }
                    ],
                    "parcoords": [
                      {
                        "line": {
                          "colorbar": {
                            "outlinewidth": 0,
                            "ticks": ""
                          }
                        },
                        "type": "parcoords"
                      }
                    ],
                    "pie": [
                      {
                        "automargin": true,
                        "type": "pie"
                      }
                    ],
                    "scatter": [
                      {
                        "fillpattern": {
                          "fillmode": "overlay",
                          "size": 10,
                          "solidity": 0.2
                        },
                        "type": "scatter"
                      }
                    ],
                    "scatter3d": [
                      {
                        "line": {
                          "colorbar": {
                            "outlinewidth": 0,
                            "ticks": ""
                          }
                        },
                        "marker": {
                          "colorbar": {
                            "outlinewidth": 0,
                            "ticks": ""
                          }
                        },
                        "type": "scatter3d"
                      }
                    ],
                    "scattercarpet": [
                      {
                        "marker": {
                          "colorbar": {
                            "outlinewidth": 0,
                            "ticks": ""
                          }
                        },
                        "type": "scattercarpet"
                      }
                    ],
                    "scattergeo": [
                      {
                        "marker": {
                          "colorbar": {
                            "outlinewidth": 0,
                            "ticks": ""
                          }
                        },
                        "type": "scattergeo"
                      }
                    ],
                    "scattergl": [
                      {
                        "marker": {
                          "colorbar": {
                            "outlinewidth": 0,
                            "ticks": ""
                          }
                        },
                        "type": "scattergl"
                      }
                    ],
                    "scattermapbox": [
                      {
                        "marker": {
                          "colorbar": {
                            "outlinewidth": 0,
                            "ticks": ""
                          }
                        },
                        "type": "scattermapbox"
                      }
                    ],
                    "scatterpolar": [
                      {
                        "marker": {
                          "colorbar": {
                            "outlinewidth": 0,
                            "ticks": ""
                          }
                        },
                        "type": "scatterpolar"
                      }
                    ],
                    "scatterpolargl": [
                      {
                        "marker": {
                          "colorbar": {
                            "outlinewidth": 0,
                            "ticks": ""
                          }
                        },
                        "type": "scatterpolargl"
                      }
                    ],
                    "scatterternary": [
                      {
                        "marker": {
                          "colorbar": {
                            "outlinewidth": 0,
                            "ticks": ""
                          }
                        },
                        "type": "scatterternary"
                      }
                    ],
                    "surface": [
                      {
                        "colorbar": {
                          "outlinewidth": 0,
                          "ticks": ""
                        },
                        "colorscale": [
                          [
                            0,
                            "#0d0887"
                          ],
                          [
                            0.1111111111111111,
                            "#46039f"
                          ],
                          [
                            0.2222222222222222,
                            "#7201a8"
                          ],
                          [
                            0.3333333333333333,
                            "#9c179e"
                          ],
                          [
                            0.4444444444444444,
                            "#bd3786"
                          ],
                          [
                            0.5555555555555556,
                            "#d8576b"
                          ],
                          [
                            0.6666666666666666,
                            "#ed7953"
                          ],
                          [
                            0.7777777777777778,
                            "#fb9f3a"
                          ],
                          [
                            0.8888888888888888,
                            "#fdca26"
                          ],
                          [
                            1,
                            "#f0f921"
                          ]
                        ],
                        "type": "surface"
                      }
                    ],
                    "table": [
                      {
                        "cells": {
                          "fill": {
                            "color": "#EBF0F8"
                          },
                          "line": {
                            "color": "white"
                          }
                        },
                        "header": {
                          "fill": {
                            "color": "#C8D4E3"
                          },
                          "line": {
                            "color": "white"
                          }
                        },
                        "type": "table"
                      }
                    ]
                  },
                  "layout": {
                    "annotationdefaults": {
                      "arrowcolor": "#2a3f5f",
                      "arrowhead": 0,
                      "arrowwidth": 1
                    },
                    "autotypenumbers": "strict",
                    "coloraxis": {
                      "colorbar": {
                        "outlinewidth": 0,
                        "ticks": ""
                      }
                    },
                    "colorscale": {
                      "diverging": [
                        [
                          0,
                          "#8e0152"
                        ],
                        [
                          0.1,
                          "#c51b7d"
                        ],
                        [
                          0.2,
                          "#de77ae"
                        ],
                        [
                          0.3,
                          "#f1b6da"
                        ],
                        [
                          0.4,
                          "#fde0ef"
                        ],
                        [
                          0.5,
                          "#f7f7f7"
                        ],
                        [
                          0.6,
                          "#e6f5d0"
                        ],
                        [
                          0.7,
                          "#b8e186"
                        ],
                        [
                          0.8,
                          "#7fbc41"
                        ],
                        [
                          0.9,
                          "#4d9221"
                        ],
                        [
                          1,
                          "#276419"
                        ]
                      ],
                      "sequential": [
                        [
                          0,
                          "#0d0887"
                        ],
                        [
                          0.1111111111111111,
                          "#46039f"
                        ],
                        [
                          0.2222222222222222,
                          "#7201a8"
                        ],
                        [
                          0.3333333333333333,
                          "#9c179e"
                        ],
                        [
                          0.4444444444444444,
                          "#bd3786"
                        ],
                        [
                          0.5555555555555556,
                          "#d8576b"
                        ],
                        [
                          0.6666666666666666,
                          "#ed7953"
                        ],
                        [
                          0.7777777777777778,
                          "#fb9f3a"
                        ],
                        [
                          0.8888888888888888,
                          "#fdca26"
                        ],
                        [
                          1,
                          "#f0f921"
                        ]
                      ],
                      "sequentialminus": [
                        [
                          0,
                          "#0d0887"
                        ],
                        [
                          0.1111111111111111,
                          "#46039f"
                        ],
                        [
                          0.2222222222222222,
                          "#7201a8"
                        ],
                        [
                          0.3333333333333333,
                          "#9c179e"
                        ],
                        [
                          0.4444444444444444,
                          "#bd3786"
                        ],
                        [
                          0.5555555555555556,
                          "#d8576b"
                        ],
                        [
                          0.6666666666666666,
                          "#ed7953"
                        ],
                        [
                          0.7777777777777778,
                          "#fb9f3a"
                        ],
                        [
                          0.8888888888888888,
                          "#fdca26"
                        ],
                        [
                          1,
                          "#f0f921"
                        ]
                      ]
                    },
                    "colorway": [
                      "#636efa",
                      "#EF553B",
                      "#00cc96",
                      "#ab63fa",
                      "#FFA15A",
                      "#19d3f3",
                      "#FF6692",
                      "#B6E880",
                      "#FF97FF",
                      "#FECB52"
                    ],
                    "font": {
                      "color": "#2a3f5f"
                    },
                    "geo": {
                      "bgcolor": "white",
                      "lakecolor": "white",
                      "landcolor": "#E5ECF6",
                      "showlakes": true,
                      "showland": true,
                      "subunitcolor": "white"
                    },
                    "hoverlabel": {
                      "align": "left"
                    },
                    "hovermode": "closest",
                    "mapbox": {
                      "style": "light"
                    },
                    "paper_bgcolor": "white",
                    "plot_bgcolor": "#E5ECF6",
                    "polar": {
                      "angularaxis": {
                        "gridcolor": "white",
                        "linecolor": "white",
                        "ticks": ""
                      },
                      "bgcolor": "#E5ECF6",
                      "radialaxis": {
                        "gridcolor": "white",
                        "linecolor": "white",
                        "ticks": ""
                      }
                    },
                    "scene": {
                      "xaxis": {
                        "backgroundcolor": "#E5ECF6",
                        "gridcolor": "white",
                        "gridwidth": 2,
                        "linecolor": "white",
                        "showbackground": true,
                        "ticks": "",
                        "zerolinecolor": "white"
                      },
                      "yaxis": {
                        "backgroundcolor": "#E5ECF6",
                        "gridcolor": "white",
                        "gridwidth": 2,
                        "linecolor": "white",
                        "showbackground": true,
                        "ticks": "",
                        "zerolinecolor": "white"
                      },
                      "zaxis": {
                        "backgroundcolor": "#E5ECF6",
                        "gridcolor": "white",
                        "gridwidth": 2,
                        "linecolor": "white",
                        "showbackground": true,
                        "ticks": "",
                        "zerolinecolor": "white"
                      }
                    },
                    "shapedefaults": {
                      "line": {
                        "color": "#2a3f5f"
                      }
                    },
                    "ternary": {
                      "aaxis": {
                        "gridcolor": "white",
                        "linecolor": "white",
                        "ticks": ""
                      },
                      "baxis": {
                        "gridcolor": "white",
                        "linecolor": "white",
                        "ticks": ""
                      },
                      "bgcolor": "#E5ECF6",
                      "caxis": {
                        "gridcolor": "white",
                        "linecolor": "white",
                        "ticks": ""
                      }
                    },
                    "title": {
                      "x": 0.05
                    },
                    "xaxis": {
                      "automargin": true,
                      "gridcolor": "white",
                      "linecolor": "white",
                      "ticks": "",
                      "title": {
                        "standoff": 15
                      },
                      "zerolinecolor": "white",
                      "zerolinewidth": 2
                    },
                    "yaxis": {
                      "automargin": true,
                      "gridcolor": "white",
                      "linecolor": "white",
                      "ticks": "",
                      "title": {
                        "standoff": 15
                      },
                      "zerolinecolor": "white",
                      "zerolinewidth": 2
                    }
                  }
                },
                "title": {
                  "text": "Relación entre PIB per cápita, expectativa de vida y población (2007)"
                }
              }
            }
          },
          "metadata": {},
          "output_type": "display_data"
        }
      ],
      "source": [
        "import plotly.express as px\n",
        "\n",
        "# Cargar datos gapminder\n",
        "df = px.data.gapminder()\n",
        "\n",
        "# Filtrar el año más reciente disponible (2007)\n",
        "df_2007 = df[df['year'] == 2007]\n",
        "\n",
        "# Crear gráfico de dispersión 3D\n",
        "fig = px.scatter_3d(\n",
        "    df_2007,\n",
        "    x=\"gdpPercap\",       # Eje X: PIB per cápita\n",
        "    y=\"lifeExp\",         # Eje Y: Expectativa de vida\n",
        "    z=\"pop\",             # Eje Z: Población\n",
        "    color=\"continent\",   # Colores por continente\n",
        "    hover_name=\"country\",# Mostrar nombre del país al pasar el mouse\n",
        "    size=\"pop\",          # Tamaño del punto proporcional a la población\n",
        "    size_max=60,\n",
        "    title=\"Relación entre PIB per cápita, expectativa de vida y población (2007)\"\n",
        ")\n",
        "\n",
        "# Resaltar algunos países destacados con etiquetas permanentes\n",
        "destacados = [\"United States\", \"China\", \"India\", \"Brazil\", \"Germany\"]\n",
        "for country in destacados:\n",
        "    fila = df_2007[df_2007[\"country\"] == country].iloc[0]\n",
        "    fig.add_scatter3d(\n",
        "        x=[fila[\"gdpPercap\"]],\n",
        "        y=[fila[\"lifeExp\"]],\n",
        "        z=[fila[\"pop\"]],\n",
        "        mode='text',\n",
        "        text=[country],\n",
        "        textposition='top center',\n",
        "        showlegend=False\n",
        "    )\n",
        "\n",
        "fig.show()\n"
      ]
    },
    {
      "cell_type": "markdown",
      "metadata": {
        "id": "odW60qHv5h9-"
      },
      "source": [
        "**Enunciado:**\n",
        "Utilizando Plotly Express, crea un gráfico de líneas que muestre la evolución del Producto Interno Bruto per cápita (`gdpPercap`) a lo largo del tiempo (`year`) en el conjunto de datos \"Gapminder\". Personaliza el gráfico con colores y etiquetas adecuadas.\n",
        "\n",
        "\n",
        "\n",
        "import plotly.express as px\n",
        "\n",
        "# Cargar datos gapminder\n",
        "df = px.data.gapminder()\n",
        "\n",
        "# Filtrar el año más reciente disponible (2007)\n",
        "df_2007 = df[df['year'] == 2007]\n"
      ]
    },
    {
      "cell_type": "markdown",
      "metadata": {
        "id": "tfpCq14s75Fy"
      },
      "source": [
        "**Enunciado:**\n",
        "Utilizando Altair, crea un gráfico de barras apiladas que muestre la distribución de supervivencia por clase en el conjunto de datos \"Titanic\" de Seaborn. Asegúrate de que el gráfico tenga colores diferentes para las categorías de supervivencia y etiquetas informativas en los ejes.\n",
        "\n",
        "**Instrucciones:**\n",
        "1. Carga el conjunto de datos \"Titanic\" de Seaborn.\n",
        "2. Utiliza Altair para crear un gráfico de barras apiladas con la proporción de supervivencia por clase.\n",
        "3. Personaliza el gráfico para que tenga colores distintos para las categorías de supervivencia y etiquetas claras en los ejes.\n",
        "4. Guarda el gráfico como un archivo HTML para su visualización posterior.\n",
        "\n"
      ]
    },
    {
      "cell_type": "code",
      "execution_count": 12,
      "metadata": {},
      "outputs": [
        {
          "name": "stderr",
          "output_type": "stream",
          "text": [
            "/var/folders/fy/60bqycgj6lv4hqpj9smr9f880000gn/T/ipykernel_18364/2162305849.py:9: FutureWarning: The default of observed=False is deprecated and will be changed to True in a future version of pandas. Pass observed=False to retain current behavior or observed=True to adopt the future default and silence this warning.\n",
            "  titanic = titanic.groupby('class').size().reset_index(name='count')\n"
          ]
        },
        {
          "data": {
            "text/html": [
              "<div>\n",
              "<style scoped>\n",
              "    .dataframe tbody tr th:only-of-type {\n",
              "        vertical-align: middle;\n",
              "    }\n",
              "\n",
              "    .dataframe tbody tr th {\n",
              "        vertical-align: top;\n",
              "    }\n",
              "\n",
              "    .dataframe thead th {\n",
              "        text-align: right;\n",
              "    }\n",
              "</style>\n",
              "<table border=\"1\" class=\"dataframe\">\n",
              "  <thead>\n",
              "    <tr style=\"text-align: right;\">\n",
              "      <th></th>\n",
              "      <th>class</th>\n",
              "      <th>count</th>\n",
              "    </tr>\n",
              "  </thead>\n",
              "  <tbody>\n",
              "    <tr>\n",
              "      <th>0</th>\n",
              "      <td>First</td>\n",
              "      <td>216</td>\n",
              "    </tr>\n",
              "    <tr>\n",
              "      <th>1</th>\n",
              "      <td>Second</td>\n",
              "      <td>184</td>\n",
              "    </tr>\n",
              "    <tr>\n",
              "      <th>2</th>\n",
              "      <td>Third</td>\n",
              "      <td>491</td>\n",
              "    </tr>\n",
              "  </tbody>\n",
              "</table>\n",
              "</div>"
            ],
            "text/plain": [
              "    class  count\n",
              "0   First    216\n",
              "1  Second    184\n",
              "2   Third    491"
            ]
          },
          "execution_count": 12,
          "metadata": {},
          "output_type": "execute_result"
        }
      ],
      "source": [
        "import seaborn as sns\n",
        "import pandas as pd\n",
        "import altair as alt\n",
        "\n",
        "# 1. Cargar el dataset Titanic\n",
        "titanic = sns.load_dataset('titanic')\n",
        "titanic\n",
        "\n",
        "titanic = titanic.groupby('class').size().reset_index(name='count')\n",
        "titanic"
      ]
    },
    {
      "cell_type": "markdown",
      "metadata": {
        "id": "IL4458AE9UbY"
      },
      "source": [
        "**Enunciado:**\n",
        "Utilizando Altair, crea un gráfico de barras apiladas que muestre la distribución de género por clase en el conjunto de datos \"Tips\" de Seaborn. Asegúrate de que el gráfico tenga colores diferentes para las categorías de género y etiquetas informativas en los ejes.\n",
        "\n",
        "**Instrucciones:**\n",
        "1. Carga el conjunto de datos \"Tips\" de Seaborn.\n",
        "2. Utiliza Altair para crear un gráfico de barras apiladas con la proporción de género por clase.\n",
        "3. Personaliza el gráfico para que tenga colores distintos para las categorías de género y etiquetas claras en los ejes.\n",
        "4. Guarda el gráfico como un archivo HTML para su visualización posterior.\n",
        "\n"
      ]
    },
    {
      "cell_type": "code",
      "execution_count": 15,
      "metadata": {},
      "outputs": [
        {
          "name": "stderr",
          "output_type": "stream",
          "text": [
            "/var/folders/fy/60bqycgj6lv4hqpj9smr9f880000gn/T/ipykernel_18364/1443757221.py:7: FutureWarning: The default of observed=False is deprecated and will be changed to True in a future version of pandas. Pass observed=False to retain current behavior or observed=True to adopt the future default and silence this warning.\n",
            "  titanic = titanic.groupby('sex').size().reset_index(name='count')\n"
          ]
        },
        {
          "data": {
            "text/html": [
              "<div>\n",
              "<style scoped>\n",
              "    .dataframe tbody tr th:only-of-type {\n",
              "        vertical-align: middle;\n",
              "    }\n",
              "\n",
              "    .dataframe tbody tr th {\n",
              "        vertical-align: top;\n",
              "    }\n",
              "\n",
              "    .dataframe thead th {\n",
              "        text-align: right;\n",
              "    }\n",
              "</style>\n",
              "<table border=\"1\" class=\"dataframe\">\n",
              "  <thead>\n",
              "    <tr style=\"text-align: right;\">\n",
              "      <th></th>\n",
              "      <th>sex</th>\n",
              "      <th>count</th>\n",
              "    </tr>\n",
              "  </thead>\n",
              "  <tbody>\n",
              "    <tr>\n",
              "      <th>0</th>\n",
              "      <td>Male</td>\n",
              "      <td>157</td>\n",
              "    </tr>\n",
              "    <tr>\n",
              "      <th>1</th>\n",
              "      <td>Female</td>\n",
              "      <td>87</td>\n",
              "    </tr>\n",
              "  </tbody>\n",
              "</table>\n",
              "</div>"
            ],
            "text/plain": [
              "      sex  count\n",
              "0    Male    157\n",
              "1  Female     87"
            ]
          },
          "execution_count": 15,
          "metadata": {},
          "output_type": "execute_result"
        }
      ],
      "source": [
        "import seaborn as sns\n",
        "import pandas as pd\n",
        "import altair as alt\n",
        "\n",
        "# 1. Cargar el dataset Titanic\n",
        "titanic = sns.load_dataset('tips')\n",
        "titanic = titanic.groupby('sex').size().reset_index(name='count')\n",
        "titanic"
      ]
    },
    {
      "cell_type": "markdown",
      "metadata": {
        "id": "Q_X75Xhr-5At"
      },
      "source": [
        "**Enunciado:**\n",
        "Usando Plotly Express, crea un gráfico animado de barras que muestre la evolución de la población por continente a lo largo de los años en el conjunto de datos \"Gapminder\". Asegúrate de que el gráfico tenga barras de colores diferentes para cada continente y etiquetas informativas en los ejes.\n",
        "\n",
        "**Instrucciones:**\n",
        "1. Carga el conjunto de datos \"Gapminder\" de Plotly Express.\n",
        "2. Utiliza Plotly Express para crear un gráfico animado de barras con eje x como el continente, eje y como la población, y barras de colores diferenciadas por continente.\n",
        "3. Ajusta la animación para que muestre la evolución a lo largo del tiempo.\n",
        "4. Personaliza el gráfico\n"
      ]
    },
    {
      "cell_type": "code",
      "execution_count": 20,
      "metadata": {},
      "outputs": [
        {
          "data": {
            "text/html": [
              "<div>\n",
              "<style scoped>\n",
              "    .dataframe tbody tr th:only-of-type {\n",
              "        vertical-align: middle;\n",
              "    }\n",
              "\n",
              "    .dataframe tbody tr th {\n",
              "        vertical-align: top;\n",
              "    }\n",
              "\n",
              "    .dataframe thead th {\n",
              "        text-align: right;\n",
              "    }\n",
              "</style>\n",
              "<table border=\"1\" class=\"dataframe\">\n",
              "  <thead>\n",
              "    <tr style=\"text-align: right;\">\n",
              "      <th></th>\n",
              "      <th>year</th>\n",
              "      <th>continent</th>\n",
              "      <th>pop</th>\n",
              "    </tr>\n",
              "  </thead>\n",
              "  <tbody>\n",
              "    <tr>\n",
              "      <th>0</th>\n",
              "      <td>1952</td>\n",
              "      <td>Africa</td>\n",
              "      <td>237640501</td>\n",
              "    </tr>\n",
              "    <tr>\n",
              "      <th>1</th>\n",
              "      <td>1952</td>\n",
              "      <td>Americas</td>\n",
              "      <td>345152446</td>\n",
              "    </tr>\n",
              "    <tr>\n",
              "      <th>2</th>\n",
              "      <td>1952</td>\n",
              "      <td>Asia</td>\n",
              "      <td>1395357351</td>\n",
              "    </tr>\n",
              "    <tr>\n",
              "      <th>3</th>\n",
              "      <td>1952</td>\n",
              "      <td>Europe</td>\n",
              "      <td>418120846</td>\n",
              "    </tr>\n",
              "    <tr>\n",
              "      <th>4</th>\n",
              "      <td>1952</td>\n",
              "      <td>Oceania</td>\n",
              "      <td>10686006</td>\n",
              "    </tr>\n",
              "    <tr>\n",
              "      <th>5</th>\n",
              "      <td>1957</td>\n",
              "      <td>Africa</td>\n",
              "      <td>264837738</td>\n",
              "    </tr>\n",
              "    <tr>\n",
              "      <th>6</th>\n",
              "      <td>1957</td>\n",
              "      <td>Americas</td>\n",
              "      <td>386953916</td>\n",
              "    </tr>\n",
              "    <tr>\n",
              "      <th>7</th>\n",
              "      <td>1957</td>\n",
              "      <td>Asia</td>\n",
              "      <td>1562780599</td>\n",
              "    </tr>\n",
              "    <tr>\n",
              "      <th>8</th>\n",
              "      <td>1957</td>\n",
              "      <td>Europe</td>\n",
              "      <td>437890351</td>\n",
              "    </tr>\n",
              "    <tr>\n",
              "      <th>9</th>\n",
              "      <td>1957</td>\n",
              "      <td>Oceania</td>\n",
              "      <td>11941976</td>\n",
              "    </tr>\n",
              "    <tr>\n",
              "      <th>10</th>\n",
              "      <td>1962</td>\n",
              "      <td>Africa</td>\n",
              "      <td>296516865</td>\n",
              "    </tr>\n",
              "    <tr>\n",
              "      <th>11</th>\n",
              "      <td>1962</td>\n",
              "      <td>Americas</td>\n",
              "      <td>433270254</td>\n",
              "    </tr>\n",
              "    <tr>\n",
              "      <th>12</th>\n",
              "      <td>1962</td>\n",
              "      <td>Asia</td>\n",
              "      <td>1696357182</td>\n",
              "    </tr>\n",
              "    <tr>\n",
              "      <th>13</th>\n",
              "      <td>1962</td>\n",
              "      <td>Europe</td>\n",
              "      <td>460355155</td>\n",
              "    </tr>\n",
              "    <tr>\n",
              "      <th>14</th>\n",
              "      <td>1962</td>\n",
              "      <td>Oceania</td>\n",
              "      <td>13283518</td>\n",
              "    </tr>\n",
              "    <tr>\n",
              "      <th>15</th>\n",
              "      <td>1967</td>\n",
              "      <td>Africa</td>\n",
              "      <td>335289489</td>\n",
              "    </tr>\n",
              "    <tr>\n",
              "      <th>16</th>\n",
              "      <td>1967</td>\n",
              "      <td>Americas</td>\n",
              "      <td>480746623</td>\n",
              "    </tr>\n",
              "    <tr>\n",
              "      <th>17</th>\n",
              "      <td>1967</td>\n",
              "      <td>Asia</td>\n",
              "      <td>1905662900</td>\n",
              "    </tr>\n",
              "    <tr>\n",
              "      <th>18</th>\n",
              "      <td>1967</td>\n",
              "      <td>Europe</td>\n",
              "      <td>481178958</td>\n",
              "    </tr>\n",
              "    <tr>\n",
              "      <th>19</th>\n",
              "      <td>1967</td>\n",
              "      <td>Oceania</td>\n",
              "      <td>14600414</td>\n",
              "    </tr>\n",
              "    <tr>\n",
              "      <th>20</th>\n",
              "      <td>1972</td>\n",
              "      <td>Africa</td>\n",
              "      <td>379879541</td>\n",
              "    </tr>\n",
              "    <tr>\n",
              "      <th>21</th>\n",
              "      <td>1972</td>\n",
              "      <td>Americas</td>\n",
              "      <td>529384210</td>\n",
              "    </tr>\n",
              "    <tr>\n",
              "      <th>22</th>\n",
              "      <td>1972</td>\n",
              "      <td>Asia</td>\n",
              "      <td>2150972248</td>\n",
              "    </tr>\n",
              "    <tr>\n",
              "      <th>23</th>\n",
              "      <td>1972</td>\n",
              "      <td>Europe</td>\n",
              "      <td>500635059</td>\n",
              "    </tr>\n",
              "    <tr>\n",
              "      <th>24</th>\n",
              "      <td>1972</td>\n",
              "      <td>Oceania</td>\n",
              "      <td>16106100</td>\n",
              "    </tr>\n",
              "    <tr>\n",
              "      <th>25</th>\n",
              "      <td>1977</td>\n",
              "      <td>Africa</td>\n",
              "      <td>433061021</td>\n",
              "    </tr>\n",
              "    <tr>\n",
              "      <th>26</th>\n",
              "      <td>1977</td>\n",
              "      <td>Americas</td>\n",
              "      <td>578067699</td>\n",
              "    </tr>\n",
              "    <tr>\n",
              "      <th>27</th>\n",
              "      <td>1977</td>\n",
              "      <td>Asia</td>\n",
              "      <td>2384513556</td>\n",
              "    </tr>\n",
              "    <tr>\n",
              "      <th>28</th>\n",
              "      <td>1977</td>\n",
              "      <td>Europe</td>\n",
              "      <td>517164531</td>\n",
              "    </tr>\n",
              "    <tr>\n",
              "      <th>29</th>\n",
              "      <td>1977</td>\n",
              "      <td>Oceania</td>\n",
              "      <td>17239000</td>\n",
              "    </tr>\n",
              "    <tr>\n",
              "      <th>30</th>\n",
              "      <td>1982</td>\n",
              "      <td>Africa</td>\n",
              "      <td>499348587</td>\n",
              "    </tr>\n",
              "    <tr>\n",
              "      <th>31</th>\n",
              "      <td>1982</td>\n",
              "      <td>Americas</td>\n",
              "      <td>630290920</td>\n",
              "    </tr>\n",
              "    <tr>\n",
              "      <th>32</th>\n",
              "      <td>1982</td>\n",
              "      <td>Asia</td>\n",
              "      <td>2610135582</td>\n",
              "    </tr>\n",
              "    <tr>\n",
              "      <th>33</th>\n",
              "      <td>1982</td>\n",
              "      <td>Europe</td>\n",
              "      <td>531266901</td>\n",
              "    </tr>\n",
              "    <tr>\n",
              "      <th>34</th>\n",
              "      <td>1982</td>\n",
              "      <td>Oceania</td>\n",
              "      <td>18394850</td>\n",
              "    </tr>\n",
              "    <tr>\n",
              "      <th>35</th>\n",
              "      <td>1987</td>\n",
              "      <td>Africa</td>\n",
              "      <td>574834110</td>\n",
              "    </tr>\n",
              "    <tr>\n",
              "      <th>36</th>\n",
              "      <td>1987</td>\n",
              "      <td>Americas</td>\n",
              "      <td>682753971</td>\n",
              "    </tr>\n",
              "    <tr>\n",
              "      <th>37</th>\n",
              "      <td>1987</td>\n",
              "      <td>Asia</td>\n",
              "      <td>2871220762</td>\n",
              "    </tr>\n",
              "    <tr>\n",
              "      <th>38</th>\n",
              "      <td>1987</td>\n",
              "      <td>Europe</td>\n",
              "      <td>543094160</td>\n",
              "    </tr>\n",
              "    <tr>\n",
              "      <th>39</th>\n",
              "      <td>1987</td>\n",
              "      <td>Oceania</td>\n",
              "      <td>19574415</td>\n",
              "    </tr>\n",
              "    <tr>\n",
              "      <th>40</th>\n",
              "      <td>1992</td>\n",
              "      <td>Africa</td>\n",
              "      <td>659081517</td>\n",
              "    </tr>\n",
              "    <tr>\n",
              "      <th>41</th>\n",
              "      <td>1992</td>\n",
              "      <td>Americas</td>\n",
              "      <td>739274104</td>\n",
              "    </tr>\n",
              "    <tr>\n",
              "      <th>42</th>\n",
              "      <td>1992</td>\n",
              "      <td>Asia</td>\n",
              "      <td>3133292191</td>\n",
              "    </tr>\n",
              "    <tr>\n",
              "      <th>43</th>\n",
              "      <td>1992</td>\n",
              "      <td>Europe</td>\n",
              "      <td>558142797</td>\n",
              "    </tr>\n",
              "    <tr>\n",
              "      <th>44</th>\n",
              "      <td>1992</td>\n",
              "      <td>Oceania</td>\n",
              "      <td>20919651</td>\n",
              "    </tr>\n",
              "    <tr>\n",
              "      <th>45</th>\n",
              "      <td>1997</td>\n",
              "      <td>Africa</td>\n",
              "      <td>743832984</td>\n",
              "    </tr>\n",
              "    <tr>\n",
              "      <th>46</th>\n",
              "      <td>1997</td>\n",
              "      <td>Americas</td>\n",
              "      <td>796900410</td>\n",
              "    </tr>\n",
              "    <tr>\n",
              "      <th>47</th>\n",
              "      <td>1997</td>\n",
              "      <td>Asia</td>\n",
              "      <td>3383285500</td>\n",
              "    </tr>\n",
              "    <tr>\n",
              "      <th>48</th>\n",
              "      <td>1997</td>\n",
              "      <td>Europe</td>\n",
              "      <td>568944148</td>\n",
              "    </tr>\n",
              "    <tr>\n",
              "      <th>49</th>\n",
              "      <td>1997</td>\n",
              "      <td>Oceania</td>\n",
              "      <td>22241430</td>\n",
              "    </tr>\n",
              "    <tr>\n",
              "      <th>50</th>\n",
              "      <td>2002</td>\n",
              "      <td>Africa</td>\n",
              "      <td>833723916</td>\n",
              "    </tr>\n",
              "    <tr>\n",
              "      <th>51</th>\n",
              "      <td>2002</td>\n",
              "      <td>Americas</td>\n",
              "      <td>849772762</td>\n",
              "    </tr>\n",
              "    <tr>\n",
              "      <th>52</th>\n",
              "      <td>2002</td>\n",
              "      <td>Asia</td>\n",
              "      <td>3601802203</td>\n",
              "    </tr>\n",
              "    <tr>\n",
              "      <th>53</th>\n",
              "      <td>2002</td>\n",
              "      <td>Europe</td>\n",
              "      <td>578223869</td>\n",
              "    </tr>\n",
              "    <tr>\n",
              "      <th>54</th>\n",
              "      <td>2002</td>\n",
              "      <td>Oceania</td>\n",
              "      <td>23454829</td>\n",
              "    </tr>\n",
              "    <tr>\n",
              "      <th>55</th>\n",
              "      <td>2007</td>\n",
              "      <td>Africa</td>\n",
              "      <td>929539692</td>\n",
              "    </tr>\n",
              "    <tr>\n",
              "      <th>56</th>\n",
              "      <td>2007</td>\n",
              "      <td>Americas</td>\n",
              "      <td>898871184</td>\n",
              "    </tr>\n",
              "    <tr>\n",
              "      <th>57</th>\n",
              "      <td>2007</td>\n",
              "      <td>Asia</td>\n",
              "      <td>3811953827</td>\n",
              "    </tr>\n",
              "    <tr>\n",
              "      <th>58</th>\n",
              "      <td>2007</td>\n",
              "      <td>Europe</td>\n",
              "      <td>586098529</td>\n",
              "    </tr>\n",
              "    <tr>\n",
              "      <th>59</th>\n",
              "      <td>2007</td>\n",
              "      <td>Oceania</td>\n",
              "      <td>24549947</td>\n",
              "    </tr>\n",
              "  </tbody>\n",
              "</table>\n",
              "</div>"
            ],
            "text/plain": [
              "    year continent         pop\n",
              "0   1952    Africa   237640501\n",
              "1   1952  Americas   345152446\n",
              "2   1952      Asia  1395357351\n",
              "3   1952    Europe   418120846\n",
              "4   1952   Oceania    10686006\n",
              "5   1957    Africa   264837738\n",
              "6   1957  Americas   386953916\n",
              "7   1957      Asia  1562780599\n",
              "8   1957    Europe   437890351\n",
              "9   1957   Oceania    11941976\n",
              "10  1962    Africa   296516865\n",
              "11  1962  Americas   433270254\n",
              "12  1962      Asia  1696357182\n",
              "13  1962    Europe   460355155\n",
              "14  1962   Oceania    13283518\n",
              "15  1967    Africa   335289489\n",
              "16  1967  Americas   480746623\n",
              "17  1967      Asia  1905662900\n",
              "18  1967    Europe   481178958\n",
              "19  1967   Oceania    14600414\n",
              "20  1972    Africa   379879541\n",
              "21  1972  Americas   529384210\n",
              "22  1972      Asia  2150972248\n",
              "23  1972    Europe   500635059\n",
              "24  1972   Oceania    16106100\n",
              "25  1977    Africa   433061021\n",
              "26  1977  Americas   578067699\n",
              "27  1977      Asia  2384513556\n",
              "28  1977    Europe   517164531\n",
              "29  1977   Oceania    17239000\n",
              "30  1982    Africa   499348587\n",
              "31  1982  Americas   630290920\n",
              "32  1982      Asia  2610135582\n",
              "33  1982    Europe   531266901\n",
              "34  1982   Oceania    18394850\n",
              "35  1987    Africa   574834110\n",
              "36  1987  Americas   682753971\n",
              "37  1987      Asia  2871220762\n",
              "38  1987    Europe   543094160\n",
              "39  1987   Oceania    19574415\n",
              "40  1992    Africa   659081517\n",
              "41  1992  Americas   739274104\n",
              "42  1992      Asia  3133292191\n",
              "43  1992    Europe   558142797\n",
              "44  1992   Oceania    20919651\n",
              "45  1997    Africa   743832984\n",
              "46  1997  Americas   796900410\n",
              "47  1997      Asia  3383285500\n",
              "48  1997    Europe   568944148\n",
              "49  1997   Oceania    22241430\n",
              "50  2002    Africa   833723916\n",
              "51  2002  Americas   849772762\n",
              "52  2002      Asia  3601802203\n",
              "53  2002    Europe   578223869\n",
              "54  2002   Oceania    23454829\n",
              "55  2007    Africa   929539692\n",
              "56  2007  Americas   898871184\n",
              "57  2007      Asia  3811953827\n",
              "58  2007    Europe   586098529\n",
              "59  2007   Oceania    24549947"
            ]
          },
          "execution_count": 20,
          "metadata": {},
          "output_type": "execute_result"
        }
      ],
      "source": [
        "import plotly.express as px\n",
        "\n",
        "# 1. Cargar el dataset Gapminder\n",
        "df = px.data.gapminder()\n",
        "\n",
        "# 2. Agrupar por año y continente, sumando la población\n",
        "df_grouped = df.groupby(['year', 'continent'], as_index=False)['pop'].sum()\n",
        "df_grouped\n"
      ]
    }
  ],
  "metadata": {
    "colab": {
      "provenance": []
    },
    "kernelspec": {
      "display_name": "base",
      "language": "python",
      "name": "python3"
    },
    "language_info": {
      "codemirror_mode": {
        "name": "ipython",
        "version": 3
      },
      "file_extension": ".py",
      "mimetype": "text/x-python",
      "name": "python",
      "nbconvert_exporter": "python",
      "pygments_lexer": "ipython3",
      "version": "3.12.7"
    }
  },
  "nbformat": 4,
  "nbformat_minor": 0
}
