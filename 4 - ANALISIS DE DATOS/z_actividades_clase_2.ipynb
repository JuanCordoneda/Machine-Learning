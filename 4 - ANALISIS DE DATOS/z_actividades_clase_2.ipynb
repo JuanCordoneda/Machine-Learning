{
  "cells": [
    {
      "cell_type": "markdown",
      "metadata": {
        "id": "68ldhaKN0h0s"
      },
      "source": [
        "![Logo-Instituto-Data-Science-Movil.png.webp](data:image/webp;base64,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) https://institutodatascience.org/"
      ]
    },
    {
      "cell_type": "code",
      "execution_count": 1,
      "metadata": {
        "id": "dvW_9j4f0h0z"
      },
      "outputs": [],
      "source": [
        "import pandas as pd\n",
        "import numpy as np\n",
        "import matplotlib\n",
        "import matplotlib.pyplot as plt\n",
        "\n",
        "plt.style.use('ggplot')\n",
        "%matplotlib inline"
      ]
    },
    {
      "cell_type": "markdown",
      "metadata": {
        "id": "Gt28B2slcUJe"
      },
      "source": [
        "## usaremos los datos abiertos de CABA, a partir de un relevamiento muestral de los avisos publicados para la venta de departamentos en el año 2020."
      ]
    },
    {
      "cell_type": "markdown",
      "metadata": {
        "id": "2A85Gdo3cb5N"
      },
      "source": [
        "https://data.buenosaires.gob.ar/dataset/terrenos-valor-oferta"
      ]
    },
    {
      "cell_type": "code",
      "execution_count": 35,
      "metadata": {
        "id": "QlD-3ohYcUJf"
      },
      "outputs": [],
      "source": [
        "pd.set_option('display.float_format', lambda x: '%.5f' % x)"
      ]
    },
    {
      "cell_type": "code",
      "execution_count": 36,
      "metadata": {
        "id": "IzuED1DUcUJg"
      },
      "outputs": [],
      "source": [
        "df = pd.read_csv(\"https://cdn.buenosaires.gob.ar/datosabiertos/datasets/secretaria-de-desarrollo-urbano/terrenos-valor-oferta/Terrenos-en-venta-2020.csv\", encoding = \"latin1\", sep=\",\")"
      ]
    },
    {
      "cell_type": "code",
      "execution_count": 37,
      "metadata": {
        "colab": {
          "base_uri": "https://localhost:8080/",
          "height": 206
        },
        "id": "9dn0CZRup_zA",
        "outputId": "bbcae73a-9afa-4f01-e498-b575eed0a748"
      },
      "outputs": [
        {
          "data": {
            "text/html": [
              "<div>\n",
              "<style scoped>\n",
              "    .dataframe tbody tr th:only-of-type {\n",
              "        vertical-align: middle;\n",
              "    }\n",
              "\n",
              "    .dataframe tbody tr th {\n",
              "        vertical-align: top;\n",
              "    }\n",
              "\n",
              "    .dataframe thead th {\n",
              "        text-align: right;\n",
              "    }\n",
              "</style>\n",
              "<table border=\"1\" class=\"dataframe\">\n",
              "  <thead>\n",
              "    <tr style=\"text-align: right;\">\n",
              "      <th></th>\n",
              "      <th>DIRECCION</th>\n",
              "      <th>PROPIEDADS</th>\n",
              "      <th>PRECIOUSD</th>\n",
              "      <th>PRECIOPESO</th>\n",
              "      <th>DOLARM2</th>\n",
              "      <th>PESOSM2</th>\n",
              "      <th>COTIZACION</th>\n",
              "      <th>TRIMESTRE_</th>\n",
              "      <th>BARRIO</th>\n",
              "      <th>COMUNA_</th>\n",
              "    </tr>\n",
              "  </thead>\n",
              "  <tbody>\n",
              "    <tr>\n",
              "      <th>0</th>\n",
              "      <td>RIVADAVIA 3500</td>\n",
              "      <td>190</td>\n",
              "      <td>150000</td>\n",
              "      <td>12000000</td>\n",
              "      <td>790</td>\n",
              "      <td>63158</td>\n",
              "      <td>80</td>\n",
              "      <td>CUARTO</td>\n",
              "      <td>ALMAGRO</td>\n",
              "      <td>5</td>\n",
              "    </tr>\n",
              "    <tr>\n",
              "      <th>1</th>\n",
              "      <td>PRINGLES 100</td>\n",
              "      <td>242</td>\n",
              "      <td>230000</td>\n",
              "      <td>18400000</td>\n",
              "      <td>950</td>\n",
              "      <td>76033</td>\n",
              "      <td>80</td>\n",
              "      <td>CUARTO</td>\n",
              "      <td>ALMAGRO</td>\n",
              "      <td>5</td>\n",
              "    </tr>\n",
              "    <tr>\n",
              "      <th>2</th>\n",
              "      <td>PERON, JUAN DOMINGO, TTE. 3400</td>\n",
              "      <td>211</td>\n",
              "      <td>265000</td>\n",
              "      <td>21200000</td>\n",
              "      <td>1256</td>\n",
              "      <td>100474</td>\n",
              "      <td>80</td>\n",
              "      <td>CUARTO</td>\n",
              "      <td>ALMAGRO</td>\n",
              "      <td>5</td>\n",
              "    </tr>\n",
              "    <tr>\n",
              "      <th>3</th>\n",
              "      <td>MEXICO 4000</td>\n",
              "      <td>320</td>\n",
              "      <td>300000</td>\n",
              "      <td>24000000</td>\n",
              "      <td>938</td>\n",
              "      <td>75000</td>\n",
              "      <td>80</td>\n",
              "      <td>CUARTO</td>\n",
              "      <td>ALMAGRO</td>\n",
              "      <td>5</td>\n",
              "    </tr>\n",
              "    <tr>\n",
              "      <th>4</th>\n",
              "      <td>VENEZUELA 4067</td>\n",
              "      <td>250</td>\n",
              "      <td>305000</td>\n",
              "      <td>24400000</td>\n",
              "      <td>1220</td>\n",
              "      <td>97600</td>\n",
              "      <td>80</td>\n",
              "      <td>CUARTO</td>\n",
              "      <td>ALMAGRO</td>\n",
              "      <td>5</td>\n",
              "    </tr>\n",
              "  </tbody>\n",
              "</table>\n",
              "</div>"
            ],
            "text/plain": [
              "                        DIRECCION  PROPIEDADS  PRECIOUSD  PRECIOPESO  DOLARM2  \\\n",
              "0                  RIVADAVIA 3500         190     150000    12000000      790   \n",
              "1                    PRINGLES 100         242     230000    18400000      950   \n",
              "2  PERON, JUAN DOMINGO, TTE. 3400         211     265000    21200000     1256   \n",
              "3                     MEXICO 4000         320     300000    24000000      938   \n",
              "4                  VENEZUELA 4067         250     305000    24400000     1220   \n",
              "\n",
              "   PESOSM2  COTIZACION TRIMESTRE_   BARRIO  COMUNA_  \n",
              "0    63158          80     CUARTO  ALMAGRO        5  \n",
              "1    76033          80     CUARTO  ALMAGRO        5  \n",
              "2   100474          80     CUARTO  ALMAGRO        5  \n",
              "3    75000          80     CUARTO  ALMAGRO        5  \n",
              "4    97600          80     CUARTO  ALMAGRO        5  "
            ]
          },
          "execution_count": 37,
          "metadata": {},
          "output_type": "execute_result"
        }
      ],
      "source": [
        "df.head()"
      ]
    },
    {
      "cell_type": "markdown",
      "metadata": {
        "id": "QU0P2xFnEERq"
      },
      "source": [
        "Hacer un primer análisis del dataset y analizar nulos."
      ]
    },
    {
      "cell_type": "code",
      "execution_count": 38,
      "metadata": {
        "id": "HLPGmK72BfbX"
      },
      "outputs": [
        {
          "name": "stdout",
          "output_type": "stream",
          "text": [
            "Filas eliminadas: 6\n",
            "DIRECCION     0\n",
            "PROPIEDADS    0\n",
            "PRECIOUSD     0\n",
            "PRECIOPESO    0\n",
            "DOLARM2       0\n",
            "PESOSM2       0\n",
            "COTIZACION    0\n",
            "TRIMESTRE_    0\n",
            "BARRIO        0\n",
            "COMUNA_       0\n",
            "dtype: int64\n",
            "0\n"
          ]
        }
      ],
      "source": [
        "filas_antes = df.shape[0]\n",
        "df = df.dropna()\n",
        "filas_despues = df.shape[0]\n",
        "print(f\"Filas eliminadas: {filas_antes - filas_despues}\")\n",
        "print(df.isnull().sum())          # Nulos por columna\n",
        "print(df.isnull().sum().sum())    # Nulos totales en el DF"
      ]
    },
    {
      "cell_type": "markdown",
      "metadata": {
        "id": "9nS3oR7kDBy4"
      },
      "source": [
        "Sabemos que tenemos direcciones nulas. Luego al utilizar esa columna lo vamos a tener que tener en cuenta."
      ]
    },
    {
      "cell_type": "code",
      "execution_count": null,
      "metadata": {
        "id": "fDEelyIzCEgO"
      },
      "outputs": [
        {
          "data": {
            "application/vnd.jupyter.widget-view+json": {
              "model_id": "57d52ed2aaf44a138e97b5ba86b3d2c2",
              "version_major": 2,
              "version_minor": 0
            },
            "text/plain": [
              "interactive(children=(Dropdown(description='Columna:', index=1, options=('PRECIOUSD', 'PRECIOPESO', 'DOLARM2',…"
            ]
          },
          "metadata": {},
          "output_type": "display_data"
        },
        {
          "data": {
            "text/plain": [
              "<function __main__.actualizar_histograma(columna)>"
            ]
          },
          "execution_count": 19,
          "metadata": {},
          "output_type": "execute_result"
        }
      ],
      "source": [
        "import plotly.express as px\n",
        "import ipywidgets as widgets\n",
        "from IPython.display import display\n",
        "\n",
        "# Lista de columnas numéricas para elegir\n",
        "columnas_numericas = ['PRECIOUSD', 'PRECIOPESO', 'DOLARM2', 'PESOSM2']\n",
        "\n",
        "# Dropdown interactivo\n",
        "dropdown = widgets.Dropdown(\n",
        "    options=columnas_numericas,\n",
        "    description='Columna:',\n",
        "    value='PRECIOPESO'\n",
        ")\n",
        "\n",
        "# Función que genera el histograma\n",
        "def actualizar_histograma(columna):\n",
        "    fig = px.histogram(df, x=columna, nbins=50, title=f'Histograma de {columna}')\n",
        "    fig.show()\n",
        "\n",
        "# Conexión del dropdown con la función\n",
        "widgets.interact(actualizar_histograma, columna=dropdown)\n"
      ]
    },
    {
      "cell_type": "markdown",
      "metadata": {
        "id": "XDYDiLyVC_hD"
      },
      "source": [
        "Los trimestres aparecen como strings. En ese caso puedo hacer un value_counts() o reemplazar los valores por números para ver el histograma de esa columna."
      ]
    },
    {
      "cell_type": "code",
      "execution_count": null,
      "metadata": {
        "id": "ZFDJXRzwDWEB"
      },
      "outputs": [
        {
          "data": {
            "text/plain": [
              "array(['CUARTO', 'PRIMER', 'SEGUNDO', 'TERCER'], dtype=object)"
            ]
          },
          "execution_count": 48,
          "metadata": {},
          "output_type": "execute_result"
        }
      ],
      "source": [
        "#verificar el trimestre con la funcion unique\n",
        "df\n",
        "df[\"TRIMESTRE_\"].unique()"
      ]
    },
    {
      "cell_type": "code",
      "execution_count": 54,
      "metadata": {
        "id": "F2ASwfNpDZhX"
      },
      "outputs": [],
      "source": [
        "df = pd.read_csv(\"https://cdn.buenosaires.gob.ar/datosabiertos/datasets/secretaria-de-desarrollo-urbano/terrenos-valor-oferta/Terrenos-en-venta-2020.csv\", encoding = \"latin1\", sep=\",\")\n",
        "# hacer el remplazo por numeros\n",
        "df[\"TRIMESTRE_\"] = df[\"TRIMESTRE_\"].map({\"PRIMER\": \"1\", \"SEGUNDO\": \"2\", \"TERCER\": \"3\", \"CUARTO\": \"4\"})  # Mapea valores para reemplazo"
      ]
    },
    {
      "cell_type": "code",
      "execution_count": 55,
      "metadata": {
        "id": "6j92C2Pyq2bN"
      },
      "outputs": [
        {
          "data": {
            "text/html": [
              "<div>\n",
              "<style scoped>\n",
              "    .dataframe tbody tr th:only-of-type {\n",
              "        vertical-align: middle;\n",
              "    }\n",
              "\n",
              "    .dataframe tbody tr th {\n",
              "        vertical-align: top;\n",
              "    }\n",
              "\n",
              "    .dataframe thead th {\n",
              "        text-align: right;\n",
              "    }\n",
              "</style>\n",
              "<table border=\"1\" class=\"dataframe\">\n",
              "  <thead>\n",
              "    <tr style=\"text-align: right;\">\n",
              "      <th></th>\n",
              "      <th>DIRECCION</th>\n",
              "      <th>PROPIEDADS</th>\n",
              "      <th>PRECIOUSD</th>\n",
              "      <th>PRECIOPESO</th>\n",
              "      <th>DOLARM2</th>\n",
              "      <th>PESOSM2</th>\n",
              "      <th>COTIZACION</th>\n",
              "      <th>TRIMESTRE_</th>\n",
              "      <th>BARRIO</th>\n",
              "      <th>COMUNA_</th>\n",
              "    </tr>\n",
              "  </thead>\n",
              "  <tbody>\n",
              "    <tr>\n",
              "      <th>0</th>\n",
              "      <td>RIVADAVIA 3500</td>\n",
              "      <td>190</td>\n",
              "      <td>150000</td>\n",
              "      <td>12000000</td>\n",
              "      <td>790</td>\n",
              "      <td>63158</td>\n",
              "      <td>80</td>\n",
              "      <td>4</td>\n",
              "      <td>ALMAGRO</td>\n",
              "      <td>5</td>\n",
              "    </tr>\n",
              "    <tr>\n",
              "      <th>1</th>\n",
              "      <td>PRINGLES 100</td>\n",
              "      <td>242</td>\n",
              "      <td>230000</td>\n",
              "      <td>18400000</td>\n",
              "      <td>950</td>\n",
              "      <td>76033</td>\n",
              "      <td>80</td>\n",
              "      <td>4</td>\n",
              "      <td>ALMAGRO</td>\n",
              "      <td>5</td>\n",
              "    </tr>\n",
              "    <tr>\n",
              "      <th>2</th>\n",
              "      <td>PERON, JUAN DOMINGO, TTE. 3400</td>\n",
              "      <td>211</td>\n",
              "      <td>265000</td>\n",
              "      <td>21200000</td>\n",
              "      <td>1256</td>\n",
              "      <td>100474</td>\n",
              "      <td>80</td>\n",
              "      <td>4</td>\n",
              "      <td>ALMAGRO</td>\n",
              "      <td>5</td>\n",
              "    </tr>\n",
              "    <tr>\n",
              "      <th>3</th>\n",
              "      <td>MEXICO 4000</td>\n",
              "      <td>320</td>\n",
              "      <td>300000</td>\n",
              "      <td>24000000</td>\n",
              "      <td>938</td>\n",
              "      <td>75000</td>\n",
              "      <td>80</td>\n",
              "      <td>4</td>\n",
              "      <td>ALMAGRO</td>\n",
              "      <td>5</td>\n",
              "    </tr>\n",
              "    <tr>\n",
              "      <th>4</th>\n",
              "      <td>VENEZUELA 4067</td>\n",
              "      <td>250</td>\n",
              "      <td>305000</td>\n",
              "      <td>24400000</td>\n",
              "      <td>1220</td>\n",
              "      <td>97600</td>\n",
              "      <td>80</td>\n",
              "      <td>4</td>\n",
              "      <td>ALMAGRO</td>\n",
              "      <td>5</td>\n",
              "    </tr>\n",
              "  </tbody>\n",
              "</table>\n",
              "</div>"
            ],
            "text/plain": [
              "                        DIRECCION  PROPIEDADS  PRECIOUSD  PRECIOPESO  DOLARM2  \\\n",
              "0                  RIVADAVIA 3500         190     150000    12000000      790   \n",
              "1                    PRINGLES 100         242     230000    18400000      950   \n",
              "2  PERON, JUAN DOMINGO, TTE. 3400         211     265000    21200000     1256   \n",
              "3                     MEXICO 4000         320     300000    24000000      938   \n",
              "4                  VENEZUELA 4067         250     305000    24400000     1220   \n",
              "\n",
              "   PESOSM2  COTIZACION TRIMESTRE_   BARRIO  COMUNA_  \n",
              "0    63158          80          4  ALMAGRO        5  \n",
              "1    76033          80          4  ALMAGRO        5  \n",
              "2   100474          80          4  ALMAGRO        5  \n",
              "3    75000          80          4  ALMAGRO        5  \n",
              "4    97600          80          4  ALMAGRO        5  "
            ]
          },
          "execution_count": 55,
          "metadata": {},
          "output_type": "execute_result"
        }
      ],
      "source": [
        "#hacer un head del nuevo df\n",
        "df.head()"
      ]
    },
    {
      "cell_type": "code",
      "execution_count": 56,
      "metadata": {
        "id": "4QHg1fLzDeh8"
      },
      "outputs": [
        {
          "data": {
            "image/png": "[encoded data removed]",
            "text/plain": [
              "<Figure size 640x480 with 1 Axes>"
            ]
          },
          "metadata": {},
          "output_type": "display_data"
        }
      ],
      "source": [
        "# hacer un histograma dfimport matplotlib.pyplot as plt\n",
        "\n",
        "df[\"DOLARM2\"].hist(bins=20, edgecolor='black')\n",
        "plt.xlabel(\"Precio por m² en USD\")\n",
        "plt.ylabel(\"Cantidad de terrenos\")\n",
        "plt.title(\"Distribución de precios por metro cuadrado (USD)\")\n",
        "plt.show()\n"
      ]
    },
    {
      "cell_type": "markdown",
      "metadata": {
        "id": "fkbE_XHvE7S-"
      },
      "source": [
        "Vemos que el muestreo principal fue durante el segundo trimestre del año, por lo que el análisis trimestral puede ser complicado."
      ]
    },
    {
      "cell_type": "markdown",
      "metadata": {
        "id": "eDrWZhRIcUJh"
      },
      "source": [
        "### Ejercicio 1.\n",
        "#### ¿Cuál es el precio medio del metro cuadrado en la Ciudad de Buenos Aires?"
      ]
    },
    {
      "cell_type": "code",
      "execution_count": 57,
      "metadata": {
        "id": "ZpBQt6NltrOe"
      },
      "outputs": [
        {
          "data": {
            "text/plain": [
              "2357.6508106009123"
            ]
          },
          "execution_count": 57,
          "metadata": {},
          "output_type": "execute_result"
        }
      ],
      "source": [
        "# Calcular el promedio de la columna \"DOLARM2\"\n",
        "\n",
        "\n",
        "# Imprimir el resultado\n",
        "df[\"DOLARM2\"].mean()\n"
      ]
    },
    {
      "cell_type": "markdown",
      "metadata": {
        "id": "9NG0wlT1cUJi"
      },
      "source": [
        "### Ejercicio 2.\n",
        "#### a) Dividir las propiedades por cuartiles de precios en dólares."
      ]
    },
    {
      "cell_type": "code",
      "execution_count": 58,
      "metadata": {
        "id": "EXHzAIygEL--"
      },
      "outputs": [],
      "source": [
        "df[\"CUARTIL_PRECIOUSD\"] = pd.qcut(df[\"PRECIOUSD\"], q=4, labels=[\"Q1\", \"Q2\", \"Q3\", \"Q4\"])"
      ]
    },
    {
      "cell_type": "code",
      "execution_count": 59,
      "metadata": {
        "id": "7gn9795quSNg"
      },
      "outputs": [
        {
          "data": {
            "text/plain": [
              "0        Q1\n",
              "1        Q1\n",
              "2        Q1\n",
              "3        Q1\n",
              "4        Q1\n",
              "         ..\n",
              "10296    Q2\n",
              "10297    Q3\n",
              "10298    Q3\n",
              "10299    Q3\n",
              "10300    Q2\n",
              "Name: CUARTIL_PRECIOUSD, Length: 10301, dtype: category\n",
              "Categories (4, object): ['Q1' < 'Q2' < 'Q3' < 'Q4']"
            ]
          },
          "execution_count": 59,
          "metadata": {},
          "output_type": "execute_result"
        }
      ],
      "source": [
        "df[\"CUARTIL_PRECIOUSD\"]"
      ]
    },
    {
      "cell_type": "markdown",
      "metadata": {
        "id": "DyeOsP1sEPLS"
      },
      "source": [
        "#### b) ¿Cuáles son los barrios con más domicilios en venta dentro del cuartil más barato de CABA?\n",
        "\n",
        "Usar pivot_table"
      ]
    },
    {
      "cell_type": "code",
      "execution_count": 66,
      "metadata": {
        "id": "Tm30_hbfEQVQ"
      },
      "outputs": [
        {
          "name": "stdout",
          "output_type": "stream",
          "text": [
            "Los 5 barrios con más domicilios en venta dentro del cuartil más barato son:\n",
            "CUARTIL_PRECIOUSD   Q1  Q2  Q3  Q4\n",
            "BARRIO                            \n",
            "MATADEROS          171  55  27  13\n",
            "PARQUE PATRICIOS   119  51  43  28\n",
            "NUEVA POMPEYA      114  16   2  38\n",
            "SAN CRISTOBAL      104  85  43  27\n",
            "BOCA               104  58  17  50\n"
          ]
        },
        {
          "name": "stderr",
          "output_type": "stream",
          "text": [
            "/var/folders/fy/60bqycgj6lv4hqpj9smr9f880000gn/T/ipykernel_97249/598974286.py:2: FutureWarning:\n",
            "\n",
            "The default value of observed=False is deprecated and will change to observed=True in a future version of pandas. Specify observed=False to silence this warning and retain the current behavior\n",
            "\n"
          ]
        }
      ],
      "source": [
        "# Calcular una tabla pivot que cuenta la cantidad de domicilios por barrio y cuartil\n",
        "pivot = pd.pivot_table(\n",
        "    df,\n",
        "    index=\"BARRIO\",\n",
        "    columns=\"CUARTIL_PRECIOUSD\",\n",
        "    values=\"DIRECCION\",  # o cualquier columna no nula por fila\n",
        "    aggfunc=\"count\",\n",
        "    fill_value=0\n",
        ")\n",
        "\n",
        "\n",
        "# Seleccionar la columna correspondiente al cuartil más barato y ordenar de mayor a menor\n",
        "pivot_sorted = pivot.sort_values(by=\"Q1\", ascending=False)\n",
        "# pivot_sorted.head(5)\n",
        "\n",
        "\n",
        "# Imprimir los 5 barrios con más domicilios en venta en el cuartil más barato\n",
        "print(\"Los 5 barrios con más domicilios en venta dentro del cuartil más barato son:\")\n",
        "print(pivot_sorted.head(5))"
      ]
    },
    {
      "cell_type": "markdown",
      "metadata": {
        "id": "KVn9srIAMnKH"
      },
      "source": [
        "#### ¿Y usando groupby?"
      ]
    },
    {
      "cell_type": "code",
      "execution_count": 77,
      "metadata": {
        "id": "gd3P5btrERAM"
      },
      "outputs": [
        {
          "name": "stdout",
          "output_type": "stream",
          "text": [
            "Los 5 barrios con más domicilios en venta dentro del cuartil más barato son:\n",
            "               BARRIO CUARTIL_PRECIOUSD  CANTIDAD\n",
            "72          MATADEROS                Q1       171\n",
            "108  PARQUE PATRICIOS                Q1       119\n",
            "84      NUEVA POMPEYA                Q1       114\n",
            "132     SAN CRISTOBAL                Q1       104\n",
            "24               BOCA                Q1       104\n"
          ]
        },
        {
          "name": "stderr",
          "output_type": "stream",
          "text": [
            "/var/folders/fy/60bqycgj6lv4hqpj9smr9f880000gn/T/ipykernel_97249/2857859814.py:2: FutureWarning:\n",
            "\n",
            "The default of observed=False is deprecated and will be changed to True in a future version of pandas. Pass observed=False to retain current behavior or observed=True to adopt the future default and silence this warning.\n",
            "\n"
          ]
        }
      ],
      "source": [
        "# Agrupar lo\n",
        "df_agrupado = df.groupby([\"BARRIO\", \"CUARTIL_PRECIOUSD\"])[\"DIRECCION\"].count().reset_index(name=\"CANTIDAD\")\n",
        "\n",
        "# Seleccionar los grupos correspondientes al cuartil más barato y ordenar de mayor a menor\n",
        "\n",
        "df_q1 = df_agrupado[df_agrupado[\"CUARTIL_PRECIOUSD\"] == \"Q1\"]\n",
        "df_q1_sorted = df_q1.sort_values(by=\"CANTIDAD\", ascending=False)\n",
        "# Imprimir los 5 barrios con más domicilios en venta en el cuartil más barato\n",
        "print(\"Los 5 barrios con más domicilios en venta dentro del cuartil más barato son:\")\n",
        "print(df_q1_sorted.head(5))"
      ]
    },
    {
      "cell_type": "markdown",
      "metadata": {
        "id": "N1PnJFQhQchP"
      },
      "source": [
        "#### ¿Hay otra forma más sencilla?"
      ]
    },
    {
      "cell_type": "code",
      "execution_count": null,
      "metadata": {
        "id": "dSQuir9kERik"
      },
      "outputs": [],
      "source": [
        "#usando value counts / investiga"
      ]
    },
    {
      "cell_type": "markdown",
      "metadata": {
        "id": "LJOWVYXHcUJi"
      },
      "source": [
        "### Ejercicio 3.\n",
        "#### ¿Se puede calcular el tamaño de las propiedades?"
      ]
    },
    {
      "cell_type": "code",
      "execution_count": null,
      "metadata": {
        "id": "ncLUydWKESJF"
      },
      "outputs": [
        {
          "data": {
            "text/html": [
              "<div>\n",
              "<style scoped>\n",
              "    .dataframe tbody tr th:only-of-type {\n",
              "        vertical-align: middle;\n",
              "    }\n",
              "\n",
              "    .dataframe tbody tr th {\n",
              "        vertical-align: top;\n",
              "    }\n",
              "\n",
              "    .dataframe thead th {\n",
              "        text-align: right;\n",
              "    }\n",
              "</style>\n",
              "<table border=\"1\" class=\"dataframe\">\n",
              "  <thead>\n",
              "    <tr style=\"text-align: right;\">\n",
              "      <th></th>\n",
              "      <th>DIRECCION</th>\n",
              "      <th>PROPIEDADS</th>\n",
              "      <th>PRECIOUSD</th>\n",
              "      <th>PRECIOPESO</th>\n",
              "      <th>DOLARM2</th>\n",
              "      <th>PESOSM2</th>\n",
              "      <th>COTIZACION</th>\n",
              "      <th>TRIMESTRE_</th>\n",
              "      <th>BARRIO</th>\n",
              "      <th>COMUNA_</th>\n",
              "    </tr>\n",
              "  </thead>\n",
              "  <tbody>\n",
              "    <tr>\n",
              "      <th>0</th>\n",
              "      <td>RIVADAVIA 3500</td>\n",
              "      <td>190</td>\n",
              "      <td>150000</td>\n",
              "      <td>12000000</td>\n",
              "      <td>790</td>\n",
              "      <td>63158</td>\n",
              "      <td>80</td>\n",
              "      <td>CUARTO</td>\n",
              "      <td>ALMAGRO</td>\n",
              "      <td>5</td>\n",
              "    </tr>\n",
              "    <tr>\n",
              "      <th>1</th>\n",
              "      <td>PRINGLES 100</td>\n",
              "      <td>242</td>\n",
              "      <td>230000</td>\n",
              "      <td>18400000</td>\n",
              "      <td>950</td>\n",
              "      <td>76033</td>\n",
              "      <td>80</td>\n",
              "      <td>CUARTO</td>\n",
              "      <td>ALMAGRO</td>\n",
              "      <td>5</td>\n",
              "    </tr>\n",
              "    <tr>\n",
              "      <th>2</th>\n",
              "      <td>PERON, JUAN DOMINGO, TTE. 3400</td>\n",
              "      <td>211</td>\n",
              "      <td>265000</td>\n",
              "      <td>21200000</td>\n",
              "      <td>1256</td>\n",
              "      <td>100474</td>\n",
              "      <td>80</td>\n",
              "      <td>CUARTO</td>\n",
              "      <td>ALMAGRO</td>\n",
              "      <td>5</td>\n",
              "    </tr>\n",
              "    <tr>\n",
              "      <th>3</th>\n",
              "      <td>MEXICO 4000</td>\n",
              "      <td>320</td>\n",
              "      <td>300000</td>\n",
              "      <td>24000000</td>\n",
              "      <td>938</td>\n",
              "      <td>75000</td>\n",
              "      <td>80</td>\n",
              "      <td>CUARTO</td>\n",
              "      <td>ALMAGRO</td>\n",
              "      <td>5</td>\n",
              "    </tr>\n",
              "    <tr>\n",
              "      <th>4</th>\n",
              "      <td>VENEZUELA 4067</td>\n",
              "      <td>250</td>\n",
              "      <td>305000</td>\n",
              "      <td>24400000</td>\n",
              "      <td>1220</td>\n",
              "      <td>97600</td>\n",
              "      <td>80</td>\n",
              "      <td>CUARTO</td>\n",
              "      <td>ALMAGRO</td>\n",
              "      <td>5</td>\n",
              "    </tr>\n",
              "    <tr>\n",
              "      <th>...</th>\n",
              "      <td>...</td>\n",
              "      <td>...</td>\n",
              "      <td>...</td>\n",
              "      <td>...</td>\n",
              "      <td>...</td>\n",
              "      <td>...</td>\n",
              "      <td>...</td>\n",
              "      <td>...</td>\n",
              "      <td>...</td>\n",
              "      <td>...</td>\n",
              "    </tr>\n",
              "    <tr>\n",
              "      <th>10296</th>\n",
              "      <td>BONORINO, ESTEBAN, Cnel. 300</td>\n",
              "      <td>149</td>\n",
              "      <td>430000</td>\n",
              "      <td>27412500</td>\n",
              "      <td>2886</td>\n",
              "      <td>183976</td>\n",
              "      <td>64</td>\n",
              "      <td>PRIMER</td>\n",
              "      <td>FLORES NORTE</td>\n",
              "      <td>7</td>\n",
              "    </tr>\n",
              "    <tr>\n",
              "      <th>10297</th>\n",
              "      <td>RIVERA INDARTE 100</td>\n",
              "      <td>500</td>\n",
              "      <td>790000</td>\n",
              "      <td>50362500</td>\n",
              "      <td>1580</td>\n",
              "      <td>100725</td>\n",
              "      <td>64</td>\n",
              "      <td>PRIMER</td>\n",
              "      <td>FLORES NORTE</td>\n",
              "      <td>7</td>\n",
              "    </tr>\n",
              "    <tr>\n",
              "      <th>10298</th>\n",
              "      <td>ALVAREZ, DONATO, Tte. Gral. 200</td>\n",
              "      <td>771</td>\n",
              "      <td>690000</td>\n",
              "      <td>43987500</td>\n",
              "      <td>895</td>\n",
              "      <td>57052</td>\n",
              "      <td>64</td>\n",
              "      <td>PRIMER</td>\n",
              "      <td>FLORES NORTE</td>\n",
              "      <td>7</td>\n",
              "    </tr>\n",
              "    <tr>\n",
              "      <th>10299</th>\n",
              "      <td>ALBERDI, JUAN BAUTISTA 3100</td>\n",
              "      <td>409</td>\n",
              "      <td>800000</td>\n",
              "      <td>51000000</td>\n",
              "      <td>1956</td>\n",
              "      <td>124694</td>\n",
              "      <td>64</td>\n",
              "      <td>PRIMER</td>\n",
              "      <td>FLORES NORTE</td>\n",
              "      <td>7</td>\n",
              "    </tr>\n",
              "    <tr>\n",
              "      <th>10300</th>\n",
              "      <td>TRELLES, MANUEL R.</td>\n",
              "      <td>280</td>\n",
              "      <td>495000</td>\n",
              "      <td>31680000</td>\n",
              "      <td>1768</td>\n",
              "      <td>113143</td>\n",
              "      <td>64</td>\n",
              "      <td>SEGUNDO</td>\n",
              "      <td>FLORES NORTE</td>\n",
              "      <td>7</td>\n",
              "    </tr>\n",
              "  </tbody>\n",
              "</table>\n",
              "<p>10301 rows × 10 columns</p>\n",
              "</div>"
            ],
            "text/plain": [
              "                             DIRECCION  PROPIEDADS  PRECIOUSD  PRECIOPESO  \\\n",
              "0                       RIVADAVIA 3500         190     150000    12000000   \n",
              "1                         PRINGLES 100         242     230000    18400000   \n",
              "2       PERON, JUAN DOMINGO, TTE. 3400         211     265000    21200000   \n",
              "3                          MEXICO 4000         320     300000    24000000   \n",
              "4                       VENEZUELA 4067         250     305000    24400000   \n",
              "...                                ...         ...        ...         ...   \n",
              "10296     BONORINO, ESTEBAN, Cnel. 300         149     430000    27412500   \n",
              "10297               RIVERA INDARTE 100         500     790000    50362500   \n",
              "10298  ALVAREZ, DONATO, Tte. Gral. 200         771     690000    43987500   \n",
              "10299      ALBERDI, JUAN BAUTISTA 3100         409     800000    51000000   \n",
              "10300               TRELLES, MANUEL R.         280     495000    31680000   \n",
              "\n",
              "       DOLARM2  PESOSM2  COTIZACION TRIMESTRE_        BARRIO  COMUNA_  \n",
              "0          790    63158          80     CUARTO       ALMAGRO        5  \n",
              "1          950    76033          80     CUARTO       ALMAGRO        5  \n",
              "2         1256   100474          80     CUARTO       ALMAGRO        5  \n",
              "3          938    75000          80     CUARTO       ALMAGRO        5  \n",
              "4         1220    97600          80     CUARTO       ALMAGRO        5  \n",
              "...        ...      ...         ...        ...           ...      ...  \n",
              "10296     2886   183976          64     PRIMER  FLORES NORTE        7  \n",
              "10297     1580   100725          64     PRIMER  FLORES NORTE        7  \n",
              "10298      895    57052          64     PRIMER  FLORES NORTE        7  \n",
              "10299     1956   124694          64     PRIMER  FLORES NORTE        7  \n",
              "10300     1768   113143          64    SEGUNDO  FLORES NORTE        7  \n",
              "\n",
              "[10301 rows x 10 columns]"
            ]
          },
          "execution_count": 78,
          "metadata": {},
          "output_type": "execute_result"
        }
      ],
      "source": [
        "# Calcular el tamaño de las propiedades en metros cuadrados\n",
        "df = pd.read_csv(\"https://cdn.buenosaires.gob.ar/datosabiertos/datasets/secretaria-de-desarrollo-urbano/terrenos-valor-oferta/Terrenos-en-venta-2020.csv\", encoding = \"latin1\", sep=\",\")\n",
        "df\n"
      ]
    },
    {
      "cell_type": "code",
      "execution_count": null,
      "metadata": {
        "id": "awms0m3Jy-dv"
      },
      "outputs": [],
      "source": [
        "#imprime el df"
      ]
    },
    {
      "cell_type": "markdown",
      "metadata": {
        "id": "djoBY6mSoCRf"
      },
      "source": [
        "#### ¿Cuál sería el precio promedio de las propiedades para cada decil, según metros cuadrados?"
      ]
    },
    {
      "cell_type": "code",
      "execution_count": 92,
      "metadata": {
        "id": "5_z_TYJsoBsy"
      },
      "outputs": [
        {
          "name": "stdout",
          "output_type": "stream",
          "text": [
            "DECIL_M2\n",
            "D1    3039.11423\n",
            "D2    2639.53204\n",
            "D3    2730.98658\n",
            "D4    2429.31371\n",
            "D5    2429.67389\n",
            "D6    2207.49514\n",
            "D7    2038.78058\n",
            "D8    2070.75244\n",
            "D9    2112.72104\n",
            "D10   1869.24902\n",
            "Name: DOLARM2, dtype: float64\n"
          ]
        },
        {
          "name": "stderr",
          "output_type": "stream",
          "text": [
            "/var/folders/fy/60bqycgj6lv4hqpj9smr9f880000gn/T/ipykernel_97249/1798015873.py:21: FutureWarning:\n",
            "\n",
            "The default of observed=False is deprecated and will be changed to True in a future version of pandas. Pass observed=False to retain current behavior or observed=True to adopt the future default and silence this warning.\n",
            "\n"
          ]
        }
      ],
      "source": [
        "# Dividir los datos en deciles según el tamaño de las propiedades\n",
        "import pandas as pd\n",
        "\n",
        "df = pd.read_csv(\n",
        "    \"https://cdn.buenosaires.gob.ar/datosabiertos/datasets/secretaria-de-desarrollo-urbano/terrenos-valor-oferta/Terrenos-en-venta-2020.csv\",\n",
        "    encoding=\"latin1\",\n",
        "    sep=\",\"\n",
        ")\n",
        "\n",
        "# Crear columna de deciles según PROPIEDADS\n",
        "df[\"DECIL_M2\"] = pd.qcut(\n",
        "    df[\"PROPIEDADS\"],\n",
        "    q=10,\n",
        "    labels=[\"D1\", \"D2\", \"D3\", \"D4\", \"D5\", \"D6\", \"D7\", \"D8\", \"D9\", \"D10\"]\n",
        ")\n",
        "\n",
        "df\n",
        "\n",
        "# Calcular el precio promedio por metro cuadrado para cada decil de tamaño\n",
        "\n",
        "promedios = df.groupby(\"DECIL_M2\")[\"DOLARM2\"].mean()\n",
        "print(promedios)"
      ]
    },
    {
      "cell_type": "code",
      "execution_count": 102,
      "metadata": {
        "id": "VUtJHvdnpf8R"
      },
      "outputs": [
        {
          "name": "stderr",
          "output_type": "stream",
          "text": [
            "/var/folders/fy/60bqycgj6lv4hqpj9smr9f880000gn/T/ipykernel_97249/941749149.py:1: FutureWarning:\n",
            "\n",
            "The default of observed=False is deprecated and will be changed to True in a future version of pandas. Pass observed=False to retain current behavior or observed=True to adopt the future default and silence this warning.\n",
            "\n"
          ]
        },
        {
          "data": {
            "text/html": [
              "<div>\n",
              "<style scoped>\n",
              "    .dataframe tbody tr th:only-of-type {\n",
              "        vertical-align: middle;\n",
              "    }\n",
              "\n",
              "    .dataframe tbody tr th {\n",
              "        vertical-align: top;\n",
              "    }\n",
              "\n",
              "    .dataframe thead th {\n",
              "        text-align: right;\n",
              "    }\n",
              "</style>\n",
              "<table border=\"1\" class=\"dataframe\">\n",
              "  <thead>\n",
              "    <tr style=\"text-align: right;\">\n",
              "      <th></th>\n",
              "      <th>DECIL_M2</th>\n",
              "      <th>DOLARM2</th>\n",
              "      <th>decil</th>\n",
              "    </tr>\n",
              "  </thead>\n",
              "  <tbody>\n",
              "    <tr>\n",
              "      <th>0</th>\n",
              "      <td>D1</td>\n",
              "      <td>3039.11423</td>\n",
              "      <td>1</td>\n",
              "    </tr>\n",
              "    <tr>\n",
              "      <th>1</th>\n",
              "      <td>D2</td>\n",
              "      <td>2639.53204</td>\n",
              "      <td>2</td>\n",
              "    </tr>\n",
              "    <tr>\n",
              "      <th>2</th>\n",
              "      <td>D3</td>\n",
              "      <td>2730.98658</td>\n",
              "      <td>3</td>\n",
              "    </tr>\n",
              "    <tr>\n",
              "      <th>3</th>\n",
              "      <td>D4</td>\n",
              "      <td>2429.31371</td>\n",
              "      <td>4</td>\n",
              "    </tr>\n",
              "    <tr>\n",
              "      <th>4</th>\n",
              "      <td>D5</td>\n",
              "      <td>2429.67389</td>\n",
              "      <td>5</td>\n",
              "    </tr>\n",
              "    <tr>\n",
              "      <th>5</th>\n",
              "      <td>D6</td>\n",
              "      <td>2207.49514</td>\n",
              "      <td>6</td>\n",
              "    </tr>\n",
              "    <tr>\n",
              "      <th>6</th>\n",
              "      <td>D7</td>\n",
              "      <td>2038.78058</td>\n",
              "      <td>7</td>\n",
              "    </tr>\n",
              "    <tr>\n",
              "      <th>7</th>\n",
              "      <td>D8</td>\n",
              "      <td>2070.75244</td>\n",
              "      <td>8</td>\n",
              "    </tr>\n",
              "    <tr>\n",
              "      <th>8</th>\n",
              "      <td>D9</td>\n",
              "      <td>2112.72104</td>\n",
              "      <td>9</td>\n",
              "    </tr>\n",
              "    <tr>\n",
              "      <th>9</th>\n",
              "      <td>D10</td>\n",
              "      <td>1869.24902</td>\n",
              "      <td>10</td>\n",
              "    </tr>\n",
              "  </tbody>\n",
              "</table>\n",
              "</div>"
            ],
            "text/plain": [
              "  DECIL_M2    DOLARM2  decil\n",
              "0       D1 3039.11423      1\n",
              "1       D2 2639.53204      2\n",
              "2       D3 2730.98658      3\n",
              "3       D4 2429.31371      4\n",
              "4       D5 2429.67389      5\n",
              "5       D6 2207.49514      6\n",
              "6       D7 2038.78058      7\n",
              "7       D8 2070.75244      8\n",
              "8       D9 2112.72104      9\n",
              "9      D10 1869.24902     10"
            ]
          },
          "execution_count": 102,
          "metadata": {},
          "output_type": "execute_result"
        }
      ],
      "source": [
        "promedios = df.groupby(\"DECIL_M2\")[\"DOLARM2\"].mean()\n",
        "precios_promedio_por_decil = promedios.reset_index()\n",
        "precios_promedio_por_decil[\"decil\"] = range(1, 11)\n",
        "precios_promedio_por_decil\n"
      ]
    },
    {
      "cell_type": "code",
      "execution_count": null,
      "metadata": {
        "id": "8D1k7v3Uozz0"
      },
      "outputs": [],
      "source": [
        "#precios_promedio_por_decil\n",
        "\n",
        "#precios_promedio_por_decil.plot(x='decil', y='precio_prom_m2')\n"
      ]
    },
    {
      "cell_type": "markdown",
      "metadata": {
        "id": "yCb8iB8ccUJj"
      },
      "source": [
        "### Ejercicio 4.\n",
        "\n",
        "#### ¿Cuáles son los barrios más caros en términos de precios por metro cuadrado? ¿Y los más baratos?\n"
      ]
    },
    {
      "cell_type": "code",
      "execution_count": 113,
      "metadata": {
        "id": "ADtRltFbESnC"
      },
      "outputs": [
        {
          "name": "stdout",
          "output_type": "stream",
          "text": [
            "Los barrios más caros en términos de precios por metro cuadrado son:\n",
            "BARRIO\n",
            "RECOLETA        5834.18750\n",
            "RETIRO          5284.16667\n",
            "PUERTO MADERO   4906.00000\n",
            "BELGRANO        4302.16605\n",
            "PALERMO         4283.04671\n",
            "Name: DOLARM2, dtype: float64\n",
            "Los barrios más baratos en términos de precios por metro cuadrado son:\n",
            "BARRIO\n",
            "NUÃEZ         3784.09744\n",
            "SAN NICOLAS    3758.36232\n",
            "COLEGIALES     3398.90090\n",
            "VILLA CRESPO   3045.26913\n",
            "COLGIALES      2900.00000\n",
            "Name: DOLARM2, dtype: float64\n"
          ]
        }
      ],
      "source": [
        "# Calcular el precio promedio por metro cuadrado en cada barrio\n",
        "import pandas as pd\n",
        "\n",
        "df = pd.read_csv(\n",
        "    \"https://cdn.buenosaires.gob.ar/datosabiertos/datasets/secretaria-de-desarrollo-urbano/terrenos-valor-oferta/Terrenos-en-venta-2020.csv\",\n",
        "    encoding=\"latin1\",\n",
        "    sep=\",\"\n",
        ")\n",
        "\n",
        "\n",
        "# Ordenar los barrios por precio promedio de mayor a menor\n",
        "promedios = df.groupby(\"BARRIO\")[\"DOLARM2\"].mean()\n",
        "\n",
        "# promedios = promedios.sort_values(by=\"PRECIOUSD\", ascending=False)\n",
        "\n",
        "barrios_mas_caros = promedios.sort_values(ascending=False).head(10)\n",
        "\n",
        "# Imprimir los barrios más caros\n",
        "print(\"Los barrios más caros en términos de precios por metro cuadrado son:\")\n",
        "print(barrios_mas_caros.head())\n",
        "\n",
        "# Imprimir los barrios más baratos\n",
        "print(\"Los barrios más baratos en términos de precios por metro cuadrado son:\")\n",
        "print(barrios_mas_caros.tail())"
      ]
    },
    {
      "cell_type": "markdown",
      "metadata": {
        "id": "dZSN4oBISbgT"
      },
      "source": [
        "### Ejercicio 5\n",
        "\n",
        "#### Dado el siguiente DataFrame con departamentos en venta en CABA en 2019: https://data.buenosaires.gob.ar/dataset/terrenos-valor-oferta/resource/c9a6fed8-da1d-460e-92a8-e0213d68f59c\n",
        "\n",
        "#### ¿Qué porcentaje de propiedades que estaban en venta durante 2019 siguieron estando en 2020?"
      ]
    },
    {
      "cell_type": "code",
      "execution_count": 2,
      "metadata": {
        "id": "cxyP0Co2fh9y"
      },
      "outputs": [],
      "source": [
        "df_2019 = pd.read_csv(\"https://cdn.buenosaires.gob.ar/datosabiertos/datasets/secretaria-de-desarrollo-urbano/terrenos-valor-oferta/Terrenos-en-venta-2019.csv\")\n",
        "df_2020 = pd.read_csv(\"https://cdn.buenosaires.gob.ar/datosabiertos/datasets/secretaria-de-desarrollo-urbano/terrenos-valor-oferta/Terrenos-en-venta-2020.csv\", encoding = \"latin1\", sep=\",\")\n"
      ]
    },
    {
      "cell_type": "code",
      "execution_count": 128,
      "metadata": {
        "colab": {
          "base_uri": "https://localhost:8080/"
        },
        "id": "hf4xAT2YNZP6",
        "outputId": "72b04e12-01e2-4591-90a3-354b50cba91f"
      },
      "outputs": [
        {
          "data": {
            "text/plain": [
              "OPERACION\n",
              "VTA    5002\n",
              "ALQ       4\n",
              "Name: count, dtype: int64"
            ]
          },
          "execution_count": 128,
          "metadata": {},
          "output_type": "execute_result"
        }
      ],
      "source": [
        "df_2019[\"OPERACION\"].value_counts()"
      ]
    },
    {
      "cell_type": "code",
      "execution_count": 116,
      "metadata": {
        "id": "EohP31E1NTuh"
      },
      "outputs": [],
      "source": [
        "df_2019 = df_2019[df_2019[\"OPERACION\"]==\"VTA\"]"
      ]
    },
    {
      "cell_type": "code",
      "execution_count": 117,
      "metadata": {
        "id": "XDm6OMBVNf_a"
      },
      "outputs": [
        {
          "data": {
            "text/html": [
              "<div>\n",
              "<style scoped>\n",
              "    .dataframe tbody tr th:only-of-type {\n",
              "        vertical-align: middle;\n",
              "    }\n",
              "\n",
              "    .dataframe tbody tr th {\n",
              "        vertical-align: top;\n",
              "    }\n",
              "\n",
              "    .dataframe thead th {\n",
              "        text-align: right;\n",
              "    }\n",
              "</style>\n",
              "<table border=\"1\" class=\"dataframe\">\n",
              "  <thead>\n",
              "    <tr style=\"text-align: right;\">\n",
              "      <th></th>\n",
              "      <th>OPERACION</th>\n",
              "      <th>TIPO</th>\n",
              "      <th>LATITUD</th>\n",
              "      <th>LONGITUD</th>\n",
              "      <th>M2TOTAL</th>\n",
              "      <th>DIRECCION</th>\n",
              "      <th>CAMBIO</th>\n",
              "      <th>PRECIOUSD</th>\n",
              "      <th>PRECIOARS</th>\n",
              "      <th>PRECIOUSDM</th>\n",
              "      <th>PRECIOARSM</th>\n",
              "      <th>BARRIOS</th>\n",
              "      <th>COMUNA</th>\n",
              "    </tr>\n",
              "  </thead>\n",
              "  <tbody>\n",
              "    <tr>\n",
              "      <th>0</th>\n",
              "      <td>VTA</td>\n",
              "      <td>TERRENO</td>\n",
              "      <td>-34.6294378</td>\n",
              "      <td>-58.4498948</td>\n",
              "      <td>235.00000</td>\n",
              "      <td>Malvinas Argentinas al 400</td>\n",
              "      <td>45.00</td>\n",
              "      <td>1100000.00000</td>\n",
              "      <td>49500000</td>\n",
              "      <td>4681.00000</td>\n",
              "      <td>210645.00000</td>\n",
              "      <td>CABALLITO</td>\n",
              "      <td>6</td>\n",
              "    </tr>\n",
              "    <tr>\n",
              "      <th>1</th>\n",
              "      <td>VTA</td>\n",
              "      <td>TERRENO</td>\n",
              "      <td>-34.6289663</td>\n",
              "      <td>-58.4483573</td>\n",
              "      <td>1629.00000</td>\n",
              "      <td>Jose Bonifacio 1520</td>\n",
              "      <td>45.00</td>\n",
              "      <td>1400000.00000</td>\n",
              "      <td>63000000</td>\n",
              "      <td>859.00000</td>\n",
              "      <td>38655.00000</td>\n",
              "      <td>CABALLITO</td>\n",
              "      <td>6</td>\n",
              "    </tr>\n",
              "    <tr>\n",
              "      <th>2</th>\n",
              "      <td>VTA</td>\n",
              "      <td>TERRENO</td>\n",
              "      <td>-34.6265344</td>\n",
              "      <td>-58.4326234</td>\n",
              "      <td>438.00000</td>\n",
              "      <td>BONIFACIO  JOSE 400</td>\n",
              "      <td>45.00</td>\n",
              "      <td>2380000.00000</td>\n",
              "      <td>107100000</td>\n",
              "      <td>1062.00000</td>\n",
              "      <td>47790.00000</td>\n",
              "      <td>CABALLITO</td>\n",
              "      <td>6</td>\n",
              "    </tr>\n",
              "    <tr>\n",
              "      <th>3</th>\n",
              "      <td>VTA</td>\n",
              "      <td>TERRENO</td>\n",
              "      <td>-34.6248406</td>\n",
              "      <td>-58.4317985</td>\n",
              "      <td>272.00000</td>\n",
              "      <td>VIEL  al 600</td>\n",
              "      <td>45.00</td>\n",
              "      <td>895000.00000</td>\n",
              "      <td>40275000</td>\n",
              "      <td>3290.00000</td>\n",
              "      <td>148050.00000</td>\n",
              "      <td>CABALLITO</td>\n",
              "      <td>6</td>\n",
              "    </tr>\n",
              "    <tr>\n",
              "      <th>4</th>\n",
              "      <td>VTA</td>\n",
              "      <td>TERRENO</td>\n",
              "      <td>-34.622629</td>\n",
              "      <td>-58.44079</td>\n",
              "      <td>600.00000</td>\n",
              "      <td>Av. Del Barco Centenera 200</td>\n",
              "      <td>45.00</td>\n",
              "      <td>400000.00000</td>\n",
              "      <td>18000000</td>\n",
              "      <td>667.00000</td>\n",
              "      <td>30015.00000</td>\n",
              "      <td>CABALLITO</td>\n",
              "      <td>6</td>\n",
              "    </tr>\n",
              "  </tbody>\n",
              "</table>\n",
              "</div>"
            ],
            "text/plain": [
              "  OPERACION     TIPO      LATITUD     LONGITUD    M2TOTAL  \\\n",
              "0       VTA  TERRENO  -34.6294378  -58.4498948  235.00000   \n",
              "1       VTA  TERRENO  -34.6289663  -58.4483573 1629.00000   \n",
              "2       VTA  TERRENO  -34.6265344  -58.4326234  438.00000   \n",
              "3       VTA  TERRENO  -34.6248406  -58.4317985  272.00000   \n",
              "4       VTA  TERRENO   -34.622629    -58.44079  600.00000   \n",
              "\n",
              "                     DIRECCION CAMBIO     PRECIOUSD  PRECIOARS  PRECIOUSDM  \\\n",
              "0   Malvinas Argentinas al 400  45.00 1100000.00000   49500000  4681.00000   \n",
              "1          Jose Bonifacio 1520  45.00 1400000.00000   63000000   859.00000   \n",
              "2          BONIFACIO  JOSE 400  45.00 2380000.00000  107100000  1062.00000   \n",
              "3                 VIEL  al 600  45.00  895000.00000   40275000  3290.00000   \n",
              "4  Av. Del Barco Centenera 200  45.00  400000.00000   18000000   667.00000   \n",
              "\n",
              "    PRECIOARSM    BARRIOS  COMUNA  \n",
              "0 210645.00000  CABALLITO       6  \n",
              "1  38655.00000  CABALLITO       6  \n",
              "2  47790.00000  CABALLITO       6  \n",
              "3 148050.00000  CABALLITO       6  \n",
              "4  30015.00000  CABALLITO       6  "
            ]
          },
          "execution_count": 117,
          "metadata": {},
          "output_type": "execute_result"
        }
      ],
      "source": [
        "#hacer un head del df\n",
        "df_2019.head()"
      ]
    },
    {
      "cell_type": "markdown",
      "metadata": {
        "id": "MqundUrKCfVs"
      },
      "source": [
        "Primer pantallazo del df."
      ]
    },
    {
      "cell_type": "code",
      "execution_count": null,
      "metadata": {
        "id": "MrfYMRgf1m0n"
      },
      "outputs": [],
      "source": [
        "# Merge de los DataFrames usando la columna 'DIRECCION'\n",
        "\n",
        "# Cálculo del porcentaje de propiedades que estaban en venta en 2019 y siguieron en 2020\n"
      ]
    },
    {
      "cell_type": "code",
      "execution_count": 10,
      "metadata": {},
      "outputs": [
        {
          "data": {
            "text/html": [
              "<div>\n",
              "<style scoped>\n",
              "    .dataframe tbody tr th:only-of-type {\n",
              "        vertical-align: middle;\n",
              "    }\n",
              "\n",
              "    .dataframe tbody tr th {\n",
              "        vertical-align: top;\n",
              "    }\n",
              "\n",
              "    .dataframe thead th {\n",
              "        text-align: right;\n",
              "    }\n",
              "</style>\n",
              "<table border=\"1\" class=\"dataframe\">\n",
              "  <thead>\n",
              "    <tr style=\"text-align: right;\">\n",
              "      <th></th>\n",
              "      <th>DIRECCION</th>\n",
              "      <th>PROPIEDADS</th>\n",
              "      <th>PRECIOUSD_x</th>\n",
              "      <th>PRECIOPESO</th>\n",
              "      <th>DOLARM2</th>\n",
              "      <th>PESOSM2</th>\n",
              "      <th>COTIZACION</th>\n",
              "      <th>TRIMESTRE_</th>\n",
              "      <th>BARRIO</th>\n",
              "      <th>COMUNA_</th>\n",
              "      <th>...</th>\n",
              "      <th>LATITUD</th>\n",
              "      <th>LONGITUD</th>\n",
              "      <th>M2TOTAL</th>\n",
              "      <th>CAMBIO</th>\n",
              "      <th>PRECIOUSD_y</th>\n",
              "      <th>PRECIOARS</th>\n",
              "      <th>PRECIOUSDM</th>\n",
              "      <th>PRECIOARSM</th>\n",
              "      <th>BARRIOS</th>\n",
              "      <th>COMUNA</th>\n",
              "    </tr>\n",
              "  </thead>\n",
              "  <tbody>\n",
              "    <tr>\n",
              "      <th>0</th>\n",
              "      <td>DEAN FUNES 500</td>\n",
              "      <td>247</td>\n",
              "      <td>290000</td>\n",
              "      <td>23200000</td>\n",
              "      <td>1174</td>\n",
              "      <td>93927</td>\n",
              "      <td>80</td>\n",
              "      <td>CUARTO</td>\n",
              "      <td>BALVANERA</td>\n",
              "      <td>3</td>\n",
              "      <td>...</td>\n",
              "      <td>-346166812</td>\n",
              "      <td>-584068011</td>\n",
              "      <td>247.0</td>\n",
              "      <td>58.90</td>\n",
              "      <td>290000.0</td>\n",
              "      <td>17081000</td>\n",
              "      <td>1174.089069</td>\n",
              "      <td>68097.166002</td>\n",
              "      <td>BALVANERA</td>\n",
              "      <td>3</td>\n",
              "    </tr>\n",
              "    <tr>\n",
              "      <th>1</th>\n",
              "      <td>DEAN FUNES 500</td>\n",
              "      <td>249</td>\n",
              "      <td>310000</td>\n",
              "      <td>24800000</td>\n",
              "      <td>1245</td>\n",
              "      <td>99598</td>\n",
              "      <td>80</td>\n",
              "      <td>CUARTO</td>\n",
              "      <td>BALVANERA</td>\n",
              "      <td>3</td>\n",
              "      <td>...</td>\n",
              "      <td>-346166812</td>\n",
              "      <td>-584068011</td>\n",
              "      <td>247.0</td>\n",
              "      <td>58.90</td>\n",
              "      <td>290000.0</td>\n",
              "      <td>17081000</td>\n",
              "      <td>1174.089069</td>\n",
              "      <td>68097.166002</td>\n",
              "      <td>BALVANERA</td>\n",
              "      <td>3</td>\n",
              "    </tr>\n",
              "    <tr>\n",
              "      <th>2</th>\n",
              "      <td>DEAN FUNES 500</td>\n",
              "      <td>248</td>\n",
              "      <td>340000</td>\n",
              "      <td>27200000</td>\n",
              "      <td>1371</td>\n",
              "      <td>109677</td>\n",
              "      <td>80</td>\n",
              "      <td>CUARTO</td>\n",
              "      <td>BALVANERA</td>\n",
              "      <td>3</td>\n",
              "      <td>...</td>\n",
              "      <td>-346166812</td>\n",
              "      <td>-584068011</td>\n",
              "      <td>247.0</td>\n",
              "      <td>58.90</td>\n",
              "      <td>290000.0</td>\n",
              "      <td>17081000</td>\n",
              "      <td>1174.089069</td>\n",
              "      <td>68097.166002</td>\n",
              "      <td>BALVANERA</td>\n",
              "      <td>3</td>\n",
              "    </tr>\n",
              "    <tr>\n",
              "      <th>3</th>\n",
              "      <td>TRES SARGENTOS 300</td>\n",
              "      <td>476</td>\n",
              "      <td>1450000</td>\n",
              "      <td>116000000</td>\n",
              "      <td>3046</td>\n",
              "      <td>243698</td>\n",
              "      <td>80</td>\n",
              "      <td>CUARTO</td>\n",
              "      <td>RETIRO</td>\n",
              "      <td>1</td>\n",
              "      <td>...</td>\n",
              "      <td>-345896061</td>\n",
              "      <td>-583802473</td>\n",
              "      <td>1330.0</td>\n",
              "      <td>51.80</td>\n",
              "      <td>1450000.0</td>\n",
              "      <td>75110000</td>\n",
              "      <td>1090.000000</td>\n",
              "      <td>56462.000000</td>\n",
              "      <td>RETIRO</td>\n",
              "      <td>1</td>\n",
              "    </tr>\n",
              "    <tr>\n",
              "      <th>4</th>\n",
              "      <td>CESPEDES 3800</td>\n",
              "      <td>234</td>\n",
              "      <td>380000</td>\n",
              "      <td>30400000</td>\n",
              "      <td>1624</td>\n",
              "      <td>129914</td>\n",
              "      <td>80</td>\n",
              "      <td>CUARTO</td>\n",
              "      <td>CHACARITA</td>\n",
              "      <td>15</td>\n",
              "      <td>...</td>\n",
              "      <td>-34582708</td>\n",
              "      <td>-58456967</td>\n",
              "      <td>233.0</td>\n",
              "      <td>58.90</td>\n",
              "      <td>380000.0</td>\n",
              "      <td>22382000</td>\n",
              "      <td>1630.901288</td>\n",
              "      <td>94592.274704</td>\n",
              "      <td>CHACARITA</td>\n",
              "      <td>15</td>\n",
              "    </tr>\n",
              "    <tr>\n",
              "      <th>...</th>\n",
              "      <td>...</td>\n",
              "      <td>...</td>\n",
              "      <td>...</td>\n",
              "      <td>...</td>\n",
              "      <td>...</td>\n",
              "      <td>...</td>\n",
              "      <td>...</td>\n",
              "      <td>...</td>\n",
              "      <td>...</td>\n",
              "      <td>...</td>\n",
              "      <td>...</td>\n",
              "      <td>...</td>\n",
              "      <td>...</td>\n",
              "      <td>...</td>\n",
              "      <td>...</td>\n",
              "      <td>...</td>\n",
              "      <td>...</td>\n",
              "      <td>...</td>\n",
              "      <td>...</td>\n",
              "      <td>...</td>\n",
              "      <td>...</td>\n",
              "    </tr>\n",
              "    <tr>\n",
              "      <th>2311</th>\n",
              "      <td>ANDALGALA 1000</td>\n",
              "      <td>800</td>\n",
              "      <td>380000</td>\n",
              "      <td>24225000</td>\n",
              "      <td>475</td>\n",
              "      <td>30281</td>\n",
              "      <td>64</td>\n",
              "      <td>TERCER</td>\n",
              "      <td>LINIERS</td>\n",
              "      <td>9</td>\n",
              "      <td>...</td>\n",
              "      <td>-346501958</td>\n",
              "      <td>-585222007</td>\n",
              "      <td>377.0</td>\n",
              "      <td>58.90</td>\n",
              "      <td>380000.0</td>\n",
              "      <td>22382000</td>\n",
              "      <td>1007.957560</td>\n",
              "      <td>58461.538480</td>\n",
              "      <td>LINIERS</td>\n",
              "      <td>9</td>\n",
              "    </tr>\n",
              "    <tr>\n",
              "      <th>2312</th>\n",
              "      <td>MONASTERIO 100</td>\n",
              "      <td>262</td>\n",
              "      <td>490000</td>\n",
              "      <td>31237500</td>\n",
              "      <td>1870</td>\n",
              "      <td>119227</td>\n",
              "      <td>64</td>\n",
              "      <td>TERCER</td>\n",
              "      <td>PARQUE PATRICIOS</td>\n",
              "      <td>4</td>\n",
              "      <td>...</td>\n",
              "      <td>-34636332</td>\n",
              "      <td>-58395764</td>\n",
              "      <td>262.0</td>\n",
              "      <td>60.38</td>\n",
              "      <td>690000.0</td>\n",
              "      <td>41662200</td>\n",
              "      <td>2634.000000</td>\n",
              "      <td>159041.000000</td>\n",
              "      <td>PARQUE PATRICIOS</td>\n",
              "      <td>4</td>\n",
              "    </tr>\n",
              "    <tr>\n",
              "      <th>2313</th>\n",
              "      <td>PATAGONES 2600</td>\n",
              "      <td>450</td>\n",
              "      <td>650000</td>\n",
              "      <td>41437500</td>\n",
              "      <td>1444</td>\n",
              "      <td>92083</td>\n",
              "      <td>64</td>\n",
              "      <td>TERCER</td>\n",
              "      <td>PARQUE PATRICIOS</td>\n",
              "      <td>4</td>\n",
              "      <td>...</td>\n",
              "      <td>-34.6371494</td>\n",
              "      <td>-58.3994156</td>\n",
              "      <td>450.0</td>\n",
              "      <td>37,5</td>\n",
              "      <td>790000.0</td>\n",
              "      <td>29625000</td>\n",
              "      <td>1756.000000</td>\n",
              "      <td>65850.000000</td>\n",
              "      <td>PARQUE PATRICIOS</td>\n",
              "      <td>4</td>\n",
              "    </tr>\n",
              "    <tr>\n",
              "      <th>2314</th>\n",
              "      <td>GALICIA</td>\n",
              "      <td>128</td>\n",
              "      <td>240000</td>\n",
              "      <td>15360000</td>\n",
              "      <td>1875</td>\n",
              "      <td>120000</td>\n",
              "      <td>64</td>\n",
              "      <td>SEGUNDO</td>\n",
              "      <td>VILLA GRAL. MITRE</td>\n",
              "      <td>11</td>\n",
              "      <td>...</td>\n",
              "      <td>-346124697</td>\n",
              "      <td>-584643725</td>\n",
              "      <td>900.0</td>\n",
              "      <td>60.38</td>\n",
              "      <td>900000.0</td>\n",
              "      <td>54342000</td>\n",
              "      <td>1000.000000</td>\n",
              "      <td>60380.000000</td>\n",
              "      <td>VILLA GRAL. MITRE</td>\n",
              "      <td>11</td>\n",
              "    </tr>\n",
              "    <tr>\n",
              "      <th>2315</th>\n",
              "      <td>RIVERA INDARTE 100</td>\n",
              "      <td>500</td>\n",
              "      <td>790000</td>\n",
              "      <td>50362500</td>\n",
              "      <td>1580</td>\n",
              "      <td>100725</td>\n",
              "      <td>64</td>\n",
              "      <td>PRIMER</td>\n",
              "      <td>FLORES NORTE</td>\n",
              "      <td>7</td>\n",
              "      <td>...</td>\n",
              "      <td>-34630849</td>\n",
              "      <td>-58462038</td>\n",
              "      <td>268.0</td>\n",
              "      <td>58.90</td>\n",
              "      <td>930000.0</td>\n",
              "      <td>54777000</td>\n",
              "      <td>3470.149254</td>\n",
              "      <td>201268.656732</td>\n",
              "      <td>FLORES NORTE</td>\n",
              "      <td>7</td>\n",
              "    </tr>\n",
              "  </tbody>\n",
              "</table>\n",
              "<p>2316 rows × 22 columns</p>\n",
              "</div>"
            ],
            "text/plain": [
              "               DIRECCION  PROPIEDADS  PRECIOUSD_x  PRECIOPESO  DOLARM2  \\\n",
              "0         DEAN FUNES 500         247       290000    23200000     1174   \n",
              "1         DEAN FUNES 500         249       310000    24800000     1245   \n",
              "2         DEAN FUNES 500         248       340000    27200000     1371   \n",
              "3     TRES SARGENTOS 300         476      1450000   116000000     3046   \n",
              "4          CESPEDES 3800         234       380000    30400000     1624   \n",
              "...                  ...         ...          ...         ...      ...   \n",
              "2311      ANDALGALA 1000         800       380000    24225000      475   \n",
              "2312      MONASTERIO 100         262       490000    31237500     1870   \n",
              "2313      PATAGONES 2600         450       650000    41437500     1444   \n",
              "2314             GALICIA         128       240000    15360000     1875   \n",
              "2315  RIVERA INDARTE 100         500       790000    50362500     1580   \n",
              "\n",
              "      PESOSM2  COTIZACION TRIMESTRE_             BARRIO  COMUNA_  ...  \\\n",
              "0       93927          80     CUARTO          BALVANERA        3  ...   \n",
              "1       99598          80     CUARTO          BALVANERA        3  ...   \n",
              "2      109677          80     CUARTO          BALVANERA        3  ...   \n",
              "3      243698          80     CUARTO             RETIRO        1  ...   \n",
              "4      129914          80     CUARTO          CHACARITA       15  ...   \n",
              "...       ...         ...        ...                ...      ...  ...   \n",
              "2311    30281          64     TERCER            LINIERS        9  ...   \n",
              "2312   119227          64     TERCER   PARQUE PATRICIOS        4  ...   \n",
              "2313    92083          64     TERCER   PARQUE PATRICIOS        4  ...   \n",
              "2314   120000          64    SEGUNDO  VILLA GRAL. MITRE       11  ...   \n",
              "2315   100725          64     PRIMER       FLORES NORTE        7  ...   \n",
              "\n",
              "          LATITUD     LONGITUD M2TOTAL CAMBIO  PRECIOUSD_y PRECIOARS  \\\n",
              "0      -346166812   -584068011   247.0  58.90     290000.0  17081000   \n",
              "1      -346166812   -584068011   247.0  58.90     290000.0  17081000   \n",
              "2      -346166812   -584068011   247.0  58.90     290000.0  17081000   \n",
              "3      -345896061   -583802473  1330.0  51.80    1450000.0  75110000   \n",
              "4       -34582708    -58456967   233.0  58.90     380000.0  22382000   \n",
              "...           ...          ...     ...    ...          ...       ...   \n",
              "2311   -346501958   -585222007   377.0  58.90     380000.0  22382000   \n",
              "2312    -34636332    -58395764   262.0  60.38     690000.0  41662200   \n",
              "2313  -34.6371494  -58.3994156   450.0   37,5     790000.0  29625000   \n",
              "2314   -346124697   -584643725   900.0  60.38     900000.0  54342000   \n",
              "2315    -34630849    -58462038   268.0  58.90     930000.0  54777000   \n",
              "\n",
              "       PRECIOUSDM     PRECIOARSM            BARRIOS  COMUNA  \n",
              "0     1174.089069   68097.166002          BALVANERA       3  \n",
              "1     1174.089069   68097.166002          BALVANERA       3  \n",
              "2     1174.089069   68097.166002          BALVANERA       3  \n",
              "3     1090.000000   56462.000000             RETIRO       1  \n",
              "4     1630.901288   94592.274704          CHACARITA      15  \n",
              "...           ...            ...                ...     ...  \n",
              "2311  1007.957560   58461.538480            LINIERS       9  \n",
              "2312  2634.000000  159041.000000   PARQUE PATRICIOS       4  \n",
              "2313  1756.000000   65850.000000   PARQUE PATRICIOS       4  \n",
              "2314  1000.000000   60380.000000  VILLA GRAL. MITRE      11  \n",
              "2315  3470.149254  201268.656732       FLORES NORTE       7  \n",
              "\n",
              "[2316 rows x 22 columns]"
            ]
          },
          "execution_count": 10,
          "metadata": {},
          "output_type": "execute_result"
        }
      ],
      "source": [
        "casos_tests = df_2020.merge(\n",
        "    df_2019,\n",
        "    left_on=[\"DIRECCION\"],\n",
        "    right_on=[\"DIRECCION\"]\n",
        ")\n",
        "casos_tests"
      ]
    },
    {
      "cell_type": "markdown",
      "metadata": {
        "id": "if0eJP2MH4Qz"
      },
      "source": [
        "#### Extra: ¿qué modificaciones habría que hacer para encontrar más coincidencias? ¿Qué consideraciones habría que tomar a la hora de analizar el resultado?"
      ]
    },
    {
      "cell_type": "markdown",
      "metadata": {
        "id": "Syp1AiV46BoO"
      },
      "source": [
        "Podríamos estandarizar las direcciones:"
      ]
    },
    {
      "cell_type": "code",
      "execution_count": 16,
      "metadata": {
        "id": "UyG-fpFZ54kO"
      },
      "outputs": [],
      "source": [
        "# Eliminamos nulos\n",
        "\n",
        "# Función para estandarizar las direcciones\n",
        "def standardize_address(address):\n",
        "    if pd.isnull(address):\n",
        "        return address\n",
        "    return address.strip().upper()\n",
        "\n",
        "\n",
        "# Aplicar la función de estandarización a las direcciones en ambos DataFrames\n",
        "df_2019['DIRECCION'] = df_2019['DIRECCION'].apply(standardize_address)\n",
        "df_2020['DIRECCION'] = df_2020['DIRECCION'].apply(standardize_address)\n"
      ]
    },
    {
      "cell_type": "code",
      "execution_count": 21,
      "metadata": {
        "colab": {
          "base_uri": "https://localhost:8080/"
        },
        "id": "r-T2J7P46YkJ",
        "outputId": "86094226-be96-41d8-de40-e304ed70dcd8"
      },
      "outputs": [
        {
          "name": "stdout",
          "output_type": "stream",
          "text": [
            "Porcentaje de propiedades que siguieron en venta en 2020: 20.97%\n"
          ]
        }
      ],
      "source": [
        "# Merge de los DataFrames usando la columna 'DIRECCION'\n",
        "\n",
        "casos_tests = df_2020.merge(\n",
        "    df_2019,\n",
        "    left_on=[\"DIRECCION\"],\n",
        "    right_on=[\"DIRECCION\"]\n",
        ")\n",
        "# Crear conjuntos de direcciones estandarizadas\n",
        "direcciones_2019 = set(df_2019[\"DIRECCION\"].dropna())\n",
        "direcciones_2020 = set(df_2020[\"DIRECCION\"].dropna())\n",
        "\n",
        "# Direcciones que aparecen en ambos años\n",
        "direcciones_repetidas = direcciones_2019.intersection(direcciones_2020)\n",
        "\n",
        "# Calcular el porcentaje de propiedades de 2019 que siguen en venta en 2020\n",
        "porcentaje = len(direcciones_repetidas) / len(direcciones_2019) * 100\n",
        "\n",
        "print(f\"Porcentaje de propiedades que siguieron en venta en 2020: {porcentaje:.2f}%\")\n",
        "\n",
        "\n"
      ]
    },
    {
      "cell_type": "markdown",
      "metadata": {
        "id": "61ah1BOj7TJG"
      },
      "source": [
        "Podríamos eliminar duplicados con ```drop_duplicates()```. Este método lo vamos a ver más adelante, pero permite eliminar filas duplicadas. Por defecto elimina las que son en su totalidad iguales, pero utilizando el parámetro ```subset``` podemos seleccionar una columna (o varias) en particular que queremos utilizar como filtro\n",
        "\n",
        "En este caso, queremos eliminar las filas con la dirección repetida.\n",
        "\n",
        "\n"
      ]
    },
    {
      "cell_type": "code",
      "execution_count": 22,
      "metadata": {
        "colab": {
          "base_uri": "https://localhost:8080/"
        },
        "id": "bbgNIz9aGYBP",
        "outputId": "e12ff6d7-7bc6-4355-aefc-0a2f5ff73162"
      },
      "outputs": [
        {
          "name": "stdout",
          "output_type": "stream",
          "text": [
            "Dataset original en 2019:\n",
            "(5006, 13)\n",
            "Filas repetidas en 2019:\n",
            "(1752, 13)\n"
          ]
        }
      ],
      "source": [
        "print(\"Dataset original en 2019:\")\n",
        "print(df_2019.shape)\n",
        "print(\"Filas repetidas en 2019:\")\n",
        "print(df_2019[df_2019.duplicated(subset=\"DIRECCION\")].shape)"
      ]
    },
    {
      "cell_type": "code",
      "execution_count": 23,
      "metadata": {
        "id": "MLt_Zf4X546R"
      },
      "outputs": [
        {
          "data": {
            "text/html": [
              "<div>\n",
              "<style scoped>\n",
              "    .dataframe tbody tr th:only-of-type {\n",
              "        vertical-align: middle;\n",
              "    }\n",
              "\n",
              "    .dataframe tbody tr th {\n",
              "        vertical-align: top;\n",
              "    }\n",
              "\n",
              "    .dataframe thead th {\n",
              "        text-align: right;\n",
              "    }\n",
              "</style>\n",
              "<table border=\"1\" class=\"dataframe\">\n",
              "  <thead>\n",
              "    <tr style=\"text-align: right;\">\n",
              "      <th></th>\n",
              "      <th>OPERACION</th>\n",
              "      <th>TIPO</th>\n",
              "      <th>LATITUD</th>\n",
              "      <th>LONGITUD</th>\n",
              "      <th>M2TOTAL</th>\n",
              "      <th>DIRECCION</th>\n",
              "      <th>CAMBIO</th>\n",
              "      <th>PRECIOUSD</th>\n",
              "      <th>PRECIOARS</th>\n",
              "      <th>PRECIOUSDM</th>\n",
              "      <th>PRECIOARSM</th>\n",
              "      <th>BARRIOS</th>\n",
              "      <th>COMUNA</th>\n",
              "    </tr>\n",
              "  </thead>\n",
              "  <tbody>\n",
              "    <tr>\n",
              "      <th>177</th>\n",
              "      <td>VTA</td>\n",
              "      <td>TERRENO</td>\n",
              "      <td>-34.6166421</td>\n",
              "      <td>-58.4067744</td>\n",
              "      <td>251.0</td>\n",
              "      <td>DEAN FUNES AL 500</td>\n",
              "      <td>45.00</td>\n",
              "      <td>370000.0</td>\n",
              "      <td>16650000</td>\n",
              "      <td>1474.0</td>\n",
              "      <td>66330.0</td>\n",
              "      <td>BALVANERA</td>\n",
              "      <td>3</td>\n",
              "    </tr>\n",
              "    <tr>\n",
              "      <th>216</th>\n",
              "      <td>VTA</td>\n",
              "      <td>TERRENO</td>\n",
              "      <td>-34.6022826</td>\n",
              "      <td>-58.4402184</td>\n",
              "      <td>206.0</td>\n",
              "      <td>PADILLA AL 300</td>\n",
              "      <td>45.00</td>\n",
              "      <td>900000.0</td>\n",
              "      <td>40500000</td>\n",
              "      <td>4369.0</td>\n",
              "      <td>196605.0</td>\n",
              "      <td>VILLA CRESPO</td>\n",
              "      <td>15</td>\n",
              "    </tr>\n",
              "    <tr>\n",
              "      <th>218</th>\n",
              "      <td>VTA</td>\n",
              "      <td>TERRENO</td>\n",
              "      <td>-34.6022521</td>\n",
              "      <td>-58.4344461</td>\n",
              "      <td>208.0</td>\n",
              "      <td>VERA AL 100</td>\n",
              "      <td>45.00</td>\n",
              "      <td>800000.0</td>\n",
              "      <td>36000000</td>\n",
              "      <td>3846.0</td>\n",
              "      <td>173070.0</td>\n",
              "      <td>VILLA CRESPO</td>\n",
              "      <td>15</td>\n",
              "    </tr>\n",
              "    <tr>\n",
              "      <th>221</th>\n",
              "      <td>VTA</td>\n",
              "      <td>TERRENO</td>\n",
              "      <td>-34.602086476108</td>\n",
              "      <td>-58.446829554282</td>\n",
              "      <td>416.0</td>\n",
              "      <td>OLAYA AL 1600</td>\n",
              "      <td>45.00</td>\n",
              "      <td>500000.0</td>\n",
              "      <td>22500000</td>\n",
              "      <td>1202.0</td>\n",
              "      <td>54090.0</td>\n",
              "      <td>VILLA CRESPO</td>\n",
              "      <td>15</td>\n",
              "    </tr>\n",
              "    <tr>\n",
              "      <th>229</th>\n",
              "      <td>VTA</td>\n",
              "      <td>TERRENO</td>\n",
              "      <td>-34.5988758</td>\n",
              "      <td>-58.4335141</td>\n",
              "      <td>346.0</td>\n",
              "      <td>MUY BUEN LOTE  INCIDENCIA MENOR A 600 DLS M2 J...</td>\n",
              "      <td>45.00</td>\n",
              "      <td>1350000.0</td>\n",
              "      <td>60750000</td>\n",
              "      <td>3902.0</td>\n",
              "      <td>175590.0</td>\n",
              "      <td>VILLA CRESPO</td>\n",
              "      <td>15</td>\n",
              "    </tr>\n",
              "    <tr>\n",
              "      <th>...</th>\n",
              "      <td>...</td>\n",
              "      <td>...</td>\n",
              "      <td>...</td>\n",
              "      <td>...</td>\n",
              "      <td>...</td>\n",
              "      <td>...</td>\n",
              "      <td>...</td>\n",
              "      <td>...</td>\n",
              "      <td>...</td>\n",
              "      <td>...</td>\n",
              "      <td>...</td>\n",
              "      <td>...</td>\n",
              "      <td>...</td>\n",
              "    </tr>\n",
              "    <tr>\n",
              "      <th>4998</th>\n",
              "      <td>VTA</td>\n",
              "      <td>TERRENO</td>\n",
              "      <td>-34.6283595</td>\n",
              "      <td>-58.4570897</td>\n",
              "      <td>202.0</td>\n",
              "      <td>RAMON FALCON  AL 1900</td>\n",
              "      <td>60.50</td>\n",
              "      <td>1550000.0</td>\n",
              "      <td>93775000</td>\n",
              "      <td>7673.0</td>\n",
              "      <td>464217.0</td>\n",
              "      <td>FLORES NORTE</td>\n",
              "      <td>7</td>\n",
              "    </tr>\n",
              "    <tr>\n",
              "      <th>5000</th>\n",
              "      <td>VTA</td>\n",
              "      <td>TERRENO</td>\n",
              "      <td>-34.6187647</td>\n",
              "      <td>-58.4669925</td>\n",
              "      <td>134.0</td>\n",
              "      <td>BUFANO ALFREDO R. AL 1000</td>\n",
              "      <td>60.50</td>\n",
              "      <td>349000.0</td>\n",
              "      <td>21114500</td>\n",
              "      <td>2604.0</td>\n",
              "      <td>157542.0</td>\n",
              "      <td>FLORES NORTE</td>\n",
              "      <td>7</td>\n",
              "    </tr>\n",
              "    <tr>\n",
              "      <th>5001</th>\n",
              "      <td>VTA</td>\n",
              "      <td>TERRENO</td>\n",
              "      <td>-34.6184882</td>\n",
              "      <td>-58.46834125</td>\n",
              "      <td>552.0</td>\n",
              "      <td>ARTIGAS AL 1000</td>\n",
              "      <td>60.50</td>\n",
              "      <td>850000.0</td>\n",
              "      <td>51425000</td>\n",
              "      <td>1540.0</td>\n",
              "      <td>93170.0</td>\n",
              "      <td>FLORES NORTE</td>\n",
              "      <td>7</td>\n",
              "    </tr>\n",
              "    <tr>\n",
              "      <th>5004</th>\n",
              "      <td>VTA</td>\n",
              "      <td>TERRENO</td>\n",
              "      <td>-34.621818</td>\n",
              "      <td>-58.473141</td>\n",
              "      <td>425.0</td>\n",
              "      <td>FLORES NAZCA Y PAEZ</td>\n",
              "      <td>60.50</td>\n",
              "      <td>1000000.0</td>\n",
              "      <td>60500000</td>\n",
              "      <td>2353.0</td>\n",
              "      <td>142357.0</td>\n",
              "      <td>FLORES NORTE</td>\n",
              "      <td>7</td>\n",
              "    </tr>\n",
              "    <tr>\n",
              "      <th>5005</th>\n",
              "      <td>VTA</td>\n",
              "      <td>TERRENO</td>\n",
              "      <td>-34.614797</td>\n",
              "      <td>-58.461267</td>\n",
              "      <td>1006.0</td>\n",
              "      <td>GAONA 2400 (ENTRE TRELLES Y TERRERO)</td>\n",
              "      <td>60.50</td>\n",
              "      <td>2950000.0</td>\n",
              "      <td>178475000</td>\n",
              "      <td>2932.0</td>\n",
              "      <td>177386.0</td>\n",
              "      <td>FLORES NORTE</td>\n",
              "      <td>7</td>\n",
              "    </tr>\n",
              "  </tbody>\n",
              "</table>\n",
              "<p>1752 rows × 13 columns</p>\n",
              "</div>"
            ],
            "text/plain": [
              "     OPERACION     TIPO           LATITUD          LONGITUD  M2TOTAL  \\\n",
              "177        VTA  TERRENO       -34.6166421       -58.4067744    251.0   \n",
              "216        VTA  TERRENO       -34.6022826       -58.4402184    206.0   \n",
              "218        VTA  TERRENO       -34.6022521       -58.4344461    208.0   \n",
              "221        VTA  TERRENO  -34.602086476108  -58.446829554282    416.0   \n",
              "229        VTA  TERRENO       -34.5988758       -58.4335141    346.0   \n",
              "...        ...      ...               ...               ...      ...   \n",
              "4998       VTA  TERRENO       -34.6283595       -58.4570897    202.0   \n",
              "5000       VTA  TERRENO       -34.6187647       -58.4669925    134.0   \n",
              "5001       VTA  TERRENO       -34.6184882      -58.46834125    552.0   \n",
              "5004       VTA  TERRENO        -34.621818        -58.473141    425.0   \n",
              "5005       VTA  TERRENO        -34.614797        -58.461267   1006.0   \n",
              "\n",
              "                                              DIRECCION CAMBIO  PRECIOUSD  \\\n",
              "177                                   DEAN FUNES AL 500  45.00   370000.0   \n",
              "216                                      PADILLA AL 300  45.00   900000.0   \n",
              "218                                         VERA AL 100  45.00   800000.0   \n",
              "221                                       OLAYA AL 1600  45.00   500000.0   \n",
              "229   MUY BUEN LOTE  INCIDENCIA MENOR A 600 DLS M2 J...  45.00  1350000.0   \n",
              "...                                                 ...    ...        ...   \n",
              "4998                              RAMON FALCON  AL 1900  60.50  1550000.0   \n",
              "5000                          BUFANO ALFREDO R. AL 1000  60.50   349000.0   \n",
              "5001                                    ARTIGAS AL 1000  60.50   850000.0   \n",
              "5004                                FLORES NAZCA Y PAEZ  60.50  1000000.0   \n",
              "5005               GAONA 2400 (ENTRE TRELLES Y TERRERO)  60.50  2950000.0   \n",
              "\n",
              "      PRECIOARS  PRECIOUSDM  PRECIOARSM       BARRIOS  COMUNA  \n",
              "177    16650000      1474.0     66330.0     BALVANERA       3  \n",
              "216    40500000      4369.0    196605.0  VILLA CRESPO      15  \n",
              "218    36000000      3846.0    173070.0  VILLA CRESPO      15  \n",
              "221    22500000      1202.0     54090.0  VILLA CRESPO      15  \n",
              "229    60750000      3902.0    175590.0  VILLA CRESPO      15  \n",
              "...         ...         ...         ...           ...     ...  \n",
              "4998   93775000      7673.0    464217.0  FLORES NORTE       7  \n",
              "5000   21114500      2604.0    157542.0  FLORES NORTE       7  \n",
              "5001   51425000      1540.0     93170.0  FLORES NORTE       7  \n",
              "5004   60500000      2353.0    142357.0  FLORES NORTE       7  \n",
              "5005  178475000      2932.0    177386.0  FLORES NORTE       7  \n",
              "\n",
              "[1752 rows x 13 columns]"
            ]
          },
          "execution_count": 23,
          "metadata": {},
          "output_type": "execute_result"
        }
      ],
      "source": [
        "df_2019[df_2019.duplicated(subset=\"DIRECCION\")]"
      ]
    },
    {
      "cell_type": "code",
      "execution_count": 26,
      "metadata": {
        "colab": {
          "base_uri": "https://localhost:8080/"
        },
        "id": "vAFkziZVG9ge",
        "outputId": "01476734-f676-4747-cadd-eee282354dc9"
      },
      "outputs": [
        {
          "name": "stdout",
          "output_type": "stream",
          "text": [
            "Dataset original en 2020:\n",
            "(10301, 10)\n",
            "Filas repetidas en 2020:\n",
            "(6855, 10)\n"
          ]
        }
      ],
      "source": [
        "print(\"Dataset original en 2020:\")\n",
        "print(df_2020.shape)\n",
        "print(\"Filas repetidas en 2020:\")\n",
        "print(df_2020[df_2020.duplicated(subset=\"DIRECCION\")].shape)"
      ]
    },
    {
      "cell_type": "code",
      "execution_count": 28,
      "metadata": {
        "id": "zLwVBO_e8Bhj"
      },
      "outputs": [
        {
          "data": {
            "text/html": [
              "<div>\n",
              "<style scoped>\n",
              "    .dataframe tbody tr th:only-of-type {\n",
              "        vertical-align: middle;\n",
              "    }\n",
              "\n",
              "    .dataframe tbody tr th {\n",
              "        vertical-align: top;\n",
              "    }\n",
              "\n",
              "    .dataframe thead th {\n",
              "        text-align: right;\n",
              "    }\n",
              "</style>\n",
              "<table border=\"1\" class=\"dataframe\">\n",
              "  <thead>\n",
              "    <tr style=\"text-align: right;\">\n",
              "      <th></th>\n",
              "      <th>DIRECCION</th>\n",
              "      <th>PROPIEDADS</th>\n",
              "      <th>PRECIOUSD</th>\n",
              "      <th>PRECIOPESO</th>\n",
              "      <th>DOLARM2</th>\n",
              "      <th>PESOSM2</th>\n",
              "      <th>COTIZACION</th>\n",
              "      <th>TRIMESTRE_</th>\n",
              "      <th>BARRIO</th>\n",
              "      <th>COMUNA_</th>\n",
              "    </tr>\n",
              "  </thead>\n",
              "  <tbody>\n",
              "    <tr>\n",
              "      <th>6388</th>\n",
              "      <td>.ANDONAEGUI</td>\n",
              "      <td>364</td>\n",
              "      <td>450000</td>\n",
              "      <td>31275000</td>\n",
              "      <td>1236</td>\n",
              "      <td>85920</td>\n",
              "      <td>70</td>\n",
              "      <td>SEGUNDO</td>\n",
              "      <td>PARQUE CHAS</td>\n",
              "      <td>15</td>\n",
              "    </tr>\n",
              "    <tr>\n",
              "      <th>8054</th>\n",
              "      <td>.ANDONAEGUI</td>\n",
              "      <td>364</td>\n",
              "      <td>450000</td>\n",
              "      <td>30240000</td>\n",
              "      <td>1236</td>\n",
              "      <td>83077</td>\n",
              "      <td>67</td>\n",
              "      <td>SEGUNDO</td>\n",
              "      <td>PARQUE CHAS</td>\n",
              "      <td>15</td>\n",
              "    </tr>\n",
              "    <tr>\n",
              "      <th>6383</th>\n",
              "      <td>.CAMPILLO</td>\n",
              "      <td>364</td>\n",
              "      <td>500000</td>\n",
              "      <td>34750000</td>\n",
              "      <td>1374</td>\n",
              "      <td>95467</td>\n",
              "      <td>70</td>\n",
              "      <td>SEGUNDO</td>\n",
              "      <td>PARQUE CHAS</td>\n",
              "      <td>15</td>\n",
              "    </tr>\n",
              "    <tr>\n",
              "      <th>8055</th>\n",
              "      <td>.CAMPILLO</td>\n",
              "      <td>364</td>\n",
              "      <td>500000</td>\n",
              "      <td>33600000</td>\n",
              "      <td>1374</td>\n",
              "      <td>92308</td>\n",
              "      <td>67</td>\n",
              "      <td>SEGUNDO</td>\n",
              "      <td>PARQUE CHAS</td>\n",
              "      <td>15</td>\n",
              "    </tr>\n",
              "    <tr>\n",
              "      <th>9163</th>\n",
              "      <td>1 DE MAYO 1800</td>\n",
              "      <td>208</td>\n",
              "      <td>100000</td>\n",
              "      <td>6720000</td>\n",
              "      <td>481</td>\n",
              "      <td>32308</td>\n",
              "      <td>67</td>\n",
              "      <td>SEGUNDO</td>\n",
              "      <td>NUEVA POMPEYA</td>\n",
              "      <td>4</td>\n",
              "    </tr>\n",
              "    <tr>\n",
              "      <th>...</th>\n",
              "      <td>...</td>\n",
              "      <td>...</td>\n",
              "      <td>...</td>\n",
              "      <td>...</td>\n",
              "      <td>...</td>\n",
              "      <td>...</td>\n",
              "      <td>...</td>\n",
              "      <td>...</td>\n",
              "      <td>...</td>\n",
              "      <td>...</td>\n",
              "    </tr>\n",
              "    <tr>\n",
              "      <th>2976</th>\n",
              "      <td>NaN</td>\n",
              "      <td>1100</td>\n",
              "      <td>3500000</td>\n",
              "      <td>224000000</td>\n",
              "      <td>3182</td>\n",
              "      <td>203636</td>\n",
              "      <td>64</td>\n",
              "      <td>SEGUNDO</td>\n",
              "      <td>VILLA CRESPO</td>\n",
              "      <td>15</td>\n",
              "    </tr>\n",
              "    <tr>\n",
              "      <th>3017</th>\n",
              "      <td>NaN</td>\n",
              "      <td>1050</td>\n",
              "      <td>520000</td>\n",
              "      <td>33280000</td>\n",
              "      <td>495</td>\n",
              "      <td>31695</td>\n",
              "      <td>64</td>\n",
              "      <td>SEGUNDO</td>\n",
              "      <td>VILLA CRESPO</td>\n",
              "      <td>15</td>\n",
              "    </tr>\n",
              "    <tr>\n",
              "      <th>3981</th>\n",
              "      <td>NaN</td>\n",
              "      <td>221</td>\n",
              "      <td>420000</td>\n",
              "      <td>26880000</td>\n",
              "      <td>1900</td>\n",
              "      <td>121629</td>\n",
              "      <td>64</td>\n",
              "      <td>SEGUNDO</td>\n",
              "      <td>PARQUE PATRICIOS</td>\n",
              "      <td>4</td>\n",
              "    </tr>\n",
              "    <tr>\n",
              "      <th>3985</th>\n",
              "      <td>NaN</td>\n",
              "      <td>128</td>\n",
              "      <td>350000</td>\n",
              "      <td>22400000</td>\n",
              "      <td>2734</td>\n",
              "      <td>175000</td>\n",
              "      <td>64</td>\n",
              "      <td>SEGUNDO</td>\n",
              "      <td>PARQUE PATRICIOS</td>\n",
              "      <td>4</td>\n",
              "    </tr>\n",
              "    <tr>\n",
              "      <th>4164</th>\n",
              "      <td>NaN</td>\n",
              "      <td>260</td>\n",
              "      <td>450000</td>\n",
              "      <td>28800000</td>\n",
              "      <td>1731</td>\n",
              "      <td>110769</td>\n",
              "      <td>64</td>\n",
              "      <td>SEGUNDO</td>\n",
              "      <td>VILLA LURO</td>\n",
              "      <td>10</td>\n",
              "    </tr>\n",
              "  </tbody>\n",
              "</table>\n",
              "<p>6855 rows × 10 columns</p>\n",
              "</div>"
            ],
            "text/plain": [
              "           DIRECCION  PROPIEDADS  PRECIOUSD  PRECIOPESO  DOLARM2  PESOSM2  \\\n",
              "6388     .ANDONAEGUI         364     450000    31275000     1236    85920   \n",
              "8054     .ANDONAEGUI         364     450000    30240000     1236    83077   \n",
              "6383       .CAMPILLO         364     500000    34750000     1374    95467   \n",
              "8055       .CAMPILLO         364     500000    33600000     1374    92308   \n",
              "9163  1 DE MAYO 1800         208     100000     6720000      481    32308   \n",
              "...              ...         ...        ...         ...      ...      ...   \n",
              "2976             NaN        1100    3500000   224000000     3182   203636   \n",
              "3017             NaN        1050     520000    33280000      495    31695   \n",
              "3981             NaN         221     420000    26880000     1900   121629   \n",
              "3985             NaN         128     350000    22400000     2734   175000   \n",
              "4164             NaN         260     450000    28800000     1731   110769   \n",
              "\n",
              "      COTIZACION TRIMESTRE_            BARRIO  COMUNA_  \n",
              "6388          70    SEGUNDO       PARQUE CHAS       15  \n",
              "8054          67    SEGUNDO       PARQUE CHAS       15  \n",
              "6383          70    SEGUNDO       PARQUE CHAS       15  \n",
              "8055          67    SEGUNDO       PARQUE CHAS       15  \n",
              "9163          67    SEGUNDO     NUEVA POMPEYA        4  \n",
              "...          ...        ...               ...      ...  \n",
              "2976          64    SEGUNDO      VILLA CRESPO       15  \n",
              "3017          64    SEGUNDO      VILLA CRESPO       15  \n",
              "3981          64    SEGUNDO  PARQUE PATRICIOS        4  \n",
              "3985          64    SEGUNDO  PARQUE PATRICIOS        4  \n",
              "4164          64    SEGUNDO        VILLA LURO       10  \n",
              "\n",
              "[6855 rows x 10 columns]"
            ]
          },
          "execution_count": 28,
          "metadata": {},
          "output_type": "execute_result"
        }
      ],
      "source": [
        "df_2020[df_2020.duplicated(subset=\"DIRECCION\")].sort_values(by=\"DIRECCION\")"
      ]
    },
    {
      "cell_type": "code",
      "execution_count": 30,
      "metadata": {
        "id": "dYhZez8TFvkd"
      },
      "outputs": [],
      "source": [
        "df_2019_sind = df_2019.drop_duplicates(subset=\"DIRECCION\")\n",
        "df_sind = df_2020.drop_duplicates(subset=\"DIRECCION\")"
      ]
    },
    {
      "cell_type": "code",
      "execution_count": null,
      "metadata": {
        "colab": {
          "base_uri": "https://localhost:8080/"
        },
        "id": "kBlgRVFBHlBX",
        "outputId": "b615e5d1-96c9-4dd3-8e70-3386da44a4fe"
      },
      "outputs": [
        {
          "name": "stdout",
          "output_type": "stream",
          "text": [
            "(3252, 13)\n",
            "(3445, 12)\n"
          ]
        }
      ],
      "source": [
        "#print(df_2019_sind.shape)\n",
        "#print(df_sind.shape)"
      ]
    },
    {
      "cell_type": "code",
      "execution_count": 31,
      "metadata": {
        "colab": {
          "base_uri": "https://localhost:8080/"
        },
        "id": "B9esmXtB6Sdz",
        "outputId": "b5c875f2-0db1-4f6a-f0c8-6fb157738c58"
      },
      "outputs": [
        {
          "data": {
            "text/plain": [
              "(3254, 13)"
            ]
          },
          "execution_count": 31,
          "metadata": {},
          "output_type": "execute_result"
        }
      ],
      "source": [
        "df_2019_sind.shape"
      ]
    },
    {
      "cell_type": "markdown",
      "metadata": {
        "id": "aRzKcPtLISlB"
      },
      "source": [
        "El porcentaje disminuye muchísimo. Otras opciones posibles son la de ampliar el horizonte de dropeo de duplicados (tomar no solo la dirección como subset sino también que sean propiedades que coincidan bastante en metros cuadrados) o Procesamientos de Lenguaje Natural (NLP) que permitan estandarizar aún más las direcciones (esto último excede al curso actual)."
      ]
    },
    {
      "cell_type": "markdown",
      "metadata": {
        "id": "NrGL88kzKHjX"
      },
      "source": [
        "### Ejercicio 6\n",
        "#### Agregar una columna al DataFrame ```df``` que indique si la propiedad se encuentra en un barrio del centro (BARRIO es San Nicolás, Monserrat o Retiro) o no.\n",
        "\n",
        "\n"
      ]
    },
    {
      "cell_type": "code",
      "execution_count": 34,
      "metadata": {
        "id": "TgwkQPM9KIWq"
      },
      "outputs": [],
      "source": [
        "casos_tests\n",
        "\n",
        "barrios_centro = [\"SAN NICOLAS\", \"MONSERRAT\", \"RETIRO\"]\n",
        "\n",
        "casos_tests[\"ES_CENTRO\"] = casos_tests[\"BARRIO\"].str.upper().isin(barrios_centro)"
      ]
    },
    {
      "cell_type": "markdown",
      "metadata": {
        "id": "oUtcZ_nRLb5e"
      },
      "source": [
        "#### Crear una columna que muestre la diferencia entre el precio en dólares de cada propiedad y el promedio del barrio en el que se encuentra, para el año 2019.\n",
        "Nota: investigar la función transform()"
      ]
    },
    {
      "cell_type": "code",
      "execution_count": 35,
      "metadata": {
        "id": "g-jU5Scu69sg"
      },
      "outputs": [
        {
          "data": {
            "text/html": [
              "<div>\n",
              "<style scoped>\n",
              "    .dataframe tbody tr th:only-of-type {\n",
              "        vertical-align: middle;\n",
              "    }\n",
              "\n",
              "    .dataframe tbody tr th {\n",
              "        vertical-align: top;\n",
              "    }\n",
              "\n",
              "    .dataframe thead th {\n",
              "        text-align: right;\n",
              "    }\n",
              "</style>\n",
              "<table border=\"1\" class=\"dataframe\">\n",
              "  <thead>\n",
              "    <tr style=\"text-align: right;\">\n",
              "      <th></th>\n",
              "      <th>OPERACION</th>\n",
              "      <th>TIPO</th>\n",
              "      <th>LATITUD</th>\n",
              "      <th>LONGITUD</th>\n",
              "      <th>M2TOTAL</th>\n",
              "      <th>DIRECCION</th>\n",
              "      <th>CAMBIO</th>\n",
              "      <th>PRECIOUSD</th>\n",
              "      <th>PRECIOARS</th>\n",
              "      <th>PRECIOUSDM</th>\n",
              "      <th>PRECIOARSM</th>\n",
              "      <th>BARRIOS</th>\n",
              "      <th>COMUNA</th>\n",
              "    </tr>\n",
              "  </thead>\n",
              "  <tbody>\n",
              "    <tr>\n",
              "      <th>0</th>\n",
              "      <td>VTA</td>\n",
              "      <td>TERRENO</td>\n",
              "      <td>-34.6294378</td>\n",
              "      <td>-58.4498948</td>\n",
              "      <td>235.0</td>\n",
              "      <td>MALVINAS ARGENTINAS AL 400</td>\n",
              "      <td>45.00</td>\n",
              "      <td>1100000.0</td>\n",
              "      <td>49500000</td>\n",
              "      <td>4681.0</td>\n",
              "      <td>210645.0</td>\n",
              "      <td>CABALLITO</td>\n",
              "      <td>6</td>\n",
              "    </tr>\n",
              "    <tr>\n",
              "      <th>1</th>\n",
              "      <td>VTA</td>\n",
              "      <td>TERRENO</td>\n",
              "      <td>-34.6289663</td>\n",
              "      <td>-58.4483573</td>\n",
              "      <td>1629.0</td>\n",
              "      <td>JOSE BONIFACIO 1520</td>\n",
              "      <td>45.00</td>\n",
              "      <td>1400000.0</td>\n",
              "      <td>63000000</td>\n",
              "      <td>859.0</td>\n",
              "      <td>38655.0</td>\n",
              "      <td>CABALLITO</td>\n",
              "      <td>6</td>\n",
              "    </tr>\n",
              "    <tr>\n",
              "      <th>2</th>\n",
              "      <td>VTA</td>\n",
              "      <td>TERRENO</td>\n",
              "      <td>-34.6265344</td>\n",
              "      <td>-58.4326234</td>\n",
              "      <td>438.0</td>\n",
              "      <td>BONIFACIO  JOSE 400</td>\n",
              "      <td>45.00</td>\n",
              "      <td>2380000.0</td>\n",
              "      <td>107100000</td>\n",
              "      <td>1062.0</td>\n",
              "      <td>47790.0</td>\n",
              "      <td>CABALLITO</td>\n",
              "      <td>6</td>\n",
              "    </tr>\n",
              "    <tr>\n",
              "      <th>3</th>\n",
              "      <td>VTA</td>\n",
              "      <td>TERRENO</td>\n",
              "      <td>-34.6248406</td>\n",
              "      <td>-58.4317985</td>\n",
              "      <td>272.0</td>\n",
              "      <td>VIEL  AL 600</td>\n",
              "      <td>45.00</td>\n",
              "      <td>895000.0</td>\n",
              "      <td>40275000</td>\n",
              "      <td>3290.0</td>\n",
              "      <td>148050.0</td>\n",
              "      <td>CABALLITO</td>\n",
              "      <td>6</td>\n",
              "    </tr>\n",
              "    <tr>\n",
              "      <th>4</th>\n",
              "      <td>VTA</td>\n",
              "      <td>TERRENO</td>\n",
              "      <td>-34.622629</td>\n",
              "      <td>-58.44079</td>\n",
              "      <td>600.0</td>\n",
              "      <td>AV. DEL BARCO CENTENERA 200</td>\n",
              "      <td>45.00</td>\n",
              "      <td>400000.0</td>\n",
              "      <td>18000000</td>\n",
              "      <td>667.0</td>\n",
              "      <td>30015.0</td>\n",
              "      <td>CABALLITO</td>\n",
              "      <td>6</td>\n",
              "    </tr>\n",
              "    <tr>\n",
              "      <th>...</th>\n",
              "      <td>...</td>\n",
              "      <td>...</td>\n",
              "      <td>...</td>\n",
              "      <td>...</td>\n",
              "      <td>...</td>\n",
              "      <td>...</td>\n",
              "      <td>...</td>\n",
              "      <td>...</td>\n",
              "      <td>...</td>\n",
              "      <td>...</td>\n",
              "      <td>...</td>\n",
              "      <td>...</td>\n",
              "      <td>...</td>\n",
              "    </tr>\n",
              "    <tr>\n",
              "      <th>5001</th>\n",
              "      <td>VTA</td>\n",
              "      <td>TERRENO</td>\n",
              "      <td>-34.6184882</td>\n",
              "      <td>-58.46834125</td>\n",
              "      <td>552.0</td>\n",
              "      <td>ARTIGAS AL 1000</td>\n",
              "      <td>60.50</td>\n",
              "      <td>850000.0</td>\n",
              "      <td>51425000</td>\n",
              "      <td>1540.0</td>\n",
              "      <td>93170.0</td>\n",
              "      <td>FLORES NORTE</td>\n",
              "      <td>7</td>\n",
              "    </tr>\n",
              "    <tr>\n",
              "      <th>5002</th>\n",
              "      <td>VTA</td>\n",
              "      <td>TERRENO</td>\n",
              "      <td>-34.631988</td>\n",
              "      <td>-58.464822</td>\n",
              "      <td>223.0</td>\n",
              "      <td>ALBERDI 2600</td>\n",
              "      <td>60.50</td>\n",
              "      <td>580000.0</td>\n",
              "      <td>35090000</td>\n",
              "      <td>2601.0</td>\n",
              "      <td>157361.0</td>\n",
              "      <td>FLORES NORTE</td>\n",
              "      <td>7</td>\n",
              "    </tr>\n",
              "    <tr>\n",
              "      <th>5003</th>\n",
              "      <td>VTA</td>\n",
              "      <td>TERRENO</td>\n",
              "      <td>-34.626819</td>\n",
              "      <td>-58.4621</td>\n",
              "      <td>229.0</td>\n",
              "      <td>CARACAS 100</td>\n",
              "      <td>60.50</td>\n",
              "      <td>350000.0</td>\n",
              "      <td>21175000</td>\n",
              "      <td>1528.0</td>\n",
              "      <td>92444.0</td>\n",
              "      <td>FLORES NORTE</td>\n",
              "      <td>7</td>\n",
              "    </tr>\n",
              "    <tr>\n",
              "      <th>5004</th>\n",
              "      <td>VTA</td>\n",
              "      <td>TERRENO</td>\n",
              "      <td>-34.621818</td>\n",
              "      <td>-58.473141</td>\n",
              "      <td>425.0</td>\n",
              "      <td>FLORES NAZCA Y PAEZ</td>\n",
              "      <td>60.50</td>\n",
              "      <td>1000000.0</td>\n",
              "      <td>60500000</td>\n",
              "      <td>2353.0</td>\n",
              "      <td>142357.0</td>\n",
              "      <td>FLORES NORTE</td>\n",
              "      <td>7</td>\n",
              "    </tr>\n",
              "    <tr>\n",
              "      <th>5005</th>\n",
              "      <td>VTA</td>\n",
              "      <td>TERRENO</td>\n",
              "      <td>-34.614797</td>\n",
              "      <td>-58.461267</td>\n",
              "      <td>1006.0</td>\n",
              "      <td>GAONA 2400 (ENTRE TRELLES Y TERRERO)</td>\n",
              "      <td>60.50</td>\n",
              "      <td>2950000.0</td>\n",
              "      <td>178475000</td>\n",
              "      <td>2932.0</td>\n",
              "      <td>177386.0</td>\n",
              "      <td>FLORES NORTE</td>\n",
              "      <td>7</td>\n",
              "    </tr>\n",
              "  </tbody>\n",
              "</table>\n",
              "<p>5006 rows × 13 columns</p>\n",
              "</div>"
            ],
            "text/plain": [
              "     OPERACION     TIPO      LATITUD      LONGITUD  M2TOTAL  \\\n",
              "0          VTA  TERRENO  -34.6294378   -58.4498948    235.0   \n",
              "1          VTA  TERRENO  -34.6289663   -58.4483573   1629.0   \n",
              "2          VTA  TERRENO  -34.6265344   -58.4326234    438.0   \n",
              "3          VTA  TERRENO  -34.6248406   -58.4317985    272.0   \n",
              "4          VTA  TERRENO   -34.622629     -58.44079    600.0   \n",
              "...        ...      ...          ...           ...      ...   \n",
              "5001       VTA  TERRENO  -34.6184882  -58.46834125    552.0   \n",
              "5002       VTA  TERRENO   -34.631988    -58.464822    223.0   \n",
              "5003       VTA  TERRENO   -34.626819      -58.4621    229.0   \n",
              "5004       VTA  TERRENO   -34.621818    -58.473141    425.0   \n",
              "5005       VTA  TERRENO   -34.614797    -58.461267   1006.0   \n",
              "\n",
              "                                 DIRECCION CAMBIO  PRECIOUSD  PRECIOARS  \\\n",
              "0               MALVINAS ARGENTINAS AL 400  45.00  1100000.0   49500000   \n",
              "1                      JOSE BONIFACIO 1520  45.00  1400000.0   63000000   \n",
              "2                      BONIFACIO  JOSE 400  45.00  2380000.0  107100000   \n",
              "3                             VIEL  AL 600  45.00   895000.0   40275000   \n",
              "4              AV. DEL BARCO CENTENERA 200  45.00   400000.0   18000000   \n",
              "...                                    ...    ...        ...        ...   \n",
              "5001                       ARTIGAS AL 1000  60.50   850000.0   51425000   \n",
              "5002                          ALBERDI 2600  60.50   580000.0   35090000   \n",
              "5003                           CARACAS 100  60.50   350000.0   21175000   \n",
              "5004                   FLORES NAZCA Y PAEZ  60.50  1000000.0   60500000   \n",
              "5005  GAONA 2400 (ENTRE TRELLES Y TERRERO)  60.50  2950000.0  178475000   \n",
              "\n",
              "      PRECIOUSDM  PRECIOARSM       BARRIOS  COMUNA  \n",
              "0         4681.0    210645.0     CABALLITO       6  \n",
              "1          859.0     38655.0     CABALLITO       6  \n",
              "2         1062.0     47790.0     CABALLITO       6  \n",
              "3         3290.0    148050.0     CABALLITO       6  \n",
              "4          667.0     30015.0     CABALLITO       6  \n",
              "...          ...         ...           ...     ...  \n",
              "5001      1540.0     93170.0  FLORES NORTE       7  \n",
              "5002      2601.0    157361.0  FLORES NORTE       7  \n",
              "5003      1528.0     92444.0  FLORES NORTE       7  \n",
              "5004      2353.0    142357.0  FLORES NORTE       7  \n",
              "5005      2932.0    177386.0  FLORES NORTE       7  \n",
              "\n",
              "[5006 rows x 13 columns]"
            ]
          },
          "execution_count": 35,
          "metadata": {},
          "output_type": "execute_result"
        }
      ],
      "source": [
        "df_2019"
      ]
    },
    {
      "cell_type": "code",
      "execution_count": 39,
      "metadata": {
        "id": "Cb73ugnALQqv"
      },
      "outputs": [],
      "source": [
        "df_2019[\"PROMEDIO_BARRIO\"] = df_2019.groupby(\"BARRIOS\")[\"PRECIOUSD\"].transform(\"mean\")\n",
        "df_2019[\"DIF_PRECIO_BARRIO\"] = df_2019[\"PRECIOUSD\"] - df_2019[\"PROMEDIO_BARRIO\"]\n"
      ]
    },
    {
      "cell_type": "code",
      "execution_count": 41,
      "metadata": {
        "id": "9vEWys6MPsyb"
      },
      "outputs": [
        {
          "data": {
            "text/plain": [
              "DIRECCION\n",
              "DARWIN AL 200                            27\n",
              "RIO DE JANEIRO AL 1000                   21\n",
              "OLAYA AL 1600                            18\n",
              "CORRIENTES AL 6100                       16\n",
              "LOYOLA AL 100                            16\n",
              "                                         ..\n",
              "PRESIDENTE JOSE EVARISTO URIBURU 1000     1\n",
              "VIDAL AL 2900                             1\n",
              "ZABALA AL 3600                            1\n",
              "VALENTIN VIRASORO 1200                    1\n",
              "CARACAS 100                               1\n",
              "Name: count, Length: 3253, dtype: int64"
            ]
          },
          "execution_count": 41,
          "metadata": {},
          "output_type": "execute_result"
        }
      ],
      "source": [
        "df_2019[\"DIRECCION\"].value_counts()"
      ]
    }
  ],
  "metadata": {
    "colab": {
      "provenance": []
    },
    "kernelspec": {
      "display_name": "base",
      "language": "python",
      "name": "python3"
    },
    "language_info": {
      "codemirror_mode": {
        "name": "ipython",
        "version": 3
      },
      "file_extension": ".py",
      "mimetype": "text/x-python",
      "name": "python",
      "nbconvert_exporter": "python",
      "pygments_lexer": "ipython3",
      "version": "3.12.7"
    },
    "toc": {
      "base_numbering": 1,
      "nav_menu": {},
      "number_sections": true,
      "sideBar": true,
      "skip_h1_title": false,
      "title_cell": "Table of Contents",
      "title_sidebar": "Contents",
      "toc_cell": false,
      "toc_position": {},
      "toc_section_display": true,
      "toc_window_display": false
    }
  },
  "nbformat": 4,
  "nbformat_minor": 0
}
