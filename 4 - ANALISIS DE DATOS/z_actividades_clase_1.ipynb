{
 "cells": [
  {
   "cell_type": "code",
   "execution_count": null,
   "id": "76786678",
   "metadata": {},
   "outputs": [],
   "source": [
    "# Ejercicio I: Base de datos de una escuela en Colombia\n",
    "\n",
    "import pandas as pd\n",
    "import numpy as np\n",
    "\n",
    "df_colegios = pd.read_csv('https://www.datos.gov.co/api/views/qijw-htwa/rows.csv?accessType=DOWNLOAD')\n",
    "\n",
    "df_colegios"
   ]
  },
  {
   "cell_type": "code",
   "execution_count": null,
   "id": "b0b7fb98",
   "metadata": {},
   "outputs": [],
   "source": [
    "# ¿Cuáles son las columnas? ¿Cuántas filas tiene?\n",
    "df_colegios.columns"
   ]
  },
  {
   "cell_type": "code",
   "execution_count": null,
   "id": "4a01bd26",
   "metadata": {},
   "outputs": [],
   "source": [
    "# Seleccionen los colegios donde la propiedad de la planta física sea de una persona natural o comunidad religiosa (usar isin (investigar))\n",
    "df_colegios[df_colegios[\"propiedad_Planta_Fisica\"].isin([\"PERSONA NATURAL\",\t\"COMUNIDAD RELIGIOSA\"])]"
   ]
  },
  {
   "cell_type": "code",
   "execution_count": null,
   "id": "6ca7f145",
   "metadata": {},
   "outputs": [],
   "source": [
    "# Contar los valores no nulos en la columna 'Discapacidades' imprime la info\n",
    "df_colegios[\"discapacidades\"].notnull().sum()"
   ]
  },
  {
   "cell_type": "code",
   "execution_count": null,
   "id": "502a83d5",
   "metadata": {},
   "outputs": [],
   "source": [
    "# Definir los niveles que deseas verificar\n",
    "\n",
    "# Filtrar los colegios que ofrecen los niveles deseados (usar isin)\n",
    "\n",
    "# Imprimir la información de los colegios que ofrecen los niveles deseados\n",
    "df_colegios[\n",
    "    df_colegios[\"niveles\"].str.contains(\"PREESCOLAR\", na=False) &\n",
    "    df_colegios[\"niveles\"].str.contains(\"BÁSICA PRIMARIA\", na=False) &\n",
    "    df_colegios[\"niveles\"].str.contains(\"BÁSICA SECUNDARIA\", na=False)\n",
    "]\n"
   ]
  },
  {
   "cell_type": "markdown",
   "id": "fdbde217",
   "metadata": {},
   "source": [
    "Ejercicio II: PyEPH\n",
    "PyEPH\n",
    "La librería Pyeph tiene como objetivo facilitar el procesamiento en Python de las Encuesta Permanente de Hogares (eph) publicadas por INDEC de forma periódica. Está pensada como un espacio donde se nuclean y centralizan los cálculos vinculados a las mismas para posteriormente ser utilizadas en investigaciones, artículos, publicaciones, etc. Es una librería que hace principal hincapié en la transparencia metodológica utilizando licencias de código abierto y que promueve la colaboración de las comunidades de cientístas de datos, sociales, investigadores, desarrolladores, periodistas y demás curiosos.\n",
    "\n",
    "# Instalamos la librería.\n",
    "\n",
    "!pip install pyeph"
   ]
  },
  {
   "cell_type": "code",
   "execution_count": null,
   "id": "c109d625",
   "metadata": {},
   "outputs": [],
   "source": [
    "import pyeph\n",
    "\n",
    "# Ejemplo: traemos el 2do trimestre del 2021\n",
    "eph = pyeph.get(data=\"eph\", year=2021, period=2, base_type='individual') # EPH individual\n",
    "print(eph.columns.tolist())"
   ]
  },
  {
   "cell_type": "markdown",
   "id": "6e46129c",
   "metadata": {},
   "source": [
    "Primer paso. Crear una variable llamada eph_2 que contenga las siguientes columnas para realizar el siguiente análisis:\n",
    "\n",
    "Edad (CH_06), Sexo (CH_04), Ingreso de la ocupación principal (P21), Categoría ocupacional (CAT_OCUP), Condición de actividad (ESTADO), Ponderación (PONDERA)\n",
    "\n",
    "Referencias:\n",
    "\n",
    "Sexo:\n",
    "\n",
    "01 = Varón\n",
    "02 = Mujer\n",
    "Categoría ocupacional (para ocupados y desocupados con ocupación anterior):\n",
    "\n",
    "1 = Patrón\n",
    "2 = Cuenta propia\n",
    "3 = Obrero o empleado\n",
    "4 = Trabajador familiar sin remuneración\n",
    "9 = Ns/Nr\n",
    "Estado - Condición de actividad:\n",
    "\n",
    "0 = Entrevista individual no realizada\n",
    "1 = Ocupado\n",
    "2 = Descoupado\n",
    "3 = Inactivo\n",
    "4 = menor de 10 años"
   ]
  },
  {
   "cell_type": "code",
   "execution_count": null,
   "id": "5e5d7dfa",
   "metadata": {},
   "outputs": [],
   "source": [
    "#Filtramos por columnas\n",
    "eph[['CH06', 'CH04', 'P21', 'CAT_OCUP', 'ESTADO', 'PONDERA']]"
   ]
  },
  {
   "cell_type": "code",
   "execution_count": null,
   "id": "a8ccaaf6",
   "metadata": {},
   "outputs": [],
   "source": [
    "#Renombramos columnas\n",
    "eph = eph.rename(columns={\n",
    "    'CH06': 'Edad',\n",
    "    'CH04': 'Sexo',\n",
    "    'P21': 'Ingreso de la ocupación principal',\n",
    "    'CAT_OCUP': 'Categoría_ocupacional',\n",
    "    'ESTADO': 'Condición_de_actividad',\n",
    "    'PONDERA': 'Ponderación'\n",
    "})\n",
    "eph[[\"Edad\",\"Sexo\",\"Ingreso de la ocupación principal\",\"Categoría_ocupacional\",\"Condición_de_actividad\",\"Ponderación\"]]\n"
   ]
  },
  {
   "cell_type": "markdown",
   "id": "021923b7",
   "metadata": {},
   "source": [
    "La columna pondera representa un estimado poblacional de las personas que representa cada fila. Por lo tanto, para cada cálculo es necesario operar con esa columna. Por ejemplo, la fila 0 representa a 214 personas de 58 años de sexo masculino, que tienen $50.000 de ingreso de la ocupación principal, su categoría es cuentapropista y pertenecen al segmento de ocupados."
   ]
  },
  {
   "cell_type": "code",
   "execution_count": null,
   "id": "d9be47df",
   "metadata": {},
   "outputs": [],
   "source": [
    "#mirar las primeras filas\n",
    "eph[[\"Edad\",\"Sexo\",\"Ingreso de la ocupación principal\",\"Categoría_ocupacional\",\"Condición_de_actividad\",\"Ponderación\"]].head(10)"
   ]
  },
  {
   "cell_type": "code",
   "execution_count": null,
   "id": "088287b6",
   "metadata": {},
   "outputs": [],
   "source": [
    "# Filtrar las filas donde la edad es mayor a 40 y cat_ocup está presente\n",
    "\n",
    "eph = eph[[\"Edad\",\"Sexo\",\"Ingreso de la ocupación principal\",\"Categoría_ocupacional\",\"Condición_de_actividad\",\"Ponderación\"]]\n",
    "eph = eph.query(\"Edad > 40 and Categoría_ocupacional != ''\")\n",
    "# Imprimir el resultado\n",
    "eph\n"
   ]
  },
  {
   "cell_type": "code",
   "execution_count": null,
   "id": "66bd236d",
   "metadata": {},
   "outputs": [],
   "source": [
    "# Contar la cantidad de hombres y mujeres\n",
    "hombres = eph.query(\"Sexo == 1\").shape[0]  #shape[0] cuenta cuántos hombres hay (cantidad de filas).\n",
    "mujeres = eph.query(\"Sexo == 2\").shape[0]\n",
    "# Imprimir el resultado con etiquetas\n",
    "\n",
    "print(hombres)\n",
    "print(mujeres)\n"
   ]
  },
  {
   "cell_type": "code",
   "execution_count": null,
   "id": "51e8b870",
   "metadata": {},
   "outputs": [],
   "source": [
    "# Filtrar por mujeres\n",
    "mujeres = eph.query(\"Sexo == 2\")\n",
    "\n",
    "# Calcular la suma de ponderaciones para mujeres ocupadas y desocupadas\n",
    "ocupadas = mujeres.query(\"Condición_de_actividad == 1\")\n",
    "desocupadas = mujeres.query(\"Condición_de_actividad == 2\")\n",
    "\n",
    "ocupadas = ocupadas[\"Ponderación\"].sum()\n",
    "desocupadas = desocupadas[\"Ponderación\"].sum()\n",
    "\n",
    "# Obtener la tasa de desocupación\n",
    "tasa = desocupadas / (ocupadas + desocupadas)\n",
    "\n",
    "# Imprimir resultados\n",
    "print(\"Ocupadas:\", ocupadas)\n",
    "print(\"Desocupadas:\", desocupadas)\n",
    "print(\"Tasa de desocupación femenina:\", round(tasa * 100, 2), \"%\")\n",
    "\n"
   ]
  },
  {
   "cell_type": "code",
   "execution_count": null,
   "id": "f6cb3031",
   "metadata": {},
   "outputs": [],
   "source": [
    "def calcular_tasa_desocupacion(dataframe, genero):\n",
    "    \"\"\"\n",
    "    Calcula la tasa de desocupación para un género específico en el período seleccionado.\n",
    "\n",
    "    Parameters:\n",
    "    - dataframe: DataFrame que contiene los datos necesarios (eph_2 en este caso).\n",
    "    - genero: Número que representa el género (1 para Varón, 2 para Mujer).\n",
    "\n",
    "    Returns:\n",
    "    - tasa_desocupacion: Tasa de desocupación para el género especificado.\n",
    "    \"\"\"\n",
    "    # Filtrar por el género especificado\n",
    "    genero_df = dataframe.query(f\"Sexo == {genero}\")\n",
    "\n",
    "    # Calcular la suma de ponderaciones para el género ocupado y desocupado\n",
    "    ocupados = genero_df.query(\"Condición_de_actividad == 1\")\n",
    "    desocupados = genero_df.query(\"Condición_de_actividad == 2\")\n",
    "    \n",
    "    ocupados = ocupados[\"Ponderación\"].sum()\n",
    "    desocupados = desocupados[\"Ponderación\"].sum()\n",
    "\n",
    "    # Calcular la tasa de desocupación\n",
    "    tasa_desocupacion = desocupados / (ocupados + desocupados)\n",
    "\n",
    "    return tasa_desocupacion\n",
    "\n",
    "# Calcular la tasa de desocupación para mujeres\n",
    "tasa = calcular_tasa_desocupacion(eph, 2)\n",
    "\n",
    "print(f\"Tasa de desocupación para mujeres: {tasa}\" )\n"
   ]
  }
 ],
 "metadata": {
  "kernelspec": {
   "display_name": "base",
   "language": "python",
   "name": "python3"
  },
  "language_info": {
   "codemirror_mode": {
    "name": "ipython",
    "version": 3
   },
   "file_extension": ".py",
   "mimetype": "text/x-python",
   "name": "python",
   "nbconvert_exporter": "python",
   "pygments_lexer": "ipython3",
   "version": "3.12.7"
  }
 },
 "nbformat": 4,
 "nbformat_minor": 5
}
