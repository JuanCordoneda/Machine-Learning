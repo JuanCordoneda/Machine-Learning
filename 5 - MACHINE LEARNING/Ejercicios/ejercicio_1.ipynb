{
 "cells": [
  {
   "cell_type": "markdown",
   "metadata": {},
   "source": [
    "# Automatic Zoom\n",
    "## Diplomatura en Machine Learning con Python  \n",
    "### Guía de Ejercicios"
   ]
  },
  {
   "cell_type": "markdown",
   "metadata": {},
   "source": [
    "### Ejercicio 1\n",
    "Crear una matriz de 2X4 utilizando la librería de Numpy. Una vez creada mostrarla en pantalla con la función Print."
   ]
  },
  {
   "cell_type": "code",
   "execution_count": 1,
   "id": "d39bb8bb",
   "metadata": {},
   "outputs": [
    {
     "name": "stdout",
     "output_type": "stream",
     "text": [
      "[[1 2 3 4]\n",
      " [5 6 7 8]]\n"
     ]
    }
   ],
   "source": [
    "import numpy as np\n",
    "\n",
    "matriz = np.array([[1, 2, 3, 4],\n",
    "                   [5, 6, 7, 8]])\n",
    "\n",
    "print(matriz)"
   ]
  },
  {
   "cell_type": "markdown",
   "id": "ea6476c1",
   "metadata": {},
   "source": [
    "### Ejercicio 2\n",
    "Crear una matriz de 2X3 con ceros utilizando la librería de Numpy. Nota: para este ejercicio podemos utilizar la función Zeros(). Probar crear una nueva matriz con la función ones() y ver qué sucede. Para ambos casos utilizar la función print para validar la matriz."
   ]
  },
  {
   "cell_type": "code",
   "execution_count": 2,
   "id": "26b4acc4",
   "metadata": {},
   "outputs": [
    {
     "name": "stdout",
     "output_type": "stream",
     "text": [
      "Matriz de ceros:\n",
      "[[0. 0. 0.]\n",
      " [0. 0. 0.]]\n",
      "\n",
      "Matriz de unos:\n",
      "[[1. 1. 1.]\n",
      " [1. 1. 1.]]\n"
     ]
    }
   ],
   "source": [
    "import numpy as np\n",
    "\n",
    "matriz_ceros = np.zeros((2, 3))\n",
    "matriz_unos = np.ones((2, 3))\n",
    "\n",
    "print(\"Matriz de ceros:\")\n",
    "print(matriz_ceros)\n",
    "\n",
    "print(\"\\nMatriz de unos:\")\n",
    "print(matriz_unos)\n"
   ]
  },
  {
   "cell_type": "markdown",
   "metadata": {},
   "source": [
    "### Ejercicio 3\n",
    "Utilizando la librería de Numpy crear una matriz identidad utilizando la función Eyes()."
   ]
  },
  {
   "cell_type": "code",
   "execution_count": 3,
   "id": "f3cbcac0",
   "metadata": {},
   "outputs": [
    {
     "name": "stdout",
     "output_type": "stream",
     "text": [
      "[[1. 0. 0.]\n",
      " [0. 1. 0.]\n",
      " [0. 0. 1.]]\n"
     ]
    }
   ],
   "source": [
    "import numpy as np\n",
    "\n",
    "matriz_identidad = np.eye(3)\n",
    "print(matriz_identidad)"
   ]
  },
  {
   "cell_type": "markdown",
   "metadata": {},
   "source": [
    "### Ejercicio 4\n",
    "Para la matriz creada en el Ejercicio 1 acceder a la fila Cero. Imprimir en pantalla el resultado."
   ]
  },
  {
   "cell_type": "code",
   "execution_count": 4,
   "id": "1e7b8d4b",
   "metadata": {},
   "outputs": [
    {
     "name": "stdout",
     "output_type": "stream",
     "text": [
      "[1 2 3 4]\n"
     ]
    }
   ],
   "source": [
    "fila_cero = matriz[0]\n",
    "print(fila_cero)"
   ]
  },
  {
   "cell_type": "markdown",
   "metadata": {},
   "source": [
    "### Ejercicio 5\n",
    "Para la matriz creada en el Ejercicio 1 acceder a un elemento específico. Imprimir en pantalla el resultado."
   ]
  },
  {
   "cell_type": "code",
   "execution_count": 5,
   "id": "cacbdedd",
   "metadata": {},
   "outputs": [
    {
     "name": "stdout",
     "output_type": "stream",
     "text": [
      "2\n"
     ]
    }
   ],
   "source": [
    "elemento_especifico = matriz[0, 1]  # por ejemplo, fila 0, columna 1\n",
    "print(elemento_especifico)"
   ]
  },
  {
   "cell_type": "markdown",
   "metadata": {},
   "source": [
    "### Ejercicio 6\n",
    "Probar de acceder a una porción de la fila para la Matriz creada en el Ejercicio 1."
   ]
  },
  {
   "cell_type": "code",
   "execution_count": 6,
   "id": "145d8659",
   "metadata": {},
   "outputs": [
    {
     "name": "stdout",
     "output_type": "stream",
     "text": [
      "[2 3]\n"
     ]
    }
   ],
   "source": [
    "porcion_fila = matriz[0, 1:3]  # elementos de la fila 0, columnas 1 y 2\n",
    "print(porcion_fila)"
   ]
  },
  {
   "cell_type": "markdown",
   "metadata": {},
   "source": [
    "### Ejercicio 7\n",
    "Probar de acceder a una porción de la columna para la matriz creada en el Ejercicio 1."
   ]
  },
  {
   "cell_type": "markdown",
   "metadata": {},
   "source": [
    "### Ejercicio 8\n",
    "Probar la función Size() para la matriz creada en el ejercicio 1 y ver que devuelve."
   ]
  },
  {
   "cell_type": "code",
   "execution_count": null,
   "id": "09855b0d",
   "metadata": {},
   "outputs": [],
   "source": [
    "porcion_columna = matriz[0:2, 2]  # elementos de la columna 2, filas 0 y 1\n",
    "print(porcion_columna)"
   ]
  },
  {
   "cell_type": "markdown",
   "metadata": {},
   "source": [
    "### Ejercicio 9\n",
    "Probar la función Shape() para la matriz creada en el ejercicio 1 y ver que devuelve."
   ]
  },
  {
   "cell_type": "code",
   "execution_count": 7,
   "id": "8855e407",
   "metadata": {},
   "outputs": [
    {
     "name": "stdout",
     "output_type": "stream",
     "text": [
      "(2, 4)\n"
     ]
    }
   ],
   "source": [
    "print(matriz.shape)"
   ]
  },
  {
   "cell_type": "markdown",
   "metadata": {},
   "source": [
    "### Ejercicio 10\n",
    "Obtener el número Máximo de la matriz creada en el ejercicio 1."
   ]
  },
  {
   "cell_type": "markdown",
   "metadata": {},
   "source": [
    "### Ejercicio 11\n",
    "Obtener el número Mínimo de la matriz creada en el ejercicio 1."
   ]
  },
  {
   "cell_type": "markdown",
   "metadata": {},
   "source": [
    "### Ejercicio 12\n",
    "Obtener la media para la matriz creada en el ejercicio 1."
   ]
  },
  {
   "cell_type": "markdown",
   "metadata": {},
   "source": [
    "### Ejercicio 13\n",
    "Modificar el elemento de la fila 1 columna 0 y colocar el valor 10."
   ]
  },
  {
   "cell_type": "markdown",
   "metadata": {},
   "source": [
    "### Ejercicio 14\n",
    "Sustituir la fila 0 de la matriz creada en el Ejercicio 1 por los valores (10, 20, 30, 40)."
   ]
  },
  {
   "cell_type": "markdown",
   "metadata": {},
   "source": [
    "### Ejercicio 15\n",
    "Crear una nueva matriz de 2X2 y luego convertir la matriz en un vector utilizando la función flatten()."
   ]
  },
  {
   "cell_type": "markdown",
   "metadata": {},
   "source": [
    "### Ejercicio 16\n",
    "Para la matriz creada en el Ejercicio 15 obtener su traspuesta."
   ]
  },
  {
   "cell_type": "markdown",
   "metadata": {},
   "source": [
    "### Ejercicio 17\n",
    "Crear 2 matrices y realizar la multiplicación entre ambas."
   ]
  }
 ],
 "metadata": {
  "kernelspec": {
   "display_name": "base",
   "language": "python",
   "name": "python3"
  },
  "language_info": {
   "codemirror_mode": {
    "name": "ipython",
    "version": 3
   },
   "file_extension": ".py",
   "mimetype": "text/x-python",
   "name": "python",
   "nbconvert_exporter": "python",
   "pygments_lexer": "ipython3",
   "version": "3.12.7"
  }
 },
 "nbformat": 4,
 "nbformat_minor": 5
}
