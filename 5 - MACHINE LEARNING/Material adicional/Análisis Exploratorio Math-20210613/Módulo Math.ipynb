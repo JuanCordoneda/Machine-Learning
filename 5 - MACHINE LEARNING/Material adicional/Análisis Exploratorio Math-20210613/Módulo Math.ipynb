{
 "cells": [
  {
   "cell_type": "markdown",
   "metadata": {},
   "source": [
    "**¿Qué Librería vamos a usar?** Math/Cmath\n",
    "\n",
    "**¿Cómo instalo?**\n",
    "\n",
    "    *pip install python-math/cmath\n",
    "    *conda install math/cmath\n",
    "\n",
    "En la librería Math disponemos de varias funciones que nos permiten realizar funciones aritméticas, funciones trigonométricas, \n",
    "\n",
    "    Funciones Hiperbólicas, Funciones logarítmicas y potencias.\n",
    "   **Revisemos algunas  funciones:**\n",
    "        floor(x)  Redondeo hacia abajo, devolverá el entero mayor menor o igual a x\n",
    "        \n",
    "        ceil(x) Redondeo hacia arriba, devolverá el entero menor que sea mayor o igual que x.\n",
    "        \n",
    "        fabs(x) Valor absoluto, devolverá el valor absoluto de x.\n",
    "        \n",
    "        Factorial(x) calcular el factorial de un número utilizando la función). Un factorial es el producto de un entero y de todos los enteros positivos más pequeños que él. Se suele utilizar en combinaciones y permutaciones.\n",
    "        \n",
    "        sin(x)Devuelve el Seno\n",
    "        \n",
    "        cos(x)Devuelve el Coseno\n",
    "        \n",
    "        tan(x)Devuelve la Tangente\n",
    "        \n",
    "        hypot(a,b)Devuelve la Hipotenusa\n",
    "        \n",
    "        Para las inversas tenemos asen(x), acos(x), atan(x)\n",
    "        \n",
    "        Sqrt(x)Calcular la raíz cuadrada\n",
    "        \n",
    "        Pow(x,y)numero de x elevado a la potencia de y\n",
    "        \n",
    "        Log(x,10)logaritmo base 10\n",
    "        \n",
    "        Log(x,2)logaritmo base 2\n",
    "\n",
    "https://docs.python.org/3/library/math.html"
   ]
  },
  {
   "cell_type": "code",
   "execution_count": 10,
   "metadata": {},
   "outputs": [
    {
     "data": {
      "text/plain": [
       "2"
      ]
     },
     "execution_count": 10,
     "metadata": {},
     "output_type": "execute_result"
    }
   ],
   "source": [
    "import math\n",
    "import cmath\n",
    " \n",
    "math.ceil(1.001)    # Devuelve 2"
   ]
  },
  {
   "cell_type": "code",
   "execution_count": 7,
   "metadata": {},
   "outputs": [
    {
     "data": {
      "text/plain": [
       "1"
      ]
     },
     "execution_count": 7,
     "metadata": {},
     "output_type": "execute_result"
    }
   ],
   "source": [
    "math.floor(1.001)   # Devuelve 1"
   ]
  },
  {
   "cell_type": "code",
   "execution_count": 8,
   "metadata": {},
   "outputs": [
    {
     "data": {
      "text/plain": [
       "3628800"
      ]
     },
     "execution_count": 8,
     "metadata": {},
     "output_type": "execute_result"
    }
   ],
   "source": [
    "math.factorial(10)  # Devuelve  3628800"
   ]
  },
  {
   "cell_type": "code",
   "execution_count": 9,
   "metadata": {},
   "outputs": [
    {
     "data": {
      "text/plain": [
       "1"
      ]
     },
     "execution_count": 9,
     "metadata": {},
     "output_type": "execute_result"
    }
   ],
   "source": [
    "math.trunc(1.001)   # Devuelve  1"
   ]
  },
  {
   "cell_type": "code",
   "execution_count": 5,
   "metadata": {},
   "outputs": [
    {
     "data": {
      "text/plain": [
       "1"
      ]
     },
     "execution_count": 5,
     "metadata": {},
     "output_type": "execute_result"
    }
   ],
   "source": [
    "math.trunc(1.999)   # Devuelve 1"
   ]
  },
  {
   "cell_type": "code",
   "execution_count": null,
   "metadata": {},
   "outputs": [],
   "source": []
  }
 ],
 "metadata": {
  "kernelspec": {
   "display_name": "Python 3",
   "language": "python",
   "name": "python3"
  },
  "language_info": {
   "codemirror_mode": {
    "name": "ipython",
    "version": 3
   },
   "file_extension": ".py",
   "mimetype": "text/x-python",
   "name": "python",
   "nbconvert_exporter": "python",
   "pygments_lexer": "ipython3",
   "version": "3.8.3"
  }
 },
 "nbformat": 4,
 "nbformat_minor": 4
}
