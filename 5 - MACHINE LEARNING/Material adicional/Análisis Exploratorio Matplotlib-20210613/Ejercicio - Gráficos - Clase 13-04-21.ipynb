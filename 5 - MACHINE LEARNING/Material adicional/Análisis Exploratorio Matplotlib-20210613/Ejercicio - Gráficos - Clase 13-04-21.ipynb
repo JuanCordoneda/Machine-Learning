{
 "cells": [
  {
   "cell_type": "markdown",
   "metadata": {},
   "source": [
    "Dado el set de Datos casasboston.csv se pide generar gráficos de (Usar Librería de Pandas y matplotlib\n",
    "    \n",
    "    -Renombrar las columnas \n",
    "    df = datos.rename(columns={\n",
    "\t\"TOWN\":\"CIUDAD\",\n",
    "\t\"CRIM\":\"INDICE_CRIMEN\",\t\n",
    "\t\"INDUS\":\"PCT_ZONA_INDUSTRIAL\",\n",
    "\t\"CHAS\":\"RIO_CHARLES\",\n",
    "\t\"RM\":\"N_HABITACIONES_MEDIO\",\n",
    "\t\"MEDV\":\"VALOR_MEDIANO\",\n",
    "\t\"LSTAT\":\"PCT_CLASE_BAJA\"})\n",
    "    -Histograma - donde se muestre el indicador N_HABITACIONES_MEDIO (.plot.hist)\n",
    "    -Gráfico de Barras donde se muestre el Indicador Índice del Crimen (.plot.barh)\n",
    "    -Gráfico tipo scatter donde se muestre en el eje x = \"Indice del Crimen\" y en el eje Y = \"Valor Mediano\" (.plot.scatter)\n",
    "    -Gráfico agrupado por Ciudad y Valor Mediano con el mean.\n",
    "    -Gráfico de Tortas con la dimensión Rio Charles..."
   ]
  },
  {
   "cell_type": "code",
   "execution_count": null,
   "metadata": {},
   "outputs": [],
   "source": []
  }
 ],
 "metadata": {
  "kernelspec": {
   "display_name": "Python 3",
   "language": "python",
   "name": "python3"
  },
  "language_info": {
   "codemirror_mode": {
    "name": "ipython",
    "version": 3
   },
   "file_extension": ".py",
   "mimetype": "text/x-python",
   "name": "python",
   "nbconvert_exporter": "python",
   "pygments_lexer": "ipython3",
   "version": "3.8.3"
  }
 },
 "nbformat": 4,
 "nbformat_minor": 4
}
